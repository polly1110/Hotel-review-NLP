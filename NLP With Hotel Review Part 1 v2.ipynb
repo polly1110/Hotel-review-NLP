{
 "cells": [
  {
   "cell_type": "markdown",
   "id": "f7364862",
   "metadata": {},
   "source": [
    "# NLP With Hotel Review Part 1"
   ]
  },
  {
   "cell_type": "markdown",
   "id": "f84df177",
   "metadata": {},
   "source": [
    "# EDA"
   ]
  },
  {
   "cell_type": "code",
   "execution_count": 1,
   "id": "87bd3bb1",
   "metadata": {},
   "outputs": [],
   "source": [
    "# library\n",
    "import numpy as np\n",
    "import pandas as pd\n",
    "import matplotlib.pyplot as plt\n",
    "from sklearn.model_selection import train_test_split\n",
    "\n",
    "import nltk\n",
    "from nltk.tokenize import word_tokenize\n",
    "from nltk.corpus import stopwords\n",
    "from sklearn.feature_extraction.text import CountVectorizer\n",
    "\n",
    "import string\n",
    "\n",
    "\n",
    "import seaborn as sns\n",
    "sns.set(style=\"darkgrid\")"
   ]
  },
  {
   "cell_type": "code",
   "execution_count": 4,
   "id": "1d42c8ed",
   "metadata": {},
   "outputs": [],
   "source": [
    "# load data\n",
    "hotel_df=pd.read_csv(\"data/Hotel_Reviews.csv\")"
   ]
  },
  {
   "cell_type": "markdown",
   "id": "ca94abef",
   "metadata": {},
   "source": [
    "## 1.The target column of interest is Reviewer_Score."
   ]
  },
  {
   "cell_type": "markdown",
   "id": "db6a8aa7",
   "metadata": {},
   "source": [
    "### a. What is the shape of the dataset?"
   ]
  },
  {
   "cell_type": "code",
   "execution_count": 5,
   "id": "276b12ab",
   "metadata": {},
   "outputs": [
    {
     "data": {
      "text/plain": [
       "(515738, 17)"
      ]
     },
     "execution_count": 5,
     "metadata": {},
     "output_type": "execute_result"
    }
   ],
   "source": [
    "hotel_df.shape"
   ]
  },
  {
   "cell_type": "code",
   "execution_count": 6,
   "id": "2a6ba412",
   "metadata": {},
   "outputs": [
    {
     "name": "stdout",
     "output_type": "stream",
     "text": [
      "hotel_df dataset has 515738 rows and 17 columns.\n"
     ]
    }
   ],
   "source": [
    "print(f\"hotel_df dataset has {hotel_df.shape[0]} rows and {hotel_df.shape[1]} columns.\")"
   ]
  },
  {
   "cell_type": "code",
   "execution_count": 6,
   "id": "c74bd831",
   "metadata": {},
   "outputs": [
    {
     "data": {
      "text/html": [
       "<div>\n",
       "<style scoped>\n",
       "    .dataframe tbody tr th:only-of-type {\n",
       "        vertical-align: middle;\n",
       "    }\n",
       "\n",
       "    .dataframe tbody tr th {\n",
       "        vertical-align: top;\n",
       "    }\n",
       "\n",
       "    .dataframe thead th {\n",
       "        text-align: right;\n",
       "    }\n",
       "</style>\n",
       "<table border=\"1\" class=\"dataframe\">\n",
       "  <thead>\n",
       "    <tr style=\"text-align: right;\">\n",
       "      <th></th>\n",
       "      <th>Hotel_Address</th>\n",
       "      <th>Additional_Number_of_Scoring</th>\n",
       "      <th>Review_Date</th>\n",
       "      <th>Average_Score</th>\n",
       "      <th>Hotel_Name</th>\n",
       "      <th>Reviewer_Nationality</th>\n",
       "      <th>Negative_Review</th>\n",
       "      <th>Review_Total_Negative_Word_Counts</th>\n",
       "      <th>Total_Number_of_Reviews</th>\n",
       "      <th>Positive_Review</th>\n",
       "      <th>Review_Total_Positive_Word_Counts</th>\n",
       "      <th>Total_Number_of_Reviews_Reviewer_Has_Given</th>\n",
       "      <th>Reviewer_Score</th>\n",
       "      <th>Tags</th>\n",
       "      <th>days_since_review</th>\n",
       "      <th>lat</th>\n",
       "      <th>lng</th>\n",
       "    </tr>\n",
       "  </thead>\n",
       "  <tbody>\n",
       "    <tr>\n",
       "      <th>0</th>\n",
       "      <td>s Gravesandestraat 55 Oost 1092 AA Amsterdam ...</td>\n",
       "      <td>194</td>\n",
       "      <td>8/3/2017</td>\n",
       "      <td>7.7</td>\n",
       "      <td>Hotel Arena</td>\n",
       "      <td>Russia</td>\n",
       "      <td>I am so angry that i made this post available...</td>\n",
       "      <td>397</td>\n",
       "      <td>1403</td>\n",
       "      <td>Only the park outside of the hotel was beauti...</td>\n",
       "      <td>11</td>\n",
       "      <td>7</td>\n",
       "      <td>2.9</td>\n",
       "      <td>[' Leisure trip ', ' Couple ', ' Duplex Double...</td>\n",
       "      <td>0 days</td>\n",
       "      <td>52.360576</td>\n",
       "      <td>4.915968</td>\n",
       "    </tr>\n",
       "    <tr>\n",
       "      <th>1</th>\n",
       "      <td>s Gravesandestraat 55 Oost 1092 AA Amsterdam ...</td>\n",
       "      <td>194</td>\n",
       "      <td>8/3/2017</td>\n",
       "      <td>7.7</td>\n",
       "      <td>Hotel Arena</td>\n",
       "      <td>Ireland</td>\n",
       "      <td>No Negative</td>\n",
       "      <td>0</td>\n",
       "      <td>1403</td>\n",
       "      <td>No real complaints the hotel was great great ...</td>\n",
       "      <td>105</td>\n",
       "      <td>7</td>\n",
       "      <td>7.5</td>\n",
       "      <td>[' Leisure trip ', ' Couple ', ' Duplex Double...</td>\n",
       "      <td>0 days</td>\n",
       "      <td>52.360576</td>\n",
       "      <td>4.915968</td>\n",
       "    </tr>\n",
       "    <tr>\n",
       "      <th>2</th>\n",
       "      <td>s Gravesandestraat 55 Oost 1092 AA Amsterdam ...</td>\n",
       "      <td>194</td>\n",
       "      <td>7/31/2017</td>\n",
       "      <td>7.7</td>\n",
       "      <td>Hotel Arena</td>\n",
       "      <td>Australia</td>\n",
       "      <td>Rooms are nice but for elderly a bit difficul...</td>\n",
       "      <td>42</td>\n",
       "      <td>1403</td>\n",
       "      <td>Location was good and staff were ok It is cut...</td>\n",
       "      <td>21</td>\n",
       "      <td>9</td>\n",
       "      <td>7.1</td>\n",
       "      <td>[' Leisure trip ', ' Family with young childre...</td>\n",
       "      <td>3 days</td>\n",
       "      <td>52.360576</td>\n",
       "      <td>4.915968</td>\n",
       "    </tr>\n",
       "    <tr>\n",
       "      <th>3</th>\n",
       "      <td>s Gravesandestraat 55 Oost 1092 AA Amsterdam ...</td>\n",
       "      <td>194</td>\n",
       "      <td>7/31/2017</td>\n",
       "      <td>7.7</td>\n",
       "      <td>Hotel Arena</td>\n",
       "      <td>United Kingdom</td>\n",
       "      <td>My room was dirty and I was afraid to walk ba...</td>\n",
       "      <td>210</td>\n",
       "      <td>1403</td>\n",
       "      <td>Great location in nice surroundings the bar a...</td>\n",
       "      <td>26</td>\n",
       "      <td>1</td>\n",
       "      <td>3.8</td>\n",
       "      <td>[' Leisure trip ', ' Solo traveler ', ' Duplex...</td>\n",
       "      <td>3 days</td>\n",
       "      <td>52.360576</td>\n",
       "      <td>4.915968</td>\n",
       "    </tr>\n",
       "    <tr>\n",
       "      <th>4</th>\n",
       "      <td>s Gravesandestraat 55 Oost 1092 AA Amsterdam ...</td>\n",
       "      <td>194</td>\n",
       "      <td>7/24/2017</td>\n",
       "      <td>7.7</td>\n",
       "      <td>Hotel Arena</td>\n",
       "      <td>New Zealand</td>\n",
       "      <td>You When I booked with your company on line y...</td>\n",
       "      <td>140</td>\n",
       "      <td>1403</td>\n",
       "      <td>Amazing location and building Romantic setting</td>\n",
       "      <td>8</td>\n",
       "      <td>3</td>\n",
       "      <td>6.7</td>\n",
       "      <td>[' Leisure trip ', ' Couple ', ' Suite ', ' St...</td>\n",
       "      <td>10 days</td>\n",
       "      <td>52.360576</td>\n",
       "      <td>4.915968</td>\n",
       "    </tr>\n",
       "  </tbody>\n",
       "</table>\n",
       "</div>"
      ],
      "text/plain": [
       "                                       Hotel_Address  \\\n",
       "0   s Gravesandestraat 55 Oost 1092 AA Amsterdam ...   \n",
       "1   s Gravesandestraat 55 Oost 1092 AA Amsterdam ...   \n",
       "2   s Gravesandestraat 55 Oost 1092 AA Amsterdam ...   \n",
       "3   s Gravesandestraat 55 Oost 1092 AA Amsterdam ...   \n",
       "4   s Gravesandestraat 55 Oost 1092 AA Amsterdam ...   \n",
       "\n",
       "   Additional_Number_of_Scoring Review_Date  Average_Score   Hotel_Name  \\\n",
       "0                           194    8/3/2017            7.7  Hotel Arena   \n",
       "1                           194    8/3/2017            7.7  Hotel Arena   \n",
       "2                           194   7/31/2017            7.7  Hotel Arena   \n",
       "3                           194   7/31/2017            7.7  Hotel Arena   \n",
       "4                           194   7/24/2017            7.7  Hotel Arena   \n",
       "\n",
       "  Reviewer_Nationality                                    Negative_Review  \\\n",
       "0              Russia    I am so angry that i made this post available...   \n",
       "1             Ireland                                         No Negative   \n",
       "2           Australia    Rooms are nice but for elderly a bit difficul...   \n",
       "3      United Kingdom    My room was dirty and I was afraid to walk ba...   \n",
       "4         New Zealand    You When I booked with your company on line y...   \n",
       "\n",
       "   Review_Total_Negative_Word_Counts  Total_Number_of_Reviews  \\\n",
       "0                                397                     1403   \n",
       "1                                  0                     1403   \n",
       "2                                 42                     1403   \n",
       "3                                210                     1403   \n",
       "4                                140                     1403   \n",
       "\n",
       "                                     Positive_Review  \\\n",
       "0   Only the park outside of the hotel was beauti...   \n",
       "1   No real complaints the hotel was great great ...   \n",
       "2   Location was good and staff were ok It is cut...   \n",
       "3   Great location in nice surroundings the bar a...   \n",
       "4    Amazing location and building Romantic setting    \n",
       "\n",
       "   Review_Total_Positive_Word_Counts  \\\n",
       "0                                 11   \n",
       "1                                105   \n",
       "2                                 21   \n",
       "3                                 26   \n",
       "4                                  8   \n",
       "\n",
       "   Total_Number_of_Reviews_Reviewer_Has_Given  Reviewer_Score  \\\n",
       "0                                           7             2.9   \n",
       "1                                           7             7.5   \n",
       "2                                           9             7.1   \n",
       "3                                           1             3.8   \n",
       "4                                           3             6.7   \n",
       "\n",
       "                                                Tags days_since_review  \\\n",
       "0  [' Leisure trip ', ' Couple ', ' Duplex Double...            0 days   \n",
       "1  [' Leisure trip ', ' Couple ', ' Duplex Double...            0 days   \n",
       "2  [' Leisure trip ', ' Family with young childre...            3 days   \n",
       "3  [' Leisure trip ', ' Solo traveler ', ' Duplex...            3 days   \n",
       "4  [' Leisure trip ', ' Couple ', ' Suite ', ' St...           10 days   \n",
       "\n",
       "         lat       lng  \n",
       "0  52.360576  4.915968  \n",
       "1  52.360576  4.915968  \n",
       "2  52.360576  4.915968  \n",
       "3  52.360576  4.915968  \n",
       "4  52.360576  4.915968  "
      ]
     },
     "execution_count": 6,
     "metadata": {},
     "output_type": "execute_result"
    }
   ],
   "source": [
    "hotel_df.head()"
   ]
  },
  {
   "cell_type": "code",
   "execution_count": 7,
   "id": "c41a1c48",
   "metadata": {},
   "outputs": [
    {
     "name": "stdout",
     "output_type": "stream",
     "text": [
      "<class 'pandas.core.frame.DataFrame'>\n",
      "RangeIndex: 515738 entries, 0 to 515737\n",
      "Data columns (total 17 columns):\n",
      " #   Column                                      Non-Null Count   Dtype  \n",
      "---  ------                                      --------------   -----  \n",
      " 0   Hotel_Address                               515738 non-null  object \n",
      " 1   Additional_Number_of_Scoring                515738 non-null  int64  \n",
      " 2   Review_Date                                 515738 non-null  object \n",
      " 3   Average_Score                               515738 non-null  float64\n",
      " 4   Hotel_Name                                  515738 non-null  object \n",
      " 5   Reviewer_Nationality                        515738 non-null  object \n",
      " 6   Negative_Review                             515738 non-null  object \n",
      " 7   Review_Total_Negative_Word_Counts           515738 non-null  int64  \n",
      " 8   Total_Number_of_Reviews                     515738 non-null  int64  \n",
      " 9   Positive_Review                             515738 non-null  object \n",
      " 10  Review_Total_Positive_Word_Counts           515738 non-null  int64  \n",
      " 11  Total_Number_of_Reviews_Reviewer_Has_Given  515738 non-null  int64  \n",
      " 12  Reviewer_Score                              515738 non-null  float64\n",
      " 13  Tags                                        515738 non-null  object \n",
      " 14  days_since_review                           515738 non-null  object \n",
      " 15  lat                                         512470 non-null  float64\n",
      " 16  lng                                         512470 non-null  float64\n",
      "dtypes: float64(4), int64(5), object(8)\n",
      "memory usage: 66.9+ MB\n"
     ]
    }
   ],
   "source": [
    "hotel_df.info()"
   ]
  },
  {
   "cell_type": "code",
   "execution_count": 8,
   "id": "d135ce31",
   "metadata": {},
   "outputs": [
    {
     "data": {
      "text/plain": [
       "Hotel_Address                                 0.000000\n",
       "Additional_Number_of_Scoring                  0.000000\n",
       "Review_Date                                   0.000000\n",
       "Average_Score                                 0.000000\n",
       "Hotel_Name                                    0.000000\n",
       "Reviewer_Nationality                          0.000000\n",
       "Negative_Review                               0.000000\n",
       "Review_Total_Negative_Word_Counts             0.000000\n",
       "Total_Number_of_Reviews                       0.000000\n",
       "Positive_Review                               0.000000\n",
       "Review_Total_Positive_Word_Counts             0.000000\n",
       "Total_Number_of_Reviews_Reviewer_Has_Given    0.000000\n",
       "Reviewer_Score                                0.000000\n",
       "Tags                                          0.000000\n",
       "days_since_review                             0.000000\n",
       "lat                                           0.006337\n",
       "lng                                           0.006337\n",
       "dtype: float64"
      ]
     },
     "execution_count": 8,
     "metadata": {},
     "output_type": "execute_result"
    }
   ],
   "source": [
    "hotel_df.isna().mean()"
   ]
  },
  {
   "cell_type": "code",
   "execution_count": 9,
   "id": "89a974a8",
   "metadata": {},
   "outputs": [
    {
     "data": {
      "text/plain": [
       "526"
      ]
     },
     "execution_count": 9,
     "metadata": {},
     "output_type": "execute_result"
    }
   ],
   "source": [
    "hotel_df.duplicated().sum() # 526 duplicated rows"
   ]
  },
  {
   "cell_type": "code",
   "execution_count": 10,
   "id": "03389dd3",
   "metadata": {},
   "outputs": [],
   "source": [
    "hotel_df=hotel_df.drop_duplicates() # drop duplicatwed rows"
   ]
  },
  {
   "cell_type": "code",
   "execution_count": 11,
   "id": "f1b252dd",
   "metadata": {},
   "outputs": [
    {
     "data": {
      "text/plain": [
       "0"
      ]
     },
     "execution_count": 11,
     "metadata": {},
     "output_type": "execute_result"
    }
   ],
   "source": [
    "hotel_df.duplicated().T.sum() # no duplicated columns"
   ]
  },
  {
   "cell_type": "code",
   "execution_count": 7,
   "id": "d81fad28",
   "metadata": {},
   "outputs": [
    {
     "name": "stdout",
     "output_type": "stream",
     "text": [
      "After clean the hotel_df dataset has 515738 rows and 17 columns.\n"
     ]
    }
   ],
   "source": [
    "print(f\"After clean the hotel_df dataset has {hotel_df.shape[0]} rows and {hotel_df.shape[1]} columns.\")"
   ]
  },
  {
   "cell_type": "markdown",
   "id": "57cff307",
   "metadata": {},
   "source": [
    "### b.The reviews provided are all given as decimal values. Convert them into integers from 1 to 10"
   ]
  },
  {
   "cell_type": "code",
   "execution_count": 13,
   "id": "d4c8d562",
   "metadata": {},
   "outputs": [],
   "source": [
    "hotel_round=hotel_df.copy()"
   ]
  },
  {
   "cell_type": "code",
   "execution_count": 14,
   "id": "55207abd",
   "metadata": {},
   "outputs": [],
   "source": [
    "# convert column Reviewer_Score into 1-10 int\n",
    "hotel_round['Reviewer_Score']=hotel_round['Reviewer_Score'].round(0).astype(int)"
   ]
  },
  {
   "cell_type": "code",
   "execution_count": 15,
   "id": "f3103ca8",
   "metadata": {},
   "outputs": [
    {
     "data": {
      "text/html": [
       "<div>\n",
       "<style scoped>\n",
       "    .dataframe tbody tr th:only-of-type {\n",
       "        vertical-align: middle;\n",
       "    }\n",
       "\n",
       "    .dataframe tbody tr th {\n",
       "        vertical-align: top;\n",
       "    }\n",
       "\n",
       "    .dataframe thead th {\n",
       "        text-align: right;\n",
       "    }\n",
       "</style>\n",
       "<table border=\"1\" class=\"dataframe\">\n",
       "  <thead>\n",
       "    <tr style=\"text-align: right;\">\n",
       "      <th></th>\n",
       "      <th>Hotel_Address</th>\n",
       "      <th>Additional_Number_of_Scoring</th>\n",
       "      <th>Review_Date</th>\n",
       "      <th>Average_Score</th>\n",
       "      <th>Hotel_Name</th>\n",
       "      <th>Reviewer_Nationality</th>\n",
       "      <th>Negative_Review</th>\n",
       "      <th>Review_Total_Negative_Word_Counts</th>\n",
       "      <th>Total_Number_of_Reviews</th>\n",
       "      <th>Positive_Review</th>\n",
       "      <th>Review_Total_Positive_Word_Counts</th>\n",
       "      <th>Total_Number_of_Reviews_Reviewer_Has_Given</th>\n",
       "      <th>Reviewer_Score</th>\n",
       "      <th>Tags</th>\n",
       "      <th>days_since_review</th>\n",
       "      <th>lat</th>\n",
       "      <th>lng</th>\n",
       "    </tr>\n",
       "  </thead>\n",
       "  <tbody>\n",
       "    <tr>\n",
       "      <th>25466</th>\n",
       "      <td>100 Queen s Gate Kensington and Chelsea London...</td>\n",
       "      <td>541</td>\n",
       "      <td>10/17/2015</td>\n",
       "      <td>8.0</td>\n",
       "      <td>Doubletree by Hilton London Kensington</td>\n",
       "      <td>United Kingdom</td>\n",
       "      <td>The noise from the corridor outside the room ...</td>\n",
       "      <td>17</td>\n",
       "      <td>2367</td>\n",
       "      <td>The location</td>\n",
       "      <td>3</td>\n",
       "      <td>13</td>\n",
       "      <td>7</td>\n",
       "      <td>[' Business trip ', ' Couple ', ' Club Double ...</td>\n",
       "      <td>656 day</td>\n",
       "      <td>51.492514</td>\n",
       "      <td>-0.178792</td>\n",
       "    </tr>\n",
       "  </tbody>\n",
       "</table>\n",
       "</div>"
      ],
      "text/plain": [
       "                                           Hotel_Address  \\\n",
       "25466  100 Queen s Gate Kensington and Chelsea London...   \n",
       "\n",
       "       Additional_Number_of_Scoring Review_Date  Average_Score  \\\n",
       "25466                           541  10/17/2015            8.0   \n",
       "\n",
       "                                   Hotel_Name Reviewer_Nationality  \\\n",
       "25466  Doubletree by Hilton London Kensington      United Kingdom    \n",
       "\n",
       "                                         Negative_Review  \\\n",
       "25466   The noise from the corridor outside the room ...   \n",
       "\n",
       "       Review_Total_Negative_Word_Counts  Total_Number_of_Reviews  \\\n",
       "25466                                 17                     2367   \n",
       "\n",
       "      Positive_Review  Review_Total_Positive_Word_Counts  \\\n",
       "25466    The location                                  3   \n",
       "\n",
       "       Total_Number_of_Reviews_Reviewer_Has_Given  Reviewer_Score  \\\n",
       "25466                                          13               7   \n",
       "\n",
       "                                                    Tags days_since_review  \\\n",
       "25466  [' Business trip ', ' Couple ', ' Club Double ...           656 day   \n",
       "\n",
       "             lat       lng  \n",
       "25466  51.492514 -0.178792  "
      ]
     },
     "execution_count": 15,
     "metadata": {},
     "output_type": "execute_result"
    }
   ],
   "source": [
    "hotel_round.sample() # check if Reviewer_Score has been covert into num 1-10"
   ]
  },
  {
   "cell_type": "markdown",
   "id": "b36ee7f7",
   "metadata": {},
   "source": [
    "### c. The reviews are scored from 1 to 10. What do you expect the distribution of scores to look like? What is the actual distribution of reviews?"
   ]
  },
  {
   "cell_type": "code",
   "execution_count": 16,
   "id": "c68c31b1",
   "metadata": {},
   "outputs": [
    {
     "data": {
      "image/png": "[encoded data removed]",
      "text/plain": [
       "<Figure size 432x288 with 1 Axes>"
      ]
     },
     "metadata": {},
     "output_type": "display_data"
    }
   ],
   "source": [
    "# distribution of rounded Reviewer_Score\n",
    "hotel_round['Reviewer_Score'].plot(kind='hist')\n",
    "plt.xlabel(\"Reviewer_Score\")\n",
    "plt.title(\"distribution of rounded Reviewer_Score\",fontsize=13)\n",
    "plt.axvline(x=hotel_round['Reviewer_Score'].mean(), color='r', linestyle='-')\n",
    "plt.show()\n"
   ]
  },
  {
   "cell_type": "code",
   "execution_count": 17,
   "id": "3cc3d1a0",
   "metadata": {},
   "outputs": [
    {
     "data": {
      "text/plain": [
       "110035"
      ]
     },
     "execution_count": 17,
     "metadata": {},
     "output_type": "execute_result"
    }
   ],
   "source": [
    "(hotel_round['Reviewer_Score']==8).sum()"
   ]
  },
  {
   "cell_type": "code",
   "execution_count": 18,
   "id": "8fc40e49",
   "metadata": {},
   "outputs": [
    {
     "data": {
      "text/html": [
       "<div>\n",
       "<style scoped>\n",
       "    .dataframe tbody tr th:only-of-type {\n",
       "        vertical-align: middle;\n",
       "    }\n",
       "\n",
       "    .dataframe tbody tr th {\n",
       "        vertical-align: top;\n",
       "    }\n",
       "\n",
       "    .dataframe thead th {\n",
       "        text-align: right;\n",
       "    }\n",
       "</style>\n",
       "<table border=\"1\" class=\"dataframe\">\n",
       "  <thead>\n",
       "    <tr style=\"text-align: right;\">\n",
       "      <th></th>\n",
       "      <th>Reviewer_Score</th>\n",
       "    </tr>\n",
       "  </thead>\n",
       "  <tbody>\n",
       "    <tr>\n",
       "      <th>mean</th>\n",
       "      <td>8.458019</td>\n",
       "    </tr>\n",
       "    <tr>\n",
       "      <th>median</th>\n",
       "      <td>9.000000</td>\n",
       "    </tr>\n",
       "  </tbody>\n",
       "</table>\n",
       "</div>"
      ],
      "text/plain": [
       "        Reviewer_Score\n",
       "mean          8.458019\n",
       "median        9.000000"
      ]
     },
     "execution_count": 18,
     "metadata": {},
     "output_type": "execute_result"
    }
   ],
   "source": [
    "hotel_round['Reviewer_Score'].agg(['mean','median']).to_frame()"
   ]
  },
  {
   "cell_type": "code",
   "execution_count": 19,
   "id": "db066b98",
   "metadata": {},
   "outputs": [
    {
     "data": {
      "image/png": "[encoded data removed]",
      "text/plain": [
       "<Figure size 432x288 with 1 Axes>"
      ]
     },
     "metadata": {},
     "output_type": "display_data"
    }
   ],
   "source": [
    "hotel_df['Reviewer_Score'].plot(kind='hist')\n",
    "plt.xlabel(\"Reviewer_Score\")\n",
    "plt.title(\"distribution of real Reviewer_Score\",fontsize=13)\n",
    "plt.axvline(x=hotel_df['Reviewer_Score'].mean(), color='r', linestyle='-')\n",
    "plt.show()"
   ]
  },
  {
   "cell_type": "code",
   "execution_count": 20,
   "id": "22f32072",
   "metadata": {},
   "outputs": [
    {
     "data": {
      "text/html": [
       "<div>\n",
       "<style scoped>\n",
       "    .dataframe tbody tr th:only-of-type {\n",
       "        vertical-align: middle;\n",
       "    }\n",
       "\n",
       "    .dataframe tbody tr th {\n",
       "        vertical-align: top;\n",
       "    }\n",
       "\n",
       "    .dataframe thead th {\n",
       "        text-align: right;\n",
       "    }\n",
       "</style>\n",
       "<table border=\"1\" class=\"dataframe\">\n",
       "  <thead>\n",
       "    <tr style=\"text-align: right;\">\n",
       "      <th></th>\n",
       "      <th>Reviewer_Score</th>\n",
       "    </tr>\n",
       "  </thead>\n",
       "  <tbody>\n",
       "    <tr>\n",
       "      <th>mean</th>\n",
       "      <td>8.395532</td>\n",
       "    </tr>\n",
       "    <tr>\n",
       "      <th>median</th>\n",
       "      <td>8.800000</td>\n",
       "    </tr>\n",
       "  </tbody>\n",
       "</table>\n",
       "</div>"
      ],
      "text/plain": [
       "        Reviewer_Score\n",
       "mean          8.395532\n",
       "median        8.800000"
      ]
     },
     "execution_count": 20,
     "metadata": {},
     "output_type": "execute_result"
    }
   ],
   "source": [
    "hotel_df['Reviewer_Score'].agg(['mean','median']).to_frame()"
   ]
  },
  {
   "cell_type": "code",
   "execution_count": 21,
   "id": "a5cf2fae",
   "metadata": {},
   "outputs": [
    {
     "data": {
      "text/plain": [
       "505"
      ]
     },
     "execution_count": 21,
     "metadata": {},
     "output_type": "execute_result"
    }
   ],
   "source": [
    "(hotel_df['Reviewer_Score']==8).sum()"
   ]
  },
  {
   "cell_type": "markdown",
   "id": "d91b2d1d",
   "metadata": {},
   "source": [
    "- Rounded `Reviewer_Score` is a right skewed distribution, and looks like more discrete compare with the real Reviewer_Score.\n",
    "- There is no Reviewer_Score fall into the intervel of 5 to 6.\n",
    "- Rounded data and real data have a similar mean (8.4), but the rounded data has a sightly larger median. Which means it has a sightly larger right skew level.\n",
    "- Rounded data has more reviews counts on 8 points about 110000 reviews, and there are more 8 points than 9 points from the observation. At the sametime real data, 9 points (around 100000) has more counts compare with 8 (about 75000)ponits reviews."
   ]
  },
  {
   "cell_type": "markdown",
   "id": "444b4202",
   "metadata": {},
   "source": [
    "### g. Given this will be a classification problem, what is a potential problem with this distribution?"
   ]
  },
  {
   "cell_type": "markdown",
   "id": "7650724a",
   "metadata": {},
   "source": [
    "Q1: Given a review score classificaify will a costumer provide more positive commit or not.\n",
    "\n",
    "Q2: Given a review score classificaify costumer will stay a longer time or short.\n",
    "\n",
    "Q3: Given a review  classificaify this is a good review (customer is happly with the stay or not)."
   ]
  },
  {
   "cell_type": "markdown",
   "id": "2c10c426",
   "metadata": {},
   "source": [
    "## 2.This dataset has a good mix of numeric and non-numeric columns.  "
   ]
  },
  {
   "cell_type": "markdown",
   "id": "47837861",
   "metadata": {},
   "source": [
    "### a. Which columns are numeric? "
   ]
  },
  {
   "cell_type": "code",
   "execution_count": 22,
   "id": "5fb0dd15",
   "metadata": {},
   "outputs": [
    {
     "name": "stdout",
     "output_type": "stream",
     "text": [
      "<class 'pandas.core.frame.DataFrame'>\n",
      "Int64Index: 515212 entries, 0 to 515737\n",
      "Data columns (total 17 columns):\n",
      " #   Column                                      Non-Null Count   Dtype  \n",
      "---  ------                                      --------------   -----  \n",
      " 0   Hotel_Address                               515212 non-null  object \n",
      " 1   Additional_Number_of_Scoring                515212 non-null  int64  \n",
      " 2   Review_Date                                 515212 non-null  object \n",
      " 3   Average_Score                               515212 non-null  float64\n",
      " 4   Hotel_Name                                  515212 non-null  object \n",
      " 5   Reviewer_Nationality                        515212 non-null  object \n",
      " 6   Negative_Review                             515212 non-null  object \n",
      " 7   Review_Total_Negative_Word_Counts           515212 non-null  int64  \n",
      " 8   Total_Number_of_Reviews                     515212 non-null  int64  \n",
      " 9   Positive_Review                             515212 non-null  object \n",
      " 10  Review_Total_Positive_Word_Counts           515212 non-null  int64  \n",
      " 11  Total_Number_of_Reviews_Reviewer_Has_Given  515212 non-null  int64  \n",
      " 12  Reviewer_Score                              515212 non-null  int32  \n",
      " 13  Tags                                        515212 non-null  object \n",
      " 14  days_since_review                           515212 non-null  object \n",
      " 15  lat                                         511944 non-null  float64\n",
      " 16  lng                                         511944 non-null  float64\n",
      "dtypes: float64(3), int32(1), int64(5), object(8)\n",
      "memory usage: 68.8+ MB\n"
     ]
    }
   ],
   "source": [
    "hotel_round.info()"
   ]
  },
  {
   "cell_type": "code",
   "execution_count": 23,
   "id": "0bbbf061",
   "metadata": {},
   "outputs": [],
   "source": [
    "# numeric columns\n",
    "numeric_col=hotel_round.select_dtypes(include=np.number).columns"
   ]
  },
  {
   "cell_type": "code",
   "execution_count": 24,
   "id": "63450af0",
   "metadata": {},
   "outputs": [
    {
     "name": "stdout",
     "output_type": "stream",
     "text": [
      "numeric columns are Index(['Additional_Number_of_Scoring', 'Average_Score',\n",
      "       'Review_Total_Negative_Word_Counts', 'Total_Number_of_Reviews',\n",
      "       'Review_Total_Positive_Word_Counts',\n",
      "       'Total_Number_of_Reviews_Reviewer_Has_Given', 'Reviewer_Score', 'lat',\n",
      "       'lng'],\n",
      "      dtype='object')\n"
     ]
    }
   ],
   "source": [
    "print(f\"numeric columns are {numeric_col}\")"
   ]
  },
  {
   "cell_type": "markdown",
   "id": "4824b561",
   "metadata": {},
   "source": [
    "### b. Which are non-numeric?"
   ]
  },
  {
   "cell_type": "code",
   "execution_count": 25,
   "id": "cb9b0da3",
   "metadata": {},
   "outputs": [
    {
     "name": "stdout",
     "output_type": "stream",
     "text": [
      "None_numberic columns are ['Hotel_Address', 'Review_Date', 'Hotel_Name', 'Reviewer_Nationality', 'Negative_Review', 'Positive_Review', 'Tags', 'days_since_review']\n"
     ]
    }
   ],
   "source": [
    "non_numeric_col=[]\n",
    "for col in hotel_round.columns:\n",
    "    if col not in numeric_col:\n",
    "        non_numeric_col.append(col)\n",
    "print(f'None_numberic columns are {non_numeric_col}')"
   ]
  },
  {
   "cell_type": "markdown",
   "id": "54a1be70",
   "metadata": {},
   "source": [
    "### c. Can you turn some of the non-numeric columns to numeric?"
   ]
  },
  {
   "cell_type": "code",
   "execution_count": 26,
   "id": "53046034",
   "metadata": {},
   "outputs": [
    {
     "data": {
      "text/html": [
       "<div>\n",
       "<style scoped>\n",
       "    .dataframe tbody tr th:only-of-type {\n",
       "        vertical-align: middle;\n",
       "    }\n",
       "\n",
       "    .dataframe tbody tr th {\n",
       "        vertical-align: top;\n",
       "    }\n",
       "\n",
       "    .dataframe thead th {\n",
       "        text-align: right;\n",
       "    }\n",
       "</style>\n",
       "<table border=\"1\" class=\"dataframe\">\n",
       "  <thead>\n",
       "    <tr style=\"text-align: right;\">\n",
       "      <th></th>\n",
       "      <th>Hotel_Address</th>\n",
       "      <th>Review_Date</th>\n",
       "      <th>Hotel_Name</th>\n",
       "      <th>Reviewer_Nationality</th>\n",
       "      <th>Negative_Review</th>\n",
       "      <th>Positive_Review</th>\n",
       "      <th>Tags</th>\n",
       "      <th>days_since_review</th>\n",
       "    </tr>\n",
       "  </thead>\n",
       "  <tbody>\n",
       "    <tr>\n",
       "      <th>131226</th>\n",
       "      <td>29 31 Gower Street Camden London WC1E 6HG Unit...</td>\n",
       "      <td>5/12/2016</td>\n",
       "      <td>Bloomsbury Palace Hotel</td>\n",
       "      <td>United Kingdom</td>\n",
       "      <td>I knew it was a small room but it was really ...</td>\n",
       "      <td>Staff on reception very friendly</td>\n",
       "      <td>[' Leisure trip ', ' Solo traveler ', ' Small ...</td>\n",
       "      <td>448 day</td>\n",
       "    </tr>\n",
       "    <tr>\n",
       "      <th>172558</th>\n",
       "      <td>4 18 Harrington Gardens Kensington and Chelsea...</td>\n",
       "      <td>2/2/2016</td>\n",
       "      <td>Millennium Gloucester Hotel London</td>\n",
       "      <td>United Kingdom</td>\n",
       "      <td>The hotel does not own it s parking and the o...</td>\n",
       "      <td>Staff were excellent extremely helpful friend...</td>\n",
       "      <td>[' Leisure trip ', ' Couple ', ' Standard Doub...</td>\n",
       "      <td>548 day</td>\n",
       "    </tr>\n",
       "    <tr>\n",
       "      <th>343038</th>\n",
       "      <td>Hietzinger Hauptstra e 10 14 13 Hietzing 1130 ...</td>\n",
       "      <td>1/5/2016</td>\n",
       "      <td>Austria Trend Parkhotel Sch nbrunn Wien</td>\n",
       "      <td>Portugal</td>\n",
       "      <td>No Negative</td>\n",
       "      <td>Nice small Hotel very European style the staf...</td>\n",
       "      <td>[' Leisure trip ', ' Family with young childre...</td>\n",
       "      <td>576 day</td>\n",
       "    </tr>\n",
       "    <tr>\n",
       "      <th>389463</th>\n",
       "      <td>Nou de la Rambla 36 Ciutat Vella 08001 Barcelo...</td>\n",
       "      <td>6/23/2016</td>\n",
       "      <td>Onix Liceo</td>\n",
       "      <td>United Kingdom</td>\n",
       "      <td>No Negative</td>\n",
       "      <td>Staff were very friendly and helpful the layo...</td>\n",
       "      <td>[' Leisure trip ', ' Group ', ' Double or Twin...</td>\n",
       "      <td>406 day</td>\n",
       "    </tr>\n",
       "  </tbody>\n",
       "</table>\n",
       "</div>"
      ],
      "text/plain": [
       "                                            Hotel_Address Review_Date  \\\n",
       "131226  29 31 Gower Street Camden London WC1E 6HG Unit...   5/12/2016   \n",
       "172558  4 18 Harrington Gardens Kensington and Chelsea...    2/2/2016   \n",
       "343038  Hietzinger Hauptstra e 10 14 13 Hietzing 1130 ...    1/5/2016   \n",
       "389463  Nou de la Rambla 36 Ciutat Vella 08001 Barcelo...   6/23/2016   \n",
       "\n",
       "                                     Hotel_Name Reviewer_Nationality  \\\n",
       "131226                  Bloomsbury Palace Hotel      United Kingdom    \n",
       "172558       Millennium Gloucester Hotel London      United Kingdom    \n",
       "343038  Austria Trend Parkhotel Sch nbrunn Wien            Portugal    \n",
       "389463                               Onix Liceo      United Kingdom    \n",
       "\n",
       "                                          Negative_Review  \\\n",
       "131226   I knew it was a small room but it was really ...   \n",
       "172558   The hotel does not own it s parking and the o...   \n",
       "343038                                        No Negative   \n",
       "389463                                        No Negative   \n",
       "\n",
       "                                          Positive_Review  \\\n",
       "131226                   Staff on reception very friendly   \n",
       "172558   Staff were excellent extremely helpful friend...   \n",
       "343038   Nice small Hotel very European style the staf...   \n",
       "389463   Staff were very friendly and helpful the layo...   \n",
       "\n",
       "                                                     Tags days_since_review  \n",
       "131226  [' Leisure trip ', ' Solo traveler ', ' Small ...           448 day  \n",
       "172558  [' Leisure trip ', ' Couple ', ' Standard Doub...           548 day  \n",
       "343038  [' Leisure trip ', ' Family with young childre...           576 day  \n",
       "389463  [' Leisure trip ', ' Group ', ' Double or Twin...           406 day  "
      ]
     },
     "execution_count": 26,
     "metadata": {},
     "output_type": "execute_result"
    }
   ],
   "source": [
    "hotel_round[non_numeric_col].sample(4)"
   ]
  },
  {
   "cell_type": "code",
   "execution_count": 27,
   "id": "43d0fd23",
   "metadata": {},
   "outputs": [
    {
     "data": {
      "text/plain": [
       " United Kingdom               245110\n",
       " United States of America      35349\n",
       " Australia                     21648\n",
       " Ireland                       14814\n",
       " United Arab Emirates          10229\n",
       "                               ...  \n",
       " Cape Verde                        1\n",
       " Northern Mariana Islands          1\n",
       " Tuvalu                            1\n",
       " Guinea                            1\n",
       " Palau                             1\n",
       "Name: Reviewer_Nationality, Length: 227, dtype: int64"
      ]
     },
     "execution_count": 27,
     "metadata": {},
     "output_type": "execute_result"
    }
   ],
   "source": [
    "hotel_round['Reviewer_Nationality'].value_counts()"
   ]
  },
  {
   "cell_type": "markdown",
   "id": "fb4028ff",
   "metadata": {},
   "source": [
    "- column `Reviewer_Nationality` these reviews are from 227 countries, there are too many of them with can't change into dummy variables,\n",
    "or use change into numeric dolumn."
   ]
  },
  {
   "cell_type": "code",
   "execution_count": 28,
   "id": "4335dae1",
   "metadata": {},
   "outputs": [
    {
     "data": {
      "text/plain": [
       "Britannia International Hotel Canary Wharf           4789\n",
       "Strand Palace Hotel                                  4256\n",
       "Park Plaza Westminster Bridge London                 4169\n",
       "Copthorne Tara Hotel London Kensington               3577\n",
       "DoubleTree by Hilton Hotel London Tower of London    3212\n",
       "                                                     ... \n",
       "Boundary Rooms Suites                                  12\n",
       "Hotel Daniel Paris                                     12\n",
       "Hotel Wagner                                           10\n",
       "Mercure Paris Porte d Orleans                          10\n",
       "Hotel Gallitzinberg                                     8\n",
       "Name: Hotel_Name, Length: 1492, dtype: int64"
      ]
     },
     "execution_count": 28,
     "metadata": {},
     "output_type": "execute_result"
    }
   ],
   "source": [
    "hotel_round['Hotel_Name'].value_counts()"
   ]
  },
  {
   "cell_type": "markdown",
   "id": "0f53c22d",
   "metadata": {},
   "source": [
    "- Column `Hotel_Name` has the same situation as the `Hotel_Name` column. Cannot change into numeric dolumn."
   ]
  },
  {
   "cell_type": "markdown",
   "id": "5433793e",
   "metadata": {},
   "source": [
    "- **Plan**\n",
    "- column `days_since_review` can be change into numeric int, git rid of the day in the column."
   ]
  },
  {
   "cell_type": "code",
   "execution_count": 29,
   "id": "7e3a6373",
   "metadata": {},
   "outputs": [],
   "source": [
    "# extract numbers from days_since_review column\n",
    "hotel_round['days_since_review']=hotel_round['days_since_review'].str.extract('([0-9]+)', expand=False).str.strip()"
   ]
  },
  {
   "cell_type": "code",
   "execution_count": 30,
   "id": "e22b0037",
   "metadata": {},
   "outputs": [],
   "source": [
    "# change datatype into int64\n",
    "hotel_round['days_since_review']=hotel_round['days_since_review'].astype('int64')"
   ]
  },
  {
   "cell_type": "code",
   "execution_count": 31,
   "id": "e539070d",
   "metadata": {},
   "outputs": [
    {
     "name": "stdout",
     "output_type": "stream",
     "text": [
      "<class 'pandas.core.frame.DataFrame'>\n",
      "Int64Index: 515212 entries, 0 to 515737\n",
      "Data columns (total 17 columns):\n",
      " #   Column                                      Non-Null Count   Dtype  \n",
      "---  ------                                      --------------   -----  \n",
      " 0   Hotel_Address                               515212 non-null  object \n",
      " 1   Additional_Number_of_Scoring                515212 non-null  int64  \n",
      " 2   Review_Date                                 515212 non-null  object \n",
      " 3   Average_Score                               515212 non-null  float64\n",
      " 4   Hotel_Name                                  515212 non-null  object \n",
      " 5   Reviewer_Nationality                        515212 non-null  object \n",
      " 6   Negative_Review                             515212 non-null  object \n",
      " 7   Review_Total_Negative_Word_Counts           515212 non-null  int64  \n",
      " 8   Total_Number_of_Reviews                     515212 non-null  int64  \n",
      " 9   Positive_Review                             515212 non-null  object \n",
      " 10  Review_Total_Positive_Word_Counts           515212 non-null  int64  \n",
      " 11  Total_Number_of_Reviews_Reviewer_Has_Given  515212 non-null  int64  \n",
      " 12  Reviewer_Score                              515212 non-null  int32  \n",
      " 13  Tags                                        515212 non-null  object \n",
      " 14  days_since_review                           515212 non-null  int64  \n",
      " 15  lat                                         511944 non-null  float64\n",
      " 16  lng                                         511944 non-null  float64\n",
      "dtypes: float64(3), int32(1), int64(6), object(7)\n",
      "memory usage: 68.8+ MB\n"
     ]
    }
   ],
   "source": [
    "hotel_round.info()"
   ]
  },
  {
   "cell_type": "markdown",
   "id": "ceca96e9",
   "metadata": {},
   "source": [
    "## Data Wrangling"
   ]
  },
  {
   "cell_type": "markdown",
   "id": "ac044303",
   "metadata": {},
   "source": [
    "## 3. Build the proper dataset separation (Optional but recommended: The dataset is actually too big to run quickly on most laptops. Feel free to sample ~10% of the data as your dataset from this point on. Make sure all classes are included in your subsample.)"
   ]
  },
  {
   "cell_type": "code",
   "execution_count": 32,
   "id": "b627776e",
   "metadata": {},
   "outputs": [
    {
     "data": {
      "text/html": [
       "<div>\n",
       "<style scoped>\n",
       "    .dataframe tbody tr th:only-of-type {\n",
       "        vertical-align: middle;\n",
       "    }\n",
       "\n",
       "    .dataframe tbody tr th {\n",
       "        vertical-align: top;\n",
       "    }\n",
       "\n",
       "    .dataframe thead th {\n",
       "        text-align: right;\n",
       "    }\n",
       "</style>\n",
       "<table border=\"1\" class=\"dataframe\">\n",
       "  <thead>\n",
       "    <tr style=\"text-align: right;\">\n",
       "      <th></th>\n",
       "      <th>Hotel_Address</th>\n",
       "      <th>Additional_Number_of_Scoring</th>\n",
       "      <th>Review_Date</th>\n",
       "      <th>Average_Score</th>\n",
       "      <th>Hotel_Name</th>\n",
       "      <th>Reviewer_Nationality</th>\n",
       "      <th>Negative_Review</th>\n",
       "      <th>Review_Total_Negative_Word_Counts</th>\n",
       "      <th>Total_Number_of_Reviews</th>\n",
       "      <th>Positive_Review</th>\n",
       "      <th>Review_Total_Positive_Word_Counts</th>\n",
       "      <th>Total_Number_of_Reviews_Reviewer_Has_Given</th>\n",
       "      <th>Reviewer_Score</th>\n",
       "      <th>Tags</th>\n",
       "      <th>days_since_review</th>\n",
       "      <th>lat</th>\n",
       "      <th>lng</th>\n",
       "    </tr>\n",
       "  </thead>\n",
       "  <tbody>\n",
       "    <tr>\n",
       "      <th>515735</th>\n",
       "      <td>Wurzbachgasse 21 15 Rudolfsheim F nfhaus 1150 ...</td>\n",
       "      <td>168</td>\n",
       "      <td>8/19/2015</td>\n",
       "      <td>8.1</td>\n",
       "      <td>Atlantis Hotel Vienna</td>\n",
       "      <td>Egypt</td>\n",
       "      <td>The ac was useless It was a hot week in vienn...</td>\n",
       "      <td>19</td>\n",
       "      <td>2823</td>\n",
       "      <td>No Positive</td>\n",
       "      <td>0</td>\n",
       "      <td>3</td>\n",
       "      <td>2</td>\n",
       "      <td>[' Leisure trip ', ' Family with older childre...</td>\n",
       "      <td>715</td>\n",
       "      <td>48.203745</td>\n",
       "      <td>16.335677</td>\n",
       "    </tr>\n",
       "    <tr>\n",
       "      <th>515736</th>\n",
       "      <td>Wurzbachgasse 21 15 Rudolfsheim F nfhaus 1150 ...</td>\n",
       "      <td>168</td>\n",
       "      <td>8/17/2015</td>\n",
       "      <td>8.1</td>\n",
       "      <td>Atlantis Hotel Vienna</td>\n",
       "      <td>Mexico</td>\n",
       "      <td>No Negative</td>\n",
       "      <td>0</td>\n",
       "      <td>2823</td>\n",
       "      <td>The rooms are enormous and really comfortable...</td>\n",
       "      <td>25</td>\n",
       "      <td>3</td>\n",
       "      <td>9</td>\n",
       "      <td>[' Leisure trip ', ' Group ', ' Standard Tripl...</td>\n",
       "      <td>717</td>\n",
       "      <td>48.203745</td>\n",
       "      <td>16.335677</td>\n",
       "    </tr>\n",
       "    <tr>\n",
       "      <th>515737</th>\n",
       "      <td>Wurzbachgasse 21 15 Rudolfsheim F nfhaus 1150 ...</td>\n",
       "      <td>168</td>\n",
       "      <td>8/9/2015</td>\n",
       "      <td>8.1</td>\n",
       "      <td>Atlantis Hotel Vienna</td>\n",
       "      <td>Hungary</td>\n",
       "      <td>I was in 3rd floor It didn t work Free Wife</td>\n",
       "      <td>13</td>\n",
       "      <td>2823</td>\n",
       "      <td>staff was very kind</td>\n",
       "      <td>6</td>\n",
       "      <td>1</td>\n",
       "      <td>8</td>\n",
       "      <td>[' Leisure trip ', ' Family with young childre...</td>\n",
       "      <td>725</td>\n",
       "      <td>48.203745</td>\n",
       "      <td>16.335677</td>\n",
       "    </tr>\n",
       "  </tbody>\n",
       "</table>\n",
       "</div>"
      ],
      "text/plain": [
       "                                            Hotel_Address  \\\n",
       "515735  Wurzbachgasse 21 15 Rudolfsheim F nfhaus 1150 ...   \n",
       "515736  Wurzbachgasse 21 15 Rudolfsheim F nfhaus 1150 ...   \n",
       "515737  Wurzbachgasse 21 15 Rudolfsheim F nfhaus 1150 ...   \n",
       "\n",
       "        Additional_Number_of_Scoring Review_Date  Average_Score  \\\n",
       "515735                           168   8/19/2015            8.1   \n",
       "515736                           168   8/17/2015            8.1   \n",
       "515737                           168    8/9/2015            8.1   \n",
       "\n",
       "                   Hotel_Name Reviewer_Nationality  \\\n",
       "515735  Atlantis Hotel Vienna               Egypt    \n",
       "515736  Atlantis Hotel Vienna              Mexico    \n",
       "515737  Atlantis Hotel Vienna             Hungary    \n",
       "\n",
       "                                          Negative_Review  \\\n",
       "515735   The ac was useless It was a hot week in vienn...   \n",
       "515736                                        No Negative   \n",
       "515737       I was in 3rd floor It didn t work Free Wife    \n",
       "\n",
       "        Review_Total_Negative_Word_Counts  Total_Number_of_Reviews  \\\n",
       "515735                                 19                     2823   \n",
       "515736                                  0                     2823   \n",
       "515737                                 13                     2823   \n",
       "\n",
       "                                          Positive_Review  \\\n",
       "515735                                        No Positive   \n",
       "515736   The rooms are enormous and really comfortable...   \n",
       "515737                               staff was very kind    \n",
       "\n",
       "        Review_Total_Positive_Word_Counts  \\\n",
       "515735                                  0   \n",
       "515736                                 25   \n",
       "515737                                  6   \n",
       "\n",
       "        Total_Number_of_Reviews_Reviewer_Has_Given  Reviewer_Score  \\\n",
       "515735                                           3               2   \n",
       "515736                                           3               9   \n",
       "515737                                           1               8   \n",
       "\n",
       "                                                     Tags  days_since_review  \\\n",
       "515735  [' Leisure trip ', ' Family with older childre...                715   \n",
       "515736  [' Leisure trip ', ' Group ', ' Standard Tripl...                717   \n",
       "515737  [' Leisure trip ', ' Family with young childre...                725   \n",
       "\n",
       "              lat        lng  \n",
       "515735  48.203745  16.335677  \n",
       "515736  48.203745  16.335677  \n",
       "515737  48.203745  16.335677  "
      ]
     },
     "execution_count": 32,
     "metadata": {},
     "output_type": "execute_result"
    }
   ],
   "source": [
    "hotel_round.tail(3)"
   ]
  },
  {
   "cell_type": "markdown",
   "id": "3c01d3cf",
   "metadata": {},
   "source": [
    "**plan**:\n",
    "- Approach using ramdom sampling.\n",
    "- Approach using cluster sampling."
   ]
  },
  {
   "cell_type": "code",
   "execution_count": 33,
   "id": "d315232d",
   "metadata": {},
   "outputs": [
    {
     "data": {
      "text/plain": [
       "(515212, 17)"
      ]
     },
     "execution_count": 33,
     "metadata": {},
     "output_type": "execute_result"
    }
   ],
   "source": [
    "hotel_round.shape"
   ]
  },
  {
   "cell_type": "code",
   "execution_count": 38,
   "id": "71e7df95",
   "metadata": {},
   "outputs": [
    {
     "data": {
      "text/plain": [
       "10    187592\n",
       "8     110035\n",
       "9     105621\n",
       "7      44041\n",
       "6      27765\n",
       "5      24152\n",
       "4       9421\n",
       "3       4393\n",
       "2       2192\n",
       "Name: Reviewer_Score, dtype: int64"
      ]
     },
     "execution_count": 38,
     "metadata": {},
     "output_type": "execute_result"
    }
   ],
   "source": [
    "hotel_round['Reviewer_Score'].value_counts()"
   ]
  },
  {
   "cell_type": "code",
   "execution_count": 34,
   "id": "df88c93e",
   "metadata": {},
   "outputs": [],
   "source": [
    "# approach 1 random sampling\n",
    "random_sample = hotel_round.sample(frac=0.1, random_state=42)"
   ]
  },
  {
   "cell_type": "code",
   "execution_count": 36,
   "id": "32f31f5f",
   "metadata": {},
   "outputs": [],
   "source": [
    "random_sample=random_sample.reset_index(drop=True)"
   ]
  },
  {
   "cell_type": "code",
   "execution_count": 53,
   "id": "a6f9057f",
   "metadata": {},
   "outputs": [
    {
     "data": {
      "image/png": "[encoded data removed]",
      "text/plain": [
       "<Figure size 864x432 with 2 Axes>"
      ]
     },
     "metadata": {},
     "output_type": "display_data"
    }
   ],
   "source": [
    "plt.figure(figsize=(12,6))\n",
    "plt.subplot(1,2,1)\n",
    "random_sample['Reviewer_Score'].plot(kind='hist')\n",
    "plt.axvline(x=random_sample['Reviewer_Score'].mean(), color='r', linestyle='-')\n",
    "plt.title(\"sample distribution using ramdom sampling\",fontsize=\"14\")\n",
    "\n",
    "plt.subplot(1,2,2)\n",
    "hotel_round['Reviewer_Score'].plot(kind='hist')\n",
    "plt.title(\"hotel_round disribution\",fontsize='14')\n",
    "plt.axvline(x=hotel_round['Reviewer_Score'].mean(), color='r', linestyle='-')\n",
    "\n",
    "plt.show()"
   ]
  },
  {
   "cell_type": "markdown",
   "id": "ed951610",
   "metadata": {},
   "source": [
    "- random_sample using ramdom sampling progress has the same distribution as the original data. The reason I want to try the cluster sampling is I can't tell this random_sample df has data from all classes."
   ]
  },
  {
   "cell_type": "code",
   "execution_count": 38,
   "id": "7bae435f",
   "metadata": {},
   "outputs": [
    {
     "data": {
      "text/plain": [
       "mean      8.46484\n",
       "median    9.00000\n",
       "Name: Reviewer_Score, dtype: float64"
      ]
     },
     "execution_count": 38,
     "metadata": {},
     "output_type": "execute_result"
    }
   ],
   "source": [
    "sample['Reviewer_Score'].agg([\"mean\",'median'])"
   ]
  },
  {
   "cell_type": "code",
   "execution_count": 43,
   "id": "97d76059",
   "metadata": {},
   "outputs": [
    {
     "data": {
      "text/plain": [
       "10    18949\n",
       "8     11026\n",
       "9     10409\n",
       "7      4386\n",
       "6      2748\n",
       "5      2409\n",
       "4       940\n",
       "3       435\n",
       "2       219\n",
       "Name: Reviewer_Score, dtype: int64"
      ]
     },
     "execution_count": 43,
     "metadata": {},
     "output_type": "execute_result"
    }
   ],
   "source": [
    "sample['Reviewer_Score'].value_counts()"
   ]
  },
  {
   "cell_type": "code",
   "execution_count": 35,
   "id": "10e032f9",
   "metadata": {},
   "outputs": [
    {
     "data": {
      "text/plain": [
       "10.0"
      ]
     },
     "execution_count": 35,
     "metadata": {},
     "output_type": "execute_result"
    }
   ],
   "source": [
    "class_size=hotel_round.shape[0]/(hotel_round.shape[0]*0.1)\n",
    "class_size"
   ]
  },
  {
   "cell_type": "code",
   "execution_count": 36,
   "id": "e53027bd",
   "metadata": {},
   "outputs": [
    {
     "data": {
      "text/plain": [
       "5152.120000000001"
      ]
     },
     "execution_count": 36,
     "metadata": {},
     "output_type": "execute_result"
    }
   ],
   "source": [
    "# size of cluster\n",
    "hotel_round.shape[0]*0.1/10"
   ]
  },
  {
   "cell_type": "code",
   "execution_count": 38,
   "id": "a9b60ffb",
   "metadata": {},
   "outputs": [],
   "source": [
    "# clustered Sampling\n",
    "def get_clustered_Sample(df, n_per_cluster, num_select_clusters):\n",
    "    N = len(df)\n",
    "    K = int(N/n_per_cluster)\n",
    "    data = None\n",
    "    for k in range(K):\n",
    "        sample_k = df.sample(n_per_cluster)\n",
    "        sample_k[\"cluster\"] = np.repeat(k,len(sample_k))\n",
    "        df = df.drop(index = sample_k.index)\n",
    "        data = pd.concat([data,sample_k],axis = 0)\n",
    "\n",
    "    random_chosen_clusters = np.random.randint(0,K,size = num_select_clusters)\n",
    "    samples = data[data.cluster.isin(random_chosen_clusters)]\n",
    "    return(samples)"
   ]
  },
  {
   "cell_type": "code",
   "execution_count": 39,
   "id": "7ed10e50",
   "metadata": {},
   "outputs": [],
   "source": [
    "samples=get_clustered_Sample(hotel_round,5120,10)"
   ]
  },
  {
   "cell_type": "code",
   "execution_count": 40,
   "id": "d488e92f",
   "metadata": {},
   "outputs": [],
   "source": [
    "sample_df=samples.iloc[:,0:17]\n",
    "sample_df.reset_index(drop=True,inplace=True)\n"
   ]
  },
  {
   "cell_type": "code",
   "execution_count": 41,
   "id": "060b707f",
   "metadata": {},
   "outputs": [
    {
     "data": {
      "text/plain": [
       "(51200, 17)"
      ]
     },
     "execution_count": 41,
     "metadata": {},
     "output_type": "execute_result"
    }
   ],
   "source": [
    "# check sample size\n",
    "sample_df.shape"
   ]
  },
  {
   "cell_type": "code",
   "execution_count": 42,
   "id": "655068d3",
   "metadata": {},
   "outputs": [
    {
     "name": "stdout",
     "output_type": "stream",
     "text": [
      "There are 51200 rows and 17 columns in the sample data.\n"
     ]
    }
   ],
   "source": [
    "print(f'There are {sample_df.shape[0]} rows and {sample_df.shape[1]} columns in the sample data.')"
   ]
  },
  {
   "cell_type": "code",
   "execution_count": 43,
   "id": "3e57c44b",
   "metadata": {},
   "outputs": [
    {
     "data": {
      "image/png": "[encoded data removed]",
      "text/plain": [
       "<Figure size 864x432 with 2 Axes>"
      ]
     },
     "metadata": {},
     "output_type": "display_data"
    }
   ],
   "source": [
    "# check distrubution of the sample and orginal df\n",
    "plt.figure(figsize=(12,6))\n",
    "plt.subplot(1,2,1)\n",
    "sample_df['Reviewer_Score'].plot(kind='hist',color='gold')\n",
    "plt.title(\"sample_df disribution\",fontsize='14')\n",
    "plt.axvline(x=sample_df['Reviewer_Score'].mean(), color='r', linestyle='-')\n",
    "\n",
    "plt.subplot(1,2,2)\n",
    "hotel_round['Reviewer_Score'].plot(kind='hist')\n",
    "plt.title(\"hotel_round disribution\",fontsize='14')\n",
    "plt.axvline(x=hotel_round['Reviewer_Score'].mean(), color='r', linestyle='-')\n",
    "plt.show()\n"
   ]
  },
  {
   "cell_type": "markdown",
   "id": "bbf9c385",
   "metadata": {},
   "source": [
    "- Sample_df and origin dataset has same distribution."
   ]
  },
  {
   "cell_type": "markdown",
   "id": "e8824005",
   "metadata": {},
   "source": [
    "### a. Convert the Reviewer_Score column into a binary column in the following way. Reviews that are below 9 should be encoded as 0 ('not good') and reviews with scores 9 and 10 as 1 ('good')."
   ]
  },
  {
   "cell_type": "code",
   "execution_count": 44,
   "id": "1f037be7",
   "metadata": {},
   "outputs": [
    {
     "data": {
      "text/plain": [
       "10    18573\n",
       "8     11006\n",
       "9     10383\n",
       "7      4365\n",
       "6      2826\n",
       "5      2505\n",
       "4       938\n",
       "3       401\n",
       "2       203\n",
       "Name: Reviewer_Score, dtype: int64"
      ]
     },
     "execution_count": 44,
     "metadata": {},
     "output_type": "execute_result"
    }
   ],
   "source": [
    "sample_df['Reviewer_Score'].value_counts()"
   ]
  },
  {
   "cell_type": "code",
   "execution_count": 45,
   "id": "d667d842",
   "metadata": {},
   "outputs": [],
   "source": [
    "# Change into binary outcome 9, 10--->1 else 0\n",
    "sample_df[\"Reviewer_Score\"]=np.where(sample_df[\"Reviewer_Score\"] >8, 1, 0)"
   ]
  },
  {
   "cell_type": "code",
   "execution_count": 46,
   "id": "7602c845",
   "metadata": {},
   "outputs": [
    {
     "data": {
      "text/plain": [
       "1    28956\n",
       "0    22244\n",
       "Name: Reviewer_Score, dtype: int64"
      ]
     },
     "execution_count": 46,
     "metadata": {},
     "output_type": "execute_result"
    }
   ],
   "source": [
    "sample_df['Reviewer_Score'].value_counts() "
   ]
  },
  {
   "cell_type": "markdown",
   "id": "f9a594bb",
   "metadata": {},
   "source": [
    "### b. Convert the columns you identified in question 2 into numeric columns, and drop all non-numeric columns except Positive_Review and Negative_Review."
   ]
  },
  {
   "cell_type": "code",
   "execution_count": 47,
   "id": "102aca5b",
   "metadata": {},
   "outputs": [
    {
     "data": {
      "text/html": [
       "<div>\n",
       "<style scoped>\n",
       "    .dataframe tbody tr th:only-of-type {\n",
       "        vertical-align: middle;\n",
       "    }\n",
       "\n",
       "    .dataframe tbody tr th {\n",
       "        vertical-align: top;\n",
       "    }\n",
       "\n",
       "    .dataframe thead th {\n",
       "        text-align: right;\n",
       "    }\n",
       "</style>\n",
       "<table border=\"1\" class=\"dataframe\">\n",
       "  <thead>\n",
       "    <tr style=\"text-align: right;\">\n",
       "      <th></th>\n",
       "      <th>Hotel_Address</th>\n",
       "      <th>Additional_Number_of_Scoring</th>\n",
       "      <th>Review_Date</th>\n",
       "      <th>Average_Score</th>\n",
       "      <th>Hotel_Name</th>\n",
       "      <th>Reviewer_Nationality</th>\n",
       "      <th>Negative_Review</th>\n",
       "      <th>Review_Total_Negative_Word_Counts</th>\n",
       "      <th>Total_Number_of_Reviews</th>\n",
       "      <th>Positive_Review</th>\n",
       "      <th>Review_Total_Positive_Word_Counts</th>\n",
       "      <th>Total_Number_of_Reviews_Reviewer_Has_Given</th>\n",
       "      <th>Reviewer_Score</th>\n",
       "      <th>Tags</th>\n",
       "      <th>days_since_review</th>\n",
       "      <th>lat</th>\n",
       "      <th>lng</th>\n",
       "    </tr>\n",
       "  </thead>\n",
       "  <tbody>\n",
       "    <tr>\n",
       "      <th>0</th>\n",
       "      <td>Piazza Fontana 3 Milan City Center 20122 Milan...</td>\n",
       "      <td>563</td>\n",
       "      <td>6/26/2016</td>\n",
       "      <td>8.6</td>\n",
       "      <td>Rosa Grand Milano Starhotels Collezione</td>\n",
       "      <td>United States of America</td>\n",
       "      <td>Not a thing</td>\n",
       "      <td>5</td>\n",
       "      <td>4000</td>\n",
       "      <td>Great hotel in a great location</td>\n",
       "      <td>8</td>\n",
       "      <td>9</td>\n",
       "      <td>1</td>\n",
       "      <td>[' Leisure trip ', ' Couple ', ' Deluxe Double...</td>\n",
       "      <td>403</td>\n",
       "      <td>45.463822</td>\n",
       "      <td>9.194027</td>\n",
       "    </tr>\n",
       "    <tr>\n",
       "      <th>1</th>\n",
       "      <td>101 Buckingham Palace Road Westminster Borough...</td>\n",
       "      <td>838</td>\n",
       "      <td>6/21/2016</td>\n",
       "      <td>8.4</td>\n",
       "      <td>The Grosvenor</td>\n",
       "      <td>United Kingdom</td>\n",
       "      <td>No Negative</td>\n",
       "      <td>0</td>\n",
       "      <td>3274</td>\n",
       "      <td>Fabulous location for the orient express</td>\n",
       "      <td>7</td>\n",
       "      <td>4</td>\n",
       "      <td>1</td>\n",
       "      <td>[' Leisure trip ', ' Couple ', ' Deluxe Single...</td>\n",
       "      <td>408</td>\n",
       "      <td>51.495666</td>\n",
       "      <td>-0.145279</td>\n",
       "    </tr>\n",
       "    <tr>\n",
       "      <th>2</th>\n",
       "      <td>372 Strand Westminster Borough London WC2R 0JJ...</td>\n",
       "      <td>2288</td>\n",
       "      <td>5/29/2016</td>\n",
       "      <td>8.1</td>\n",
       "      <td>Strand Palace Hotel</td>\n",
       "      <td>United Kingdom</td>\n",
       "      <td>Room rather hot although we did have a fan</td>\n",
       "      <td>10</td>\n",
       "      <td>9568</td>\n",
       "      <td>Good breakfast choices</td>\n",
       "      <td>4</td>\n",
       "      <td>8</td>\n",
       "      <td>0</td>\n",
       "      <td>[' Leisure trip ', ' Couple ', ' Cosy Double R...</td>\n",
       "      <td>431</td>\n",
       "      <td>51.511099</td>\n",
       "      <td>-0.120867</td>\n",
       "    </tr>\n",
       "  </tbody>\n",
       "</table>\n",
       "</div>"
      ],
      "text/plain": [
       "                                       Hotel_Address  \\\n",
       "0  Piazza Fontana 3 Milan City Center 20122 Milan...   \n",
       "1  101 Buckingham Palace Road Westminster Borough...   \n",
       "2  372 Strand Westminster Borough London WC2R 0JJ...   \n",
       "\n",
       "   Additional_Number_of_Scoring Review_Date  Average_Score  \\\n",
       "0                           563   6/26/2016            8.6   \n",
       "1                           838   6/21/2016            8.4   \n",
       "2                          2288   5/29/2016            8.1   \n",
       "\n",
       "                                Hotel_Name        Reviewer_Nationality  \\\n",
       "0  Rosa Grand Milano Starhotels Collezione   United States of America    \n",
       "1                            The Grosvenor             United Kingdom    \n",
       "2                      Strand Palace Hotel             United Kingdom    \n",
       "\n",
       "                               Negative_Review  \\\n",
       "0                                 Not a thing    \n",
       "1                                  No Negative   \n",
       "2   Room rather hot although we did have a fan   \n",
       "\n",
       "   Review_Total_Negative_Word_Counts  Total_Number_of_Reviews  \\\n",
       "0                                  5                     4000   \n",
       "1                                  0                     3274   \n",
       "2                                 10                     9568   \n",
       "\n",
       "                             Positive_Review  \\\n",
       "0           Great hotel in a great location    \n",
       "1   Fabulous location for the orient express   \n",
       "2                     Good breakfast choices   \n",
       "\n",
       "   Review_Total_Positive_Word_Counts  \\\n",
       "0                                  8   \n",
       "1                                  7   \n",
       "2                                  4   \n",
       "\n",
       "   Total_Number_of_Reviews_Reviewer_Has_Given  Reviewer_Score  \\\n",
       "0                                           9               1   \n",
       "1                                           4               1   \n",
       "2                                           8               0   \n",
       "\n",
       "                                                Tags  days_since_review  \\\n",
       "0  [' Leisure trip ', ' Couple ', ' Deluxe Double...                403   \n",
       "1  [' Leisure trip ', ' Couple ', ' Deluxe Single...                408   \n",
       "2  [' Leisure trip ', ' Couple ', ' Cosy Double R...                431   \n",
       "\n",
       "         lat       lng  \n",
       "0  45.463822  9.194027  \n",
       "1  51.495666 -0.145279  \n",
       "2  51.511099 -0.120867  "
      ]
     },
     "execution_count": 47,
     "metadata": {},
     "output_type": "execute_result"
    }
   ],
   "source": [
    "sample_df.head(3)"
   ]
  },
  {
   "cell_type": "markdown",
   "id": "74e8d37c",
   "metadata": {},
   "source": [
    "- `days_since_review` has already changed into numeric in Q2"
   ]
  },
  {
   "cell_type": "code",
   "execution_count": 48,
   "id": "bdb428de",
   "metadata": {},
   "outputs": [],
   "source": [
    "new_non_numeric_col=non_numeric_col[:7]\n",
    "drop_col=new_non_numeric_col[:4]+new_non_numeric_col[6:]"
   ]
  },
  {
   "cell_type": "code",
   "execution_count": 49,
   "id": "fffdd7b9",
   "metadata": {},
   "outputs": [
    {
     "name": "stdout",
     "output_type": "stream",
     "text": [
      "Need drop columns:['Hotel_Address', 'Review_Date', 'Hotel_Name', 'Reviewer_Nationality', 'Tags']\n"
     ]
    }
   ],
   "source": [
    "print(f'Need drop columns:{drop_col}')"
   ]
  },
  {
   "cell_type": "code",
   "execution_count": 50,
   "id": "f253821c",
   "metadata": {},
   "outputs": [
    {
     "data": {
      "text/plain": [
       "(51200, 17)"
      ]
     },
     "execution_count": 50,
     "metadata": {},
     "output_type": "execute_result"
    }
   ],
   "source": [
    "sample_df.shape"
   ]
  },
  {
   "cell_type": "code",
   "execution_count": 51,
   "id": "253c2994",
   "metadata": {},
   "outputs": [],
   "source": [
    "sample_txt=sample_df.copy()\n",
    "sample_txt.drop(columns=drop_col,axis=1,inplace=True)"
   ]
  },
  {
   "cell_type": "code",
   "execution_count": 52,
   "id": "851d0479",
   "metadata": {},
   "outputs": [
    {
     "data": {
      "text/plain": [
       "(51200, 12)"
      ]
     },
     "execution_count": 52,
     "metadata": {},
     "output_type": "execute_result"
    }
   ],
   "source": [
    "# 5 columns has been droped\n",
    "sample_txt.shape"
   ]
  },
  {
   "cell_type": "markdown",
   "id": "d6764472",
   "metadata": {},
   "source": [
    "### C. Split the data into train and test sets."
   ]
  },
  {
   "cell_type": "markdown",
   "id": "f0230f83",
   "metadata": {},
   "source": [
    "plan:\n",
    "  \n",
    "  1.clean\n",
    "  - pre process on `Negative_Review` and `Positive_Review`\n",
    "  \n",
    "  2.Split the data into train and test sets.\n",
    "\n"
   ]
  },
  {
   "cell_type": "code",
   "execution_count": 53,
   "id": "6a58f73e",
   "metadata": {},
   "outputs": [
    {
     "data": {
      "text/plain": [
       "No Negative       12611\n",
       " Nothing           1412\n",
       " Nothing            412\n",
       " nothing            217\n",
       " None               108\n",
       "                  ...  \n",
       " Ist room tiny        1\n",
       " Mainly price         1\n",
       " No cons              1\n",
       " pricey               1\n",
       " Little noise         1\n",
       "Name: Negative_Review, Length: 915, dtype: int64"
      ]
     },
     "execution_count": 53,
     "metadata": {},
     "output_type": "execute_result"
    }
   ],
   "source": [
    "sample_txt[sample_txt['Negative_Review'].str.len()<15]['Negative_Review'].value_counts()"
   ]
  },
  {
   "cell_type": "markdown",
   "id": "be77aa14",
   "metadata": {},
   "source": [
    "- There are None, Nothing,nothing,None in the `Negative_Review` all means No Negative, I will replace thim into 'NA'."
   ]
  },
  {
   "cell_type": "code",
   "execution_count": 54,
   "id": "1e5bc18a",
   "metadata": {},
   "outputs": [],
   "source": [
    "# replace None, Nothing,nothing, into ''\n",
    "sample_txt['Negative_Review']=sample_txt['Negative_Review'].apply(lambda x: x.replace('No Negative','NA'))\n",
    "sample_txt['Negative_Review']=sample_txt['Negative_Review'].apply(lambda x: x.replace('Nothing','NA'))\n",
    "sample_txt['Negative_Review']=sample_txt['Negative_Review'].apply(lambda x: x.replace('nothing','NA'))\n",
    "sample_txt['Negative_Review']=sample_txt['Negative_Review'].apply(lambda x: x.replace('N A','NA'))\n",
    "sample_txt['Negative_Review']=sample_txt['Negative_Review'].apply(lambda x: x.replace('N a','NA'))\n",
    "sample_txt['Negative_Review']=sample_txt['Negative_Review'].apply(lambda x: x.replace('None','NA'))\n",
    "sample_txt['Negative_Review']=sample_txt['Negative_Review'].apply(lambda x: x.replace('none','NA'))\n",
    "sample_txt['Negative_Review']=sample_txt['Negative_Review'].apply(lambda x: x.replace('na','NA'))"
   ]
  },
  {
   "cell_type": "markdown",
   "id": "bc57decf",
   "metadata": {},
   "source": [
    "- clean column `Positive_Review`"
   ]
  },
  {
   "cell_type": "code",
   "execution_count": 55,
   "id": "2a2305ca",
   "metadata": {},
   "outputs": [
    {
     "data": {
      "text/plain": [
       "No Positive       3602\n",
       " Location          934\n",
       " Everything        215\n",
       " location          175\n",
       " Nothing           119\n",
       "                  ... \n",
       " Staff Design        1\n",
       " Nice bathroom       1\n",
       " roof Pool           1\n",
       " The staff           1\n",
       " good price          1\n",
       "Name: Positive_Review, Length: 965, dtype: int64"
      ]
     },
     "execution_count": 55,
     "metadata": {},
     "output_type": "execute_result"
    }
   ],
   "source": [
    "sample_txt[sample_txt['Positive_Review'].str.len()<15]['Positive_Review'].value_counts()"
   ]
  },
  {
   "cell_type": "markdown",
   "id": "13f4446a",
   "metadata": {},
   "source": [
    "- replace No Positive,na into 'NA' "
   ]
  },
  {
   "cell_type": "code",
   "execution_count": 56,
   "id": "6b3a3d1a",
   "metadata": {},
   "outputs": [],
   "source": [
    "sample_txt['Positive_Review']=sample_txt['Positive_Review'].apply(lambda x: x.replace('No Positive','NA'))\n",
    "sample_txt['Positive_Review']=sample_txt['Positive_Review'].apply(lambda x: x.replace('na','NA'))"
   ]
  },
  {
   "cell_type": "code",
   "execution_count": 57,
   "id": "718afbba",
   "metadata": {
    "scrolled": true
   },
   "outputs": [
    {
     "data": {
      "text/plain": [
       "NA                12611\n",
       " NA                1942\n",
       " NA                 468\n",
       "                     94\n",
       " Small room          46\n",
       "                  ...  \n",
       " Room cold            1\n",
       " No showercap         1\n",
       " The clining          1\n",
       " No balcony           1\n",
       " Little noise         1\n",
       "Name: Negative_Review, Length: 976, dtype: int64"
      ]
     },
     "execution_count": 57,
     "metadata": {},
     "output_type": "execute_result"
    }
   ],
   "source": [
    "sample_txt[sample_txt['Negative_Review'].str.len()<15]['Negative_Review'].value_counts()"
   ]
  },
  {
   "cell_type": "code",
   "execution_count": 58,
   "id": "771b5435",
   "metadata": {},
   "outputs": [
    {
     "data": {
      "text/plain": [
       "NA                3602\n",
       " Location          934\n",
       " Everything        215\n",
       " location          175\n",
       " Nothing           119\n",
       "                  ... \n",
       " Staff Design        1\n",
       " Nice bathroom       1\n",
       " roof Pool           1\n",
       " The staff           1\n",
       " good price          1\n",
       "Name: Positive_Review, Length: 965, dtype: int64"
      ]
     },
     "execution_count": 58,
     "metadata": {},
     "output_type": "execute_result"
    }
   ],
   "source": [
    "sample_txt[sample_txt['Positive_Review'].str.len()<15]['Positive_Review'].value_counts()"
   ]
  },
  {
   "cell_type": "code",
   "execution_count": 59,
   "id": "395be2a2",
   "metadata": {},
   "outputs": [],
   "source": [
    "# feature and target\n",
    "X=sample_txt.drop(['Reviewer_Score'],axis=1)\n",
    "y=sample_txt['Reviewer_Score']\n",
    "# split train test\n",
    "X_train,X_test,y_train,y_test= train_test_split(X,y,test_size=0.2, random_state=42)"
   ]
  },
  {
   "cell_type": "code",
   "execution_count": 60,
   "id": "e61df3d7",
   "metadata": {},
   "outputs": [],
   "source": [
    "y_train_nor=y_train.value_counts()/len(y_train)\n",
    "y_test_nor=y_test.value_counts()/len(y_test)"
   ]
  },
  {
   "cell_type": "code",
   "execution_count": 61,
   "id": "9ad77f90",
   "metadata": {},
   "outputs": [
    {
     "data": {
      "image/png": "[encoded data removed]",
      "text/plain": [
       "<Figure size 864x432 with 2 Axes>"
      ]
     },
     "metadata": {},
     "output_type": "display_data"
    }
   ],
   "source": [
    "plt.figure(figsize=(12,6))\n",
    "plt.subplot(1,2,1)\n",
    "plt.title(\"Distribution of y_train\")\n",
    "plt.ylabel(\"% of good and not good review\")\n",
    "y_train_nor.plot(kind='bar')\n",
    "#plt.ax.bar_label(bars)\n",
    "\n",
    "plt.subplot(1,2,2)\n",
    "plt.title(\"Distribution of y_test\")\n",
    "plt.ylabel(\"% of good and not good review\")\n",
    "y_test_nor.plot(kind='bar',color='gold')\n",
    "\n",
    "plt.show()"
   ]
  },
  {
   "cell_type": "markdown",
   "id": "31b091b0",
   "metadata": {},
   "source": [
    "- y_train and y_test has samilar distribution."
   ]
  },
  {
   "cell_type": "markdown",
   "id": "e235852a",
   "metadata": {},
   "source": [
    "### d. Use a count vectorizer to combine Positive_Review and Negative_Review with the numeric data (notice that this is done AFTER the train/test split). You should vectorize each column separately, ending up with two sparse matrixes, and then combine the three matrixes (numeric data, positive matrix, negative matrix). You may have to adjust the min_df parameter."
   ]
  },
  {
   "cell_type": "markdown",
   "id": "87154539",
   "metadata": {},
   "source": [
    "**function tokenizer:**\n",
    "  - remove punctuation\n",
    "  - remove stop words\n",
    "  - Stemming\n",
    "  - Tokenization"
   ]
  },
  {
   "cell_type": "code",
   "execution_count": 62,
   "id": "eb285ea8",
   "metadata": {},
   "outputs": [],
   "source": [
    "# init stemmer\n",
    "stemmer = nltk.stem.PorterStemmer()\n",
    "# make tokens\n",
    "def tokenizer(text):\n",
    "    non_pun=''.join([w for w in text.lower() if w not in string.punctuation])\n",
    "    #print(type(non_pun),non_pun)\n",
    "\n",
    "    lst_words=non_pun.split(' ')\n",
    "    #print(lst_words)\n",
    "    # remove stop words and stem\n",
    "    lst_out=[]\n",
    "    for w in lst_words:\n",
    "        if (w not in stopwords.words('english')) and (w != \"\"):\n",
    "            stemmed_word = stemmer.stem(w)\n",
    "            lst_out.append(stemmed_word)\n",
    "    return lst_out    "
   ]
  },
  {
   "cell_type": "code",
   "execution_count": 63,
   "id": "0be8dee4",
   "metadata": {},
   "outputs": [
    {
     "data": {
      "text/plain": [
       "(40960,)"
      ]
     },
     "execution_count": 63,
     "metadata": {},
     "output_type": "execute_result"
    }
   ],
   "source": [
    "X_train['Negative_Review'].shape"
   ]
  },
  {
   "cell_type": "code",
   "execution_count": 64,
   "id": "07cde1c3",
   "metadata": {},
   "outputs": [
    {
     "data": {
      "text/plain": [
       "(10240,)"
      ]
     },
     "execution_count": 64,
     "metadata": {},
     "output_type": "execute_result"
    }
   ],
   "source": [
    "X_test['Negative_Review'].shape"
   ]
  },
  {
   "cell_type": "code",
   "execution_count": null,
   "id": "e3262404",
   "metadata": {},
   "outputs": [
    {
     "name": "stderr",
     "output_type": "stream",
     "text": [
      "D:\\anaconda\\lib\\site-packages\\sklearn\\feature_extraction\\text.py:524: UserWarning: The parameter 'token_pattern' will not be used since 'tokenizer' is not None'\n",
      "  warnings.warn(\n"
     ]
    }
   ],
   "source": [
    "# column Negative_Review\n",
    "coun_vect = CountVectorizer(tokenizer=tokenizer, min_df=5)\n",
    "\n",
    "# fit\n",
    "coun_vect.fit(X_train['Negative_Review'])\n",
    "# transfrom x_train and x_test need to be the same shape\n",
    "X_train_trans_NR=coun_vect.transform(X_train['Negative_Review'])\n",
    "X_test_trans_NR=coun_vect.transform(X_test['Negative_Review'])"
   ]
  },
  {
   "cell_type": "code",
   "execution_count": null,
   "id": "1ad7b1eb",
   "metadata": {},
   "outputs": [],
   "source": [
    "X_train_trans_NR\n",
    "print(f'The shape of NR_count_matrix is {X_train_trans_NR.shape[0]} rows and {X_train_trans_NR.shape[1]} columns.')"
   ]
  },
  {
   "cell_type": "code",
   "execution_count": null,
   "id": "38f50a83",
   "metadata": {},
   "outputs": [],
   "source": [
    "X_test_trans_NR\n",
    "print(f'The shape of NR_count_matrix is {X_test_trans_NR.shape[0]} rows and {X_test_trans_NR.shape[1]} columns.')"
   ]
  },
  {
   "cell_type": "markdown",
   "id": "d3df029f",
   "metadata": {},
   "source": [
    "- `Negative_Review` X_train and X_test has the same features. "
   ]
  },
  {
   "cell_type": "code",
   "execution_count": null,
   "id": "f1d8dd3c",
   "metadata": {},
   "outputs": [],
   "source": [
    "# column postitive_Review\n",
    "#count_vect=CountVectorizer(tokenizer=tokenizer)\n",
    "\n",
    "# fit\n",
    "coun_vect.fit(X_train['Positive_Review'])\n",
    "\n",
    "# transform\n",
    "X_train_trans_PR=coun_vect.transform(X_train['Positive_Review'])\n",
    "X_test_trans_PR=coun_vect.transform(X_test['Positive_Review'])"
   ]
  },
  {
   "cell_type": "code",
   "execution_count": null,
   "id": "dc2bdc15",
   "metadata": {},
   "outputs": [],
   "source": [
    "X_train_trans_PR\n",
    "print(f'The shape of NR_count_matrix is {X_train_trans_PR.shape[0]} rows and {X_train_trans_PR.shape[1]} columns.')"
   ]
  },
  {
   "cell_type": "code",
   "execution_count": null,
   "id": "e283ab30",
   "metadata": {},
   "outputs": [],
   "source": [
    "X_test_trans_PR\n",
    "print(f'The shape of NR_count_matrix is {X_test_trans_PR.shape[0]} rows and {X_test_trans_PR.shape[1]} columns.')"
   ]
  },
  {
   "cell_type": "markdown",
   "id": "cee94c6a",
   "metadata": {},
   "source": [
    "- `Positive_Review` Train and test has same features"
   ]
  },
  {
   "cell_type": "code",
   "execution_count": null,
   "id": "1af34a8b",
   "metadata": {},
   "outputs": [],
   "source": [
    "# numeric numbers\n",
    "X_train_trans_NU=X_train.drop(columns=['Positive_Review','Negative_Review'],axis=1)\n",
    "X_test_trans_NU=X_test.drop(columns=['Positive_Review','Negative_Review'],axis=1)"
   ]
  },
  {
   "cell_type": "code",
   "execution_count": null,
   "id": "c08b8754",
   "metadata": {},
   "outputs": [],
   "source": [
    "# combine the matrixs\n",
    "X_train_combined = pd.concat([X_train_trans_NU, pd.DataFrame(X_train_trans_PR.toarray()), pd.DataFrame(X_train_trans_NR.toarray())], axis=1)\n",
    "X_test_combined = pd.concat([X_test_trans_NU, pd.DataFrame(X_test_trans_PR.toarray()), pd.DataFrame(X_test_trans_NR.toarray())], axis=1)"
   ]
  },
  {
   "cell_type": "code",
   "execution_count": null,
   "id": "5f6fc367",
   "metadata": {},
   "outputs": [],
   "source": [
    "X_train_combined.shape"
   ]
  },
  {
   "cell_type": "code",
   "execution_count": null,
   "id": "c418ea38",
   "metadata": {},
   "outputs": [],
   "source": [
    "X_test_combined.shape"
   ]
  },
  {
   "cell_type": "markdown",
   "id": "cce00271",
   "metadata": {},
   "source": [
    "### e. What does the min_df parameter do?"
   ]
  },
  {
   "cell_type": "markdown",
   "id": "3e6e168f",
   "metadata": {},
   "source": [
    "- set min_df=5: min_df parameter controls the minimum number of documents a word must be in to be included in the vocabulary.\n",
    "- If I take min_df parameter out from CountVectorizer instantiation, there will be around 10000-20000 features for the train,test split of `Positive_Review` and `Negative_Review`. With will create a super large size combined sparse matrixes, which cannot generate by jupyter notebook (over than 3.8 gb).\n"
   ]
  }
 ],
 "metadata": {
  "kernelspec": {
   "display_name": "Python 3 (ipykernel)",
   "language": "python",
   "name": "python3"
  },
  "language_info": {
   "codemirror_mode": {
    "name": "ipython",
    "version": 3
   },
   "file_extension": ".py",
   "mimetype": "text/x-python",
   "name": "python",
   "nbconvert_exporter": "python",
   "pygments_lexer": "ipython3",
   "version": "3.9.7"
  }
 },
 "nbformat": 4,
 "nbformat_minor": 5
}
