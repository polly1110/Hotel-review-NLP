{
 "cells": [
  {
   "cell_type": "markdown",
   "id": "694ed0f0",
   "metadata": {},
   "source": [
    "# NLP With Hotel Review Part 2 Modeling"
   ]
  },
  {
   "cell_type": "markdown",
   "id": "7557f7af",
   "metadata": {},
   "source": [
    "**This Notebook include several machine learning models to correctly label the sentiment behind hotel reviews.\n",
    "Target column is the `rating` which is a binary column denoting good ratings as 1 and bad ones as 0.**"
   ]
  },
  {
   "cell_type": "markdown",
   "id": "a0acd157",
   "metadata": {},
   "source": [
    "**plan**\n",
    "- Import libraries\n",
    "- Load data\n",
    "- Check shape\n",
    "- Check NaNs\n",
    "- Check duplicated\n",
    "- Columns info"
   ]
  },
  {
   "cell_type": "code",
   "execution_count": 1,
   "id": "9c8564d6",
   "metadata": {},
   "outputs": [],
   "source": [
    "# liabraries\n",
    "import numpy as np\n",
    "import pandas as pd\n",
    "import matplotlib.pyplot as plt\n",
    "import re\n",
    "\n",
    "\n",
    "from sklearn.linear_model import LogisticRegression\n",
    "from sklearn.model_selection import train_test_split\n",
    "from sklearn.pipeline import Pipeline\n",
    "from sklearn.preprocessing import StandardScaler\n",
    "from sklearn.decomposition import PCA\n",
    "from sklearn.neighbors import KNeighborsClassifier\n",
    "from sklearn.tree import DecisionTreeClassifier\n",
    "from sklearn.utils import resample\n",
    "from sklearn.model_selection import cross_validate\n",
    "from sklearn.model_selection import cross_val_score\n",
    "from sklearn.model_selection import GridSearchCV\n",
    "from sklearn.metrics import confusion_matrix,ConfusionMatrixDisplay\n",
    "from sklearn.feature_selection import SelectKBest\n",
    "from sklearn.feature_selection import f_classif\n",
    "\n",
    "\n",
    "\n",
    "#import warnings\n",
    "#warnings.filterwarnings('ignore')"
   ]
  },
  {
   "cell_type": "code",
   "execution_count": 2,
   "id": "44c952cb",
   "metadata": {},
   "outputs": [],
   "source": [
    "# load test data\n",
    "test_df=pd.read_csv('data/clean_test_dataframe.csv')\n",
    "# load train data\n",
    "train_df=pd.read_csv('data/clean_train_dataframe.csv')"
   ]
  },
  {
   "cell_type": "code",
   "execution_count": 3,
   "id": "2bb0000f",
   "metadata": {},
   "outputs": [
    {
     "data": {
      "text/html": [
       "<div>\n",
       "<style scoped>\n",
       "    .dataframe tbody tr th:only-of-type {\n",
       "        vertical-align: middle;\n",
       "    }\n",
       "\n",
       "    .dataframe tbody tr th {\n",
       "        vertical-align: top;\n",
       "    }\n",
       "\n",
       "    .dataframe thead th {\n",
       "        text-align: right;\n",
       "    }\n",
       "</style>\n",
       "<table border=\"1\" class=\"dataframe\">\n",
       "  <thead>\n",
       "    <tr style=\"text-align: right;\">\n",
       "      <th></th>\n",
       "      <th>Additional_Number_of_Scoring</th>\n",
       "      <th>Average_Score</th>\n",
       "      <th>Review_Total_Negative_Word_Counts</th>\n",
       "      <th>Total_Number_of_Reviews</th>\n",
       "      <th>Review_Total_Positive_Word_Counts</th>\n",
       "      <th>Total_Number_of_Reviews_Reviewer_Has_Given</th>\n",
       "      <th>days_since_review</th>\n",
       "      <th>lat</th>\n",
       "      <th>lng</th>\n",
       "      <th>weekday_of_review</th>\n",
       "      <th>...</th>\n",
       "      <th>n_worry</th>\n",
       "      <th>n_worth</th>\n",
       "      <th>n_would</th>\n",
       "      <th>n_write</th>\n",
       "      <th>n_wrong</th>\n",
       "      <th>n_year</th>\n",
       "      <th>n_yes</th>\n",
       "      <th>n_yet</th>\n",
       "      <th>n_young</th>\n",
       "      <th>rating</th>\n",
       "    </tr>\n",
       "  </thead>\n",
       "  <tbody>\n",
       "    <tr>\n",
       "      <th>0</th>\n",
       "      <td>1005</td>\n",
       "      <td>8.3</td>\n",
       "      <td>0</td>\n",
       "      <td>3469</td>\n",
       "      <td>6</td>\n",
       "      <td>2</td>\n",
       "      <td>297</td>\n",
       "      <td>51.559096</td>\n",
       "      <td>-0.284704</td>\n",
       "      <td>0</td>\n",
       "      <td>...</td>\n",
       "      <td>0</td>\n",
       "      <td>0</td>\n",
       "      <td>0</td>\n",
       "      <td>0</td>\n",
       "      <td>0</td>\n",
       "      <td>0</td>\n",
       "      <td>0</td>\n",
       "      <td>0</td>\n",
       "      <td>0</td>\n",
       "      <td>0</td>\n",
       "    </tr>\n",
       "    <tr>\n",
       "      <th>1</th>\n",
       "      <td>487</td>\n",
       "      <td>8.8</td>\n",
       "      <td>46</td>\n",
       "      <td>1805</td>\n",
       "      <td>121</td>\n",
       "      <td>1</td>\n",
       "      <td>4</td>\n",
       "      <td>51.474469</td>\n",
       "      <td>-0.019428</td>\n",
       "      <td>6</td>\n",
       "      <td>...</td>\n",
       "      <td>0</td>\n",
       "      <td>0</td>\n",
       "      <td>0</td>\n",
       "      <td>0</td>\n",
       "      <td>0</td>\n",
       "      <td>0</td>\n",
       "      <td>0</td>\n",
       "      <td>0</td>\n",
       "      <td>0</td>\n",
       "      <td>1</td>\n",
       "    </tr>\n",
       "    <tr>\n",
       "      <th>2</th>\n",
       "      <td>570</td>\n",
       "      <td>9.3</td>\n",
       "      <td>0</td>\n",
       "      <td>2319</td>\n",
       "      <td>9</td>\n",
       "      <td>1</td>\n",
       "      <td>590</td>\n",
       "      <td>51.505696</td>\n",
       "      <td>-0.101525</td>\n",
       "      <td>1</td>\n",
       "      <td>...</td>\n",
       "      <td>0</td>\n",
       "      <td>0</td>\n",
       "      <td>0</td>\n",
       "      <td>0</td>\n",
       "      <td>0</td>\n",
       "      <td>0</td>\n",
       "      <td>0</td>\n",
       "      <td>0</td>\n",
       "      <td>0</td>\n",
       "      <td>1</td>\n",
       "    </tr>\n",
       "    <tr>\n",
       "      <th>3</th>\n",
       "      <td>2623</td>\n",
       "      <td>8.7</td>\n",
       "      <td>19</td>\n",
       "      <td>12158</td>\n",
       "      <td>0</td>\n",
       "      <td>2</td>\n",
       "      <td>269</td>\n",
       "      <td>51.500961</td>\n",
       "      <td>-0.116591</td>\n",
       "      <td>0</td>\n",
       "      <td>...</td>\n",
       "      <td>0</td>\n",
       "      <td>0</td>\n",
       "      <td>0</td>\n",
       "      <td>0</td>\n",
       "      <td>0</td>\n",
       "      <td>0</td>\n",
       "      <td>0</td>\n",
       "      <td>0</td>\n",
       "      <td>0</td>\n",
       "      <td>0</td>\n",
       "    </tr>\n",
       "    <tr>\n",
       "      <th>4</th>\n",
       "      <td>365</td>\n",
       "      <td>8.1</td>\n",
       "      <td>13</td>\n",
       "      <td>1567</td>\n",
       "      <td>0</td>\n",
       "      <td>2</td>\n",
       "      <td>373</td>\n",
       "      <td>51.515125</td>\n",
       "      <td>-0.160066</td>\n",
       "      <td>1</td>\n",
       "      <td>...</td>\n",
       "      <td>0</td>\n",
       "      <td>0</td>\n",
       "      <td>0</td>\n",
       "      <td>0</td>\n",
       "      <td>0</td>\n",
       "      <td>0</td>\n",
       "      <td>0</td>\n",
       "      <td>0</td>\n",
       "      <td>0</td>\n",
       "      <td>0</td>\n",
       "    </tr>\n",
       "  </tbody>\n",
       "</table>\n",
       "<p>5 rows × 2744 columns</p>\n",
       "</div>"
      ],
      "text/plain": [
       "   Additional_Number_of_Scoring  Average_Score  \\\n",
       "0                          1005            8.3   \n",
       "1                           487            8.8   \n",
       "2                           570            9.3   \n",
       "3                          2623            8.7   \n",
       "4                           365            8.1   \n",
       "\n",
       "   Review_Total_Negative_Word_Counts  Total_Number_of_Reviews  \\\n",
       "0                                  0                     3469   \n",
       "1                                 46                     1805   \n",
       "2                                  0                     2319   \n",
       "3                                 19                    12158   \n",
       "4                                 13                     1567   \n",
       "\n",
       "   Review_Total_Positive_Word_Counts  \\\n",
       "0                                  6   \n",
       "1                                121   \n",
       "2                                  9   \n",
       "3                                  0   \n",
       "4                                  0   \n",
       "\n",
       "   Total_Number_of_Reviews_Reviewer_Has_Given  days_since_review        lat  \\\n",
       "0                                           2                297  51.559096   \n",
       "1                                           1                  4  51.474469   \n",
       "2                                           1                590  51.505696   \n",
       "3                                           2                269  51.500961   \n",
       "4                                           2                373  51.515125   \n",
       "\n",
       "        lng  weekday_of_review  ...  n_worry  n_worth  n_would  n_write  \\\n",
       "0 -0.284704                  0  ...        0        0        0        0   \n",
       "1 -0.019428                  6  ...        0        0        0        0   \n",
       "2 -0.101525                  1  ...        0        0        0        0   \n",
       "3 -0.116591                  0  ...        0        0        0        0   \n",
       "4 -0.160066                  1  ...        0        0        0        0   \n",
       "\n",
       "   n_wrong  n_year  n_yes  n_yet  n_young  rating  \n",
       "0        0       0      0      0        0       0  \n",
       "1        0       0      0      0        0       1  \n",
       "2        0       0      0      0        0       1  \n",
       "3        0       0      0      0        0       0  \n",
       "4        0       0      0      0        0       0  \n",
       "\n",
       "[5 rows x 2744 columns]"
      ]
     },
     "execution_count": 3,
     "metadata": {},
     "output_type": "execute_result"
    }
   ],
   "source": [
    "test_df.head()"
   ]
  },
  {
   "cell_type": "code",
   "execution_count": 4,
   "id": "9ce5250b",
   "metadata": {},
   "outputs": [
    {
     "data": {
      "text/html": [
       "<div>\n",
       "<style scoped>\n",
       "    .dataframe tbody tr th:only-of-type {\n",
       "        vertical-align: middle;\n",
       "    }\n",
       "\n",
       "    .dataframe tbody tr th {\n",
       "        vertical-align: top;\n",
       "    }\n",
       "\n",
       "    .dataframe thead th {\n",
       "        text-align: right;\n",
       "    }\n",
       "</style>\n",
       "<table border=\"1\" class=\"dataframe\">\n",
       "  <thead>\n",
       "    <tr style=\"text-align: right;\">\n",
       "      <th></th>\n",
       "      <th>Additional_Number_of_Scoring</th>\n",
       "      <th>Average_Score</th>\n",
       "      <th>Review_Total_Negative_Word_Counts</th>\n",
       "      <th>Total_Number_of_Reviews</th>\n",
       "      <th>Review_Total_Positive_Word_Counts</th>\n",
       "      <th>Total_Number_of_Reviews_Reviewer_Has_Given</th>\n",
       "      <th>days_since_review</th>\n",
       "      <th>lat</th>\n",
       "      <th>lng</th>\n",
       "      <th>weekday_of_review</th>\n",
       "      <th>...</th>\n",
       "      <th>n_worry</th>\n",
       "      <th>n_worth</th>\n",
       "      <th>n_would</th>\n",
       "      <th>n_write</th>\n",
       "      <th>n_wrong</th>\n",
       "      <th>n_year</th>\n",
       "      <th>n_yes</th>\n",
       "      <th>n_yet</th>\n",
       "      <th>n_young</th>\n",
       "      <th>rating</th>\n",
       "    </tr>\n",
       "  </thead>\n",
       "  <tbody>\n",
       "    <tr>\n",
       "      <th>0</th>\n",
       "      <td>620</td>\n",
       "      <td>9.0</td>\n",
       "      <td>0</td>\n",
       "      <td>1974</td>\n",
       "      <td>164</td>\n",
       "      <td>1</td>\n",
       "      <td>562</td>\n",
       "      <td>51.506558</td>\n",
       "      <td>-0.004514</td>\n",
       "      <td>1</td>\n",
       "      <td>...</td>\n",
       "      <td>0</td>\n",
       "      <td>0</td>\n",
       "      <td>0</td>\n",
       "      <td>0</td>\n",
       "      <td>0</td>\n",
       "      <td>0</td>\n",
       "      <td>0</td>\n",
       "      <td>0</td>\n",
       "      <td>0</td>\n",
       "      <td>1</td>\n",
       "    </tr>\n",
       "    <tr>\n",
       "      <th>1</th>\n",
       "      <td>1258</td>\n",
       "      <td>9.4</td>\n",
       "      <td>6</td>\n",
       "      <td>4204</td>\n",
       "      <td>4</td>\n",
       "      <td>5</td>\n",
       "      <td>276</td>\n",
       "      <td>51.502435</td>\n",
       "      <td>-0.000250</td>\n",
       "      <td>0</td>\n",
       "      <td>...</td>\n",
       "      <td>0</td>\n",
       "      <td>0</td>\n",
       "      <td>0</td>\n",
       "      <td>0</td>\n",
       "      <td>0</td>\n",
       "      <td>0</td>\n",
       "      <td>0</td>\n",
       "      <td>0</td>\n",
       "      <td>0</td>\n",
       "      <td>1</td>\n",
       "    </tr>\n",
       "    <tr>\n",
       "      <th>2</th>\n",
       "      <td>995</td>\n",
       "      <td>8.1</td>\n",
       "      <td>2</td>\n",
       "      <td>3826</td>\n",
       "      <td>38</td>\n",
       "      <td>1</td>\n",
       "      <td>129</td>\n",
       "      <td>51.504348</td>\n",
       "      <td>-0.033444</td>\n",
       "      <td>0</td>\n",
       "      <td>...</td>\n",
       "      <td>0</td>\n",
       "      <td>0</td>\n",
       "      <td>0</td>\n",
       "      <td>0</td>\n",
       "      <td>0</td>\n",
       "      <td>0</td>\n",
       "      <td>0</td>\n",
       "      <td>0</td>\n",
       "      <td>0</td>\n",
       "      <td>1</td>\n",
       "    </tr>\n",
       "    <tr>\n",
       "      <th>3</th>\n",
       "      <td>853</td>\n",
       "      <td>8.4</td>\n",
       "      <td>7</td>\n",
       "      <td>2726</td>\n",
       "      <td>10</td>\n",
       "      <td>10</td>\n",
       "      <td>164</td>\n",
       "      <td>51.507377</td>\n",
       "      <td>0.038657</td>\n",
       "      <td>0</td>\n",
       "      <td>...</td>\n",
       "      <td>0</td>\n",
       "      <td>0</td>\n",
       "      <td>0</td>\n",
       "      <td>0</td>\n",
       "      <td>0</td>\n",
       "      <td>0</td>\n",
       "      <td>0</td>\n",
       "      <td>0</td>\n",
       "      <td>0</td>\n",
       "      <td>0</td>\n",
       "    </tr>\n",
       "    <tr>\n",
       "      <th>4</th>\n",
       "      <td>1243</td>\n",
       "      <td>8.1</td>\n",
       "      <td>11</td>\n",
       "      <td>6608</td>\n",
       "      <td>8</td>\n",
       "      <td>69</td>\n",
       "      <td>639</td>\n",
       "      <td>51.513556</td>\n",
       "      <td>-0.180002</td>\n",
       "      <td>1</td>\n",
       "      <td>...</td>\n",
       "      <td>0</td>\n",
       "      <td>0</td>\n",
       "      <td>0</td>\n",
       "      <td>0</td>\n",
       "      <td>0</td>\n",
       "      <td>0</td>\n",
       "      <td>0</td>\n",
       "      <td>0</td>\n",
       "      <td>0</td>\n",
       "      <td>0</td>\n",
       "    </tr>\n",
       "  </tbody>\n",
       "</table>\n",
       "<p>5 rows × 2744 columns</p>\n",
       "</div>"
      ],
      "text/plain": [
       "   Additional_Number_of_Scoring  Average_Score  \\\n",
       "0                           620            9.0   \n",
       "1                          1258            9.4   \n",
       "2                           995            8.1   \n",
       "3                           853            8.4   \n",
       "4                          1243            8.1   \n",
       "\n",
       "   Review_Total_Negative_Word_Counts  Total_Number_of_Reviews  \\\n",
       "0                                  0                     1974   \n",
       "1                                  6                     4204   \n",
       "2                                  2                     3826   \n",
       "3                                  7                     2726   \n",
       "4                                 11                     6608   \n",
       "\n",
       "   Review_Total_Positive_Word_Counts  \\\n",
       "0                                164   \n",
       "1                                  4   \n",
       "2                                 38   \n",
       "3                                 10   \n",
       "4                                  8   \n",
       "\n",
       "   Total_Number_of_Reviews_Reviewer_Has_Given  days_since_review        lat  \\\n",
       "0                                           1                562  51.506558   \n",
       "1                                           5                276  51.502435   \n",
       "2                                           1                129  51.504348   \n",
       "3                                          10                164  51.507377   \n",
       "4                                          69                639  51.513556   \n",
       "\n",
       "        lng  weekday_of_review  ...  n_worry  n_worth  n_would  n_write  \\\n",
       "0 -0.004514                  1  ...        0        0        0        0   \n",
       "1 -0.000250                  0  ...        0        0        0        0   \n",
       "2 -0.033444                  0  ...        0        0        0        0   \n",
       "3  0.038657                  0  ...        0        0        0        0   \n",
       "4 -0.180002                  1  ...        0        0        0        0   \n",
       "\n",
       "   n_wrong  n_year  n_yes  n_yet  n_young  rating  \n",
       "0        0       0      0      0        0       1  \n",
       "1        0       0      0      0        0       1  \n",
       "2        0       0      0      0        0       1  \n",
       "3        0       0      0      0        0       0  \n",
       "4        0       0      0      0        0       0  \n",
       "\n",
       "[5 rows x 2744 columns]"
      ]
     },
     "execution_count": 4,
     "metadata": {},
     "output_type": "execute_result"
    }
   ],
   "source": [
    "train_df.head()"
   ]
  },
  {
   "cell_type": "code",
   "execution_count": 5,
   "id": "2714f816",
   "metadata": {},
   "outputs": [
    {
     "name": "stdout",
     "output_type": "stream",
     "text": [
      "There are 4267 rows and 2744 columns in the test dataframe, 12798 rows and 2744 columns in the train dataframe.\n"
     ]
    }
   ],
   "source": [
    "# shape\n",
    "print(f\"There are {test_df.shape[0]} rows and {test_df.shape[1]} columns in the test dataframe, {train_df.shape[0]} rows and {train_df.shape[1]} columns in the train dataframe.\")"
   ]
  },
  {
   "cell_type": "code",
   "execution_count": 6,
   "id": "df76e115",
   "metadata": {},
   "outputs": [
    {
     "data": {
      "text/plain": [
       "0.0"
      ]
     },
     "execution_count": 6,
     "metadata": {},
     "output_type": "execute_result"
    }
   ],
   "source": [
    "# no Nans in test_df\n",
    "test_df.isna().mean().sum()"
   ]
  },
  {
   "cell_type": "code",
   "execution_count": 7,
   "id": "5878bc25",
   "metadata": {},
   "outputs": [
    {
     "data": {
      "text/plain": [
       "0.0"
      ]
     },
     "execution_count": 7,
     "metadata": {},
     "output_type": "execute_result"
    }
   ],
   "source": [
    "# no Nans in train_df\n",
    "train_df.isna().mean().sum()"
   ]
  },
  {
   "cell_type": "code",
   "execution_count": 8,
   "id": "1d25db5d",
   "metadata": {},
   "outputs": [
    {
     "data": {
      "text/plain": [
       "0"
      ]
     },
     "execution_count": 8,
     "metadata": {},
     "output_type": "execute_result"
    }
   ],
   "source": [
    "# no duplicated columns in test_df\n",
    "test_df.duplicated().sum()"
   ]
  },
  {
   "cell_type": "code",
   "execution_count": 9,
   "id": "98b3afa9",
   "metadata": {},
   "outputs": [
    {
     "data": {
      "text/plain": [
       "0"
      ]
     },
     "execution_count": 9,
     "metadata": {},
     "output_type": "execute_result"
    }
   ],
   "source": [
    "#no duplicated rows in test_df\n",
    "test_df.duplicated().T.sum()"
   ]
  },
  {
   "cell_type": "code",
   "execution_count": 10,
   "id": "0bed7fc5",
   "metadata": {},
   "outputs": [
    {
     "data": {
      "text/plain": [
       "0"
      ]
     },
     "execution_count": 10,
     "metadata": {},
     "output_type": "execute_result"
    }
   ],
   "source": [
    "# no duplicated columns in train_df\n",
    "train_df.duplicated().sum()"
   ]
  },
  {
   "cell_type": "code",
   "execution_count": 11,
   "id": "a7b7a24e",
   "metadata": {},
   "outputs": [
    {
     "data": {
      "text/plain": [
       "0"
      ]
     },
     "execution_count": 11,
     "metadata": {},
     "output_type": "execute_result"
    }
   ],
   "source": [
    "# no duplicated rows in train_df\n",
    "train_df.duplicated().T.sum()"
   ]
  },
  {
   "cell_type": "code",
   "execution_count": 12,
   "id": "b877a0a6",
   "metadata": {},
   "outputs": [],
   "source": [
    "feature_test=test_df.columns\n",
    "feature_train=train_df.columns"
   ]
  },
  {
   "cell_type": "code",
   "execution_count": 13,
   "id": "8b17be08",
   "metadata": {},
   "outputs": [
    {
     "name": "stdout",
     "output_type": "stream",
     "text": [
      "All the features are same.\n"
     ]
    }
   ],
   "source": [
    "for col in feature_test:\n",
    "    if col not in feature_train:\n",
    "        print({col})\n",
    "    else:\n",
    "        break\n",
    "print(\"All the features are same.\")\n",
    "        "
   ]
  },
  {
   "cell_type": "markdown",
   "id": "af928d5b",
   "metadata": {},
   "source": [
    "- No Nans or duplicated rows and columns in both train_df and test_df, they are clean.\n",
    "- train_df and test_df has exactly same features, ready to be used in the modeling."
   ]
  },
  {
   "cell_type": "markdown",
   "id": "402f1405",
   "metadata": {},
   "source": [
    "---"
   ]
  },
  {
   "cell_type": "markdown",
   "id": "7a3eefd9",
   "metadata": {},
   "source": [
    "# Modeling"
   ]
  },
  {
   "cell_type": "markdown",
   "id": "84af2140",
   "metadata": {},
   "source": [
    "## 1.Employ a linear classifier on this dataset"
   ]
  },
  {
   "cell_type": "markdown",
   "id": "67102475",
   "metadata": {},
   "source": [
    "### a. Fit a logisitic regression model to this data with the solver set to lbfgs. What is the accuracy score on the test set?"
   ]
  },
  {
   "cell_type": "markdown",
   "id": "c8f3444a",
   "metadata": {},
   "source": [
    "**plan**:\n",
    "- Dataset has already been split into train and test, it is no need to define X and y, I will define X_train,X_test,y_train, and y_test instead.\n",
    "- check train and test\n",
    "- import package\n",
    "- Instanitate \n",
    "- fit\n",
    "- predict"
   ]
  },
  {
   "cell_type": "code",
   "execution_count": 14,
   "id": "a20c799a",
   "metadata": {},
   "outputs": [],
   "source": [
    "# X_train X_test\n",
    "X_train=train_df.copy()\n",
    "X_train.drop('rating',axis=1,inplace=True)\n",
    "X_test=test_df.copy()\n",
    "X_test.drop('rating',axis=1,inplace=True)"
   ]
  },
  {
   "cell_type": "code",
   "execution_count": 15,
   "id": "677b2860",
   "metadata": {},
   "outputs": [],
   "source": [
    "# y_train y_test\n",
    "y_train=train_df['rating']\n",
    "y_test=test_df['rating']"
   ]
  },
  {
   "cell_type": "code",
   "execution_count": 16,
   "id": "dbfce19b",
   "metadata": {},
   "outputs": [
    {
     "data": {
      "text/html": [
       "<div>\n",
       "<style scoped>\n",
       "    .dataframe tbody tr th:only-of-type {\n",
       "        vertical-align: middle;\n",
       "    }\n",
       "\n",
       "    .dataframe tbody tr th {\n",
       "        vertical-align: top;\n",
       "    }\n",
       "\n",
       "    .dataframe thead th {\n",
       "        text-align: right;\n",
       "    }\n",
       "</style>\n",
       "<table border=\"1\" class=\"dataframe\">\n",
       "  <thead>\n",
       "    <tr style=\"text-align: right;\">\n",
       "      <th></th>\n",
       "      <th>Additional_Number_of_Scoring</th>\n",
       "      <th>Average_Score</th>\n",
       "      <th>Review_Total_Negative_Word_Counts</th>\n",
       "      <th>Total_Number_of_Reviews</th>\n",
       "      <th>Review_Total_Positive_Word_Counts</th>\n",
       "      <th>Total_Number_of_Reviews_Reviewer_Has_Given</th>\n",
       "      <th>days_since_review</th>\n",
       "      <th>lat</th>\n",
       "      <th>lng</th>\n",
       "      <th>weekday_of_review</th>\n",
       "      <th>...</th>\n",
       "      <th>n_world</th>\n",
       "      <th>n_worry</th>\n",
       "      <th>n_worth</th>\n",
       "      <th>n_would</th>\n",
       "      <th>n_write</th>\n",
       "      <th>n_wrong</th>\n",
       "      <th>n_year</th>\n",
       "      <th>n_yes</th>\n",
       "      <th>n_yet</th>\n",
       "      <th>n_young</th>\n",
       "    </tr>\n",
       "  </thead>\n",
       "  <tbody>\n",
       "    <tr>\n",
       "      <th>0</th>\n",
       "      <td>620</td>\n",
       "      <td>9.0</td>\n",
       "      <td>0</td>\n",
       "      <td>1974</td>\n",
       "      <td>164</td>\n",
       "      <td>1</td>\n",
       "      <td>562</td>\n",
       "      <td>51.506558</td>\n",
       "      <td>-0.004514</td>\n",
       "      <td>1</td>\n",
       "      <td>...</td>\n",
       "      <td>0</td>\n",
       "      <td>0</td>\n",
       "      <td>0</td>\n",
       "      <td>0</td>\n",
       "      <td>0</td>\n",
       "      <td>0</td>\n",
       "      <td>0</td>\n",
       "      <td>0</td>\n",
       "      <td>0</td>\n",
       "      <td>0</td>\n",
       "    </tr>\n",
       "  </tbody>\n",
       "</table>\n",
       "<p>1 rows × 2743 columns</p>\n",
       "</div>"
      ],
      "text/plain": [
       "   Additional_Number_of_Scoring  Average_Score  \\\n",
       "0                           620            9.0   \n",
       "\n",
       "   Review_Total_Negative_Word_Counts  Total_Number_of_Reviews  \\\n",
       "0                                  0                     1974   \n",
       "\n",
       "   Review_Total_Positive_Word_Counts  \\\n",
       "0                                164   \n",
       "\n",
       "   Total_Number_of_Reviews_Reviewer_Has_Given  days_since_review        lat  \\\n",
       "0                                           1                562  51.506558   \n",
       "\n",
       "        lng  weekday_of_review  ...  n_world  n_worry  n_worth  n_would  \\\n",
       "0 -0.004514                  1  ...        0        0        0        0   \n",
       "\n",
       "   n_write  n_wrong  n_year  n_yes  n_yet  n_young  \n",
       "0        0        0       0      0      0        0  \n",
       "\n",
       "[1 rows x 2743 columns]"
      ]
     },
     "execution_count": 16,
     "metadata": {},
     "output_type": "execute_result"
    }
   ],
   "source": [
    "# check train and test\n",
    "X_train.head(1)"
   ]
  },
  {
   "cell_type": "code",
   "execution_count": 17,
   "id": "54cdd457",
   "metadata": {},
   "outputs": [
    {
     "data": {
      "text/html": [
       "<div>\n",
       "<style scoped>\n",
       "    .dataframe tbody tr th:only-of-type {\n",
       "        vertical-align: middle;\n",
       "    }\n",
       "\n",
       "    .dataframe tbody tr th {\n",
       "        vertical-align: top;\n",
       "    }\n",
       "\n",
       "    .dataframe thead th {\n",
       "        text-align: right;\n",
       "    }\n",
       "</style>\n",
       "<table border=\"1\" class=\"dataframe\">\n",
       "  <thead>\n",
       "    <tr style=\"text-align: right;\">\n",
       "      <th></th>\n",
       "      <th>Additional_Number_of_Scoring</th>\n",
       "      <th>Average_Score</th>\n",
       "      <th>Review_Total_Negative_Word_Counts</th>\n",
       "      <th>Total_Number_of_Reviews</th>\n",
       "      <th>Review_Total_Positive_Word_Counts</th>\n",
       "      <th>Total_Number_of_Reviews_Reviewer_Has_Given</th>\n",
       "      <th>days_since_review</th>\n",
       "      <th>lat</th>\n",
       "      <th>lng</th>\n",
       "      <th>weekday_of_review</th>\n",
       "      <th>...</th>\n",
       "      <th>n_world</th>\n",
       "      <th>n_worry</th>\n",
       "      <th>n_worth</th>\n",
       "      <th>n_would</th>\n",
       "      <th>n_write</th>\n",
       "      <th>n_wrong</th>\n",
       "      <th>n_year</th>\n",
       "      <th>n_yes</th>\n",
       "      <th>n_yet</th>\n",
       "      <th>n_young</th>\n",
       "    </tr>\n",
       "  </thead>\n",
       "  <tbody>\n",
       "    <tr>\n",
       "      <th>0</th>\n",
       "      <td>1005</td>\n",
       "      <td>8.3</td>\n",
       "      <td>0</td>\n",
       "      <td>3469</td>\n",
       "      <td>6</td>\n",
       "      <td>2</td>\n",
       "      <td>297</td>\n",
       "      <td>51.559096</td>\n",
       "      <td>-0.284704</td>\n",
       "      <td>0</td>\n",
       "      <td>...</td>\n",
       "      <td>0</td>\n",
       "      <td>0</td>\n",
       "      <td>0</td>\n",
       "      <td>0</td>\n",
       "      <td>0</td>\n",
       "      <td>0</td>\n",
       "      <td>0</td>\n",
       "      <td>0</td>\n",
       "      <td>0</td>\n",
       "      <td>0</td>\n",
       "    </tr>\n",
       "  </tbody>\n",
       "</table>\n",
       "<p>1 rows × 2743 columns</p>\n",
       "</div>"
      ],
      "text/plain": [
       "   Additional_Number_of_Scoring  Average_Score  \\\n",
       "0                          1005            8.3   \n",
       "\n",
       "   Review_Total_Negative_Word_Counts  Total_Number_of_Reviews  \\\n",
       "0                                  0                     3469   \n",
       "\n",
       "   Review_Total_Positive_Word_Counts  \\\n",
       "0                                  6   \n",
       "\n",
       "   Total_Number_of_Reviews_Reviewer_Has_Given  days_since_review        lat  \\\n",
       "0                                           2                297  51.559096   \n",
       "\n",
       "        lng  weekday_of_review  ...  n_world  n_worry  n_worth  n_would  \\\n",
       "0 -0.284704                  0  ...        0        0        0        0   \n",
       "\n",
       "   n_write  n_wrong  n_year  n_yes  n_yet  n_young  \n",
       "0        0        0       0      0      0        0  \n",
       "\n",
       "[1 rows x 2743 columns]"
      ]
     },
     "execution_count": 17,
     "metadata": {},
     "output_type": "execute_result"
    }
   ],
   "source": [
    "X_test.head(1)"
   ]
  },
  {
   "cell_type": "code",
   "execution_count": 18,
   "id": "ce298dc9",
   "metadata": {},
   "outputs": [
    {
     "data": {
      "text/plain": [
       "0    0\n",
       "Name: rating, dtype: int64"
      ]
     },
     "execution_count": 18,
     "metadata": {},
     "output_type": "execute_result"
    }
   ],
   "source": [
    "y_test.head(1)"
   ]
  },
  {
   "cell_type": "code",
   "execution_count": 19,
   "id": "80804567",
   "metadata": {},
   "outputs": [
    {
     "data": {
      "text/plain": [
       "0    1\n",
       "Name: rating, dtype: int64"
      ]
     },
     "execution_count": 19,
     "metadata": {},
     "output_type": "execute_result"
    }
   ],
   "source": [
    "y_train.head(1)"
   ]
  },
  {
   "cell_type": "code",
   "execution_count": 20,
   "id": "34870b94",
   "metadata": {},
   "outputs": [
    {
     "name": "stderr",
     "output_type": "stream",
     "text": [
      "D:\\anaconda3\\lib\\site-packages\\sklearn\\linear_model\\_logistic.py:444: ConvergenceWarning: lbfgs failed to converge (status=1):\n",
      "STOP: TOTAL NO. of ITERATIONS REACHED LIMIT.\n",
      "\n",
      "Increase the number of iterations (max_iter) or scale the data as shown in:\n",
      "    https://scikit-learn.org/stable/modules/preprocessing.html\n",
      "Please also refer to the documentation for alternative solver options:\n",
      "    https://scikit-learn.org/stable/modules/linear_model.html#logistic-regression\n",
      "  n_iter_i = _check_optimize_result(\n"
     ]
    }
   ],
   "source": [
    "# Instanitate \n",
    "hotel_logistic=LogisticRegression(solver='lbfgs')\n",
    "# fit\n",
    "hotel_logistic.fit(X_train,y_train)\n",
    "# predict\n",
    "accuracy_score=hotel_logistic.score(X_test,y_test)"
   ]
  },
  {
   "cell_type": "code",
   "execution_count": 21,
   "id": "a56f9bb5",
   "metadata": {},
   "outputs": [
    {
     "name": "stdout",
     "output_type": "stream",
     "text": [
      "accuracy score is 0.7180689008671197, with default max_iter\n"
     ]
    }
   ],
   "source": [
    "print(f\"accuracy score is {accuracy_score}, with default max_iter\")"
   ]
  },
  {
   "cell_type": "markdown",
   "id": "cd438a99",
   "metadata": {},
   "source": [
    "- The warning means what it mainly says: Suggestions to try to make the solver (the algorithm) converges.\n",
    "- There no enough max_iter, increase max_iter will increase accurcy score.\n",
    "- If I increase into max_iter=1000 I will get a accurcy score :0.77 (still with warning)."
   ]
  },
  {
   "cell_type": "markdown",
   "id": "c5d353cf",
   "metadata": {},
   "source": [
    "### b. What are the 20 words most predictive of a good review (from the positive review column)? What are the 20 words most predictive with a bad review (from the negative review column)? Use the regression coefficients to answer this question"
   ]
  },
  {
   "cell_type": "markdown",
   "id": "4cbbab64",
   "metadata": {},
   "source": [
    "**Plan**\n",
    "- I only want to konw the relationship between `review conlumns` and `rating`. So I make a new df only contains reviews, for both train and test.\n",
    "- find positve columns start with `p_`, negtive columns satrt with `n_`\n",
    "- define X and y\n",
    "- Instanitate \n",
    "- fit\n",
    "- plot"
   ]
  },
  {
   "cell_type": "markdown",
   "id": "9c719da3",
   "metadata": {},
   "source": [
    "- I will using train set, to process 20 words most predictive."
   ]
  },
  {
   "cell_type": "markdown",
   "id": "ea470bb3",
   "metadata": {},
   "source": [
    "**positive review**"
   ]
  },
  {
   "cell_type": "code",
   "execution_count": 22,
   "id": "632cc3f1",
   "metadata": {},
   "outputs": [],
   "source": [
    "# create df only positive review\n",
    "\n",
    "\n",
    "postive_cols=train_df.filter(regex=\"^p_[a-zA_Z]+$\").columns.tolist()\n",
    "negtive_cols=train_df.filter(regex=\"^n_[a-zA_Z]+$\").columns.tolist()\n",
    "predictive_cols=postive_cols+negtive_cols+['rating']\n",
    "\n",
    "# train test\n",
    "review_train=train_df[predictive_cols]\n",
    "review_test=test_df[predictive_cols]"
   ]
  },
  {
   "cell_type": "code",
   "execution_count": 23,
   "id": "42eb8359",
   "metadata": {},
   "outputs": [
    {
     "data": {
      "text/plain": [
       "(12798, 2254)"
      ]
     },
     "execution_count": 23,
     "metadata": {},
     "output_type": "execute_result"
    }
   ],
   "source": [
    "review_train.shape"
   ]
  },
  {
   "cell_type": "code",
   "execution_count": 24,
   "id": "20bd35c1",
   "metadata": {},
   "outputs": [
    {
     "data": {
      "text/html": [
       "<div>\n",
       "<style scoped>\n",
       "    .dataframe tbody tr th:only-of-type {\n",
       "        vertical-align: middle;\n",
       "    }\n",
       "\n",
       "    .dataframe tbody tr th {\n",
       "        vertical-align: top;\n",
       "    }\n",
       "\n",
       "    .dataframe thead th {\n",
       "        text-align: right;\n",
       "    }\n",
       "</style>\n",
       "<table border=\"1\" class=\"dataframe\">\n",
       "  <thead>\n",
       "    <tr style=\"text-align: right;\">\n",
       "      <th></th>\n",
       "      <th>p_able</th>\n",
       "      <th>p_absolutely</th>\n",
       "      <th>p_access</th>\n",
       "      <th>p_accessible</th>\n",
       "      <th>p_accommodate</th>\n",
       "      <th>p_accommodation</th>\n",
       "      <th>p_across</th>\n",
       "      <th>p_actually</th>\n",
       "      <th>p_add</th>\n",
       "      <th>p_adequate</th>\n",
       "      <th>...</th>\n",
       "      <th>n_worry</th>\n",
       "      <th>n_worth</th>\n",
       "      <th>n_would</th>\n",
       "      <th>n_write</th>\n",
       "      <th>n_wrong</th>\n",
       "      <th>n_year</th>\n",
       "      <th>n_yes</th>\n",
       "      <th>n_yet</th>\n",
       "      <th>n_young</th>\n",
       "      <th>rating</th>\n",
       "    </tr>\n",
       "  </thead>\n",
       "  <tbody>\n",
       "    <tr>\n",
       "      <th>0</th>\n",
       "      <td>0</td>\n",
       "      <td>0</td>\n",
       "      <td>0</td>\n",
       "      <td>0</td>\n",
       "      <td>0</td>\n",
       "      <td>0</td>\n",
       "      <td>0</td>\n",
       "      <td>0</td>\n",
       "      <td>0</td>\n",
       "      <td>0</td>\n",
       "      <td>...</td>\n",
       "      <td>0</td>\n",
       "      <td>0</td>\n",
       "      <td>0</td>\n",
       "      <td>0</td>\n",
       "      <td>0</td>\n",
       "      <td>0</td>\n",
       "      <td>0</td>\n",
       "      <td>0</td>\n",
       "      <td>0</td>\n",
       "      <td>1</td>\n",
       "    </tr>\n",
       "    <tr>\n",
       "      <th>1</th>\n",
       "      <td>0</td>\n",
       "      <td>0</td>\n",
       "      <td>0</td>\n",
       "      <td>0</td>\n",
       "      <td>0</td>\n",
       "      <td>0</td>\n",
       "      <td>0</td>\n",
       "      <td>0</td>\n",
       "      <td>0</td>\n",
       "      <td>0</td>\n",
       "      <td>...</td>\n",
       "      <td>0</td>\n",
       "      <td>0</td>\n",
       "      <td>0</td>\n",
       "      <td>0</td>\n",
       "      <td>0</td>\n",
       "      <td>0</td>\n",
       "      <td>0</td>\n",
       "      <td>0</td>\n",
       "      <td>0</td>\n",
       "      <td>1</td>\n",
       "    </tr>\n",
       "    <tr>\n",
       "      <th>2</th>\n",
       "      <td>0</td>\n",
       "      <td>0</td>\n",
       "      <td>0</td>\n",
       "      <td>0</td>\n",
       "      <td>0</td>\n",
       "      <td>0</td>\n",
       "      <td>0</td>\n",
       "      <td>0</td>\n",
       "      <td>0</td>\n",
       "      <td>0</td>\n",
       "      <td>...</td>\n",
       "      <td>0</td>\n",
       "      <td>0</td>\n",
       "      <td>0</td>\n",
       "      <td>0</td>\n",
       "      <td>0</td>\n",
       "      <td>0</td>\n",
       "      <td>0</td>\n",
       "      <td>0</td>\n",
       "      <td>0</td>\n",
       "      <td>1</td>\n",
       "    </tr>\n",
       "    <tr>\n",
       "      <th>3</th>\n",
       "      <td>0</td>\n",
       "      <td>0</td>\n",
       "      <td>0</td>\n",
       "      <td>0</td>\n",
       "      <td>0</td>\n",
       "      <td>0</td>\n",
       "      <td>0</td>\n",
       "      <td>0</td>\n",
       "      <td>0</td>\n",
       "      <td>0</td>\n",
       "      <td>...</td>\n",
       "      <td>0</td>\n",
       "      <td>0</td>\n",
       "      <td>0</td>\n",
       "      <td>0</td>\n",
       "      <td>0</td>\n",
       "      <td>0</td>\n",
       "      <td>0</td>\n",
       "      <td>0</td>\n",
       "      <td>0</td>\n",
       "      <td>0</td>\n",
       "    </tr>\n",
       "    <tr>\n",
       "      <th>4</th>\n",
       "      <td>0</td>\n",
       "      <td>0</td>\n",
       "      <td>0</td>\n",
       "      <td>0</td>\n",
       "      <td>0</td>\n",
       "      <td>0</td>\n",
       "      <td>0</td>\n",
       "      <td>0</td>\n",
       "      <td>0</td>\n",
       "      <td>0</td>\n",
       "      <td>...</td>\n",
       "      <td>0</td>\n",
       "      <td>0</td>\n",
       "      <td>0</td>\n",
       "      <td>0</td>\n",
       "      <td>0</td>\n",
       "      <td>0</td>\n",
       "      <td>0</td>\n",
       "      <td>0</td>\n",
       "      <td>0</td>\n",
       "      <td>0</td>\n",
       "    </tr>\n",
       "  </tbody>\n",
       "</table>\n",
       "<p>5 rows × 2254 columns</p>\n",
       "</div>"
      ],
      "text/plain": [
       "   p_able  p_absolutely  p_access  p_accessible  p_accommodate  \\\n",
       "0       0             0         0             0              0   \n",
       "1       0             0         0             0              0   \n",
       "2       0             0         0             0              0   \n",
       "3       0             0         0             0              0   \n",
       "4       0             0         0             0              0   \n",
       "\n",
       "   p_accommodation  p_across  p_actually  p_add  p_adequate  ...  n_worry  \\\n",
       "0                0         0           0      0           0  ...        0   \n",
       "1                0         0           0      0           0  ...        0   \n",
       "2                0         0           0      0           0  ...        0   \n",
       "3                0         0           0      0           0  ...        0   \n",
       "4                0         0           0      0           0  ...        0   \n",
       "\n",
       "   n_worth  n_would  n_write  n_wrong  n_year  n_yes  n_yet  n_young  rating  \n",
       "0        0        0        0        0       0      0      0        0       1  \n",
       "1        0        0        0        0       0      0      0        0       1  \n",
       "2        0        0        0        0       0      0      0        0       1  \n",
       "3        0        0        0        0       0      0      0        0       0  \n",
       "4        0        0        0        0       0      0      0        0       0  \n",
       "\n",
       "[5 rows x 2254 columns]"
      ]
     },
     "execution_count": 24,
     "metadata": {},
     "output_type": "execute_result"
    }
   ],
   "source": [
    "review_train.head()"
   ]
  },
  {
   "cell_type": "code",
   "execution_count": 25,
   "id": "b235e37d",
   "metadata": {},
   "outputs": [
    {
     "data": {
      "text/plain": [
       "(4267, 2254)"
      ]
     },
     "execution_count": 25,
     "metadata": {},
     "output_type": "execute_result"
    }
   ],
   "source": [
    "review_test.shape"
   ]
  },
  {
   "cell_type": "markdown",
   "id": "128ef759",
   "metadata": {},
   "source": [
    "- review_train and review_test has same fetureas"
   ]
  },
  {
   "cell_type": "markdown",
   "id": "4b10343f",
   "metadata": {},
   "source": [
    "**Positive**"
   ]
  },
  {
   "cell_type": "code",
   "execution_count": 31,
   "id": "98edee35",
   "metadata": {},
   "outputs": [],
   "source": [
    "X_train_p=review_train.filter(regex=\"^p_[a-zA_Z]+$\")\n",
    "y_train_p=review_train['rating']\n",
    "\n",
    "X_test_p=review_test.filter(regex=\"^p_[a-zA_Z]+$\")"
   ]
  },
  {
   "cell_type": "code",
   "execution_count": 32,
   "id": "7ccb8313",
   "metadata": {},
   "outputs": [],
   "source": [
    "review_p_logitstic=LogisticRegression(max_iter=10000)\n",
    "review_p_logitstic.fit(X_train_p,y_train_p)\n",
    "review_p_logitstic.predict(X_test_p)\n",
    "coefficients_p=review_p_logitstic.coef_[0]"
   ]
  },
  {
   "cell_type": "code",
   "execution_count": 33,
   "id": "97fd0058",
   "metadata": {},
   "outputs": [
    {
     "data": {
      "text/html": [
       "<div>\n",
       "<style scoped>\n",
       "    .dataframe tbody tr th:only-of-type {\n",
       "        vertical-align: middle;\n",
       "    }\n",
       "\n",
       "    .dataframe tbody tr th {\n",
       "        vertical-align: top;\n",
       "    }\n",
       "\n",
       "    .dataframe thead th {\n",
       "        text-align: right;\n",
       "    }\n",
       "</style>\n",
       "<table border=\"1\" class=\"dataframe\">\n",
       "  <thead>\n",
       "    <tr style=\"text-align: right;\">\n",
       "      <th></th>\n",
       "      <th>coefficients</th>\n",
       "    </tr>\n",
       "  </thead>\n",
       "  <tbody>\n",
       "    <tr>\n",
       "      <th>p_trouble</th>\n",
       "      <td>1.905804</td>\n",
       "    </tr>\n",
       "    <tr>\n",
       "      <th>p_soon</th>\n",
       "      <td>1.779778</td>\n",
       "    </tr>\n",
       "    <tr>\n",
       "      <th>p_everything</th>\n",
       "      <td>1.582010</td>\n",
       "    </tr>\n",
       "    <tr>\n",
       "      <th>p_courtesy</th>\n",
       "      <td>1.387352</td>\n",
       "    </tr>\n",
       "    <tr>\n",
       "      <th>p_gift</th>\n",
       "      <td>1.386109</td>\n",
       "    </tr>\n",
       "    <tr>\n",
       "      <th>...</th>\n",
       "      <td>...</td>\n",
       "    </tr>\n",
       "    <tr>\n",
       "      <th>p_ok</th>\n",
       "      <td>-1.561925</td>\n",
       "    </tr>\n",
       "    <tr>\n",
       "      <th>p_generally</th>\n",
       "      <td>-1.580823</td>\n",
       "    </tr>\n",
       "    <tr>\n",
       "      <th>p_since</th>\n",
       "      <td>-1.586812</td>\n",
       "    </tr>\n",
       "    <tr>\n",
       "      <th>p_functional</th>\n",
       "      <td>-1.643971</td>\n",
       "    </tr>\n",
       "    <tr>\n",
       "      <th>p_entrance</th>\n",
       "      <td>-1.688207</td>\n",
       "    </tr>\n",
       "  </tbody>\n",
       "</table>\n",
       "<p>961 rows × 1 columns</p>\n",
       "</div>"
      ],
      "text/plain": [
       "              coefficients\n",
       "p_trouble         1.905804\n",
       "p_soon            1.779778\n",
       "p_everything      1.582010\n",
       "p_courtesy        1.387352\n",
       "p_gift            1.386109\n",
       "...                    ...\n",
       "p_ok             -1.561925\n",
       "p_generally      -1.580823\n",
       "p_since          -1.586812\n",
       "p_functional     -1.643971\n",
       "p_entrance       -1.688207\n",
       "\n",
       "[961 rows x 1 columns]"
      ]
     },
     "execution_count": 33,
     "metadata": {},
     "output_type": "execute_result"
    }
   ],
   "source": [
    "good_review_counts = pd.DataFrame(\n",
    "    {\"coefficients\": coefficients_p},\n",
    "    index=postive_cols\n",
    ").sort_values(\"coefficients\", ascending=False)\n",
    "good_review_counts"
   ]
  },
  {
   "cell_type": "code",
   "execution_count": 34,
   "id": "f02f8fbe",
   "metadata": {},
   "outputs": [
    {
     "data": {
      "image/png": "[encoded data removed]",
      "text/plain": [
       "<Figure size 1080x360 with 1 Axes>"
      ]
     },
     "metadata": {
      "needs_background": "light"
     },
     "output_type": "display_data"
    }
   ],
   "source": [
    "good_review_counts.head(20).plot(kind=\"bar\", figsize=(15, 5), legend=False)\n",
    "plt.title(\"The 20 highest model coefficients indicating positive reviews\")\n",
    "plt.ylabel(\"Coefficients\")\n",
    "plt.xticks(rotation=45)\n",
    "plt.show()"
   ]
  },
  {
   "cell_type": "code",
   "execution_count": 35,
   "id": "2e03860b",
   "metadata": {},
   "outputs": [
    {
     "name": "stdout",
     "output_type": "stream",
     "text": [
      "Top 20 good reviews key words are :Index(['p_trouble', 'p_soon', 'p_everything', 'p_courtesy', 'p_gift',\n",
      "       'p_incredible', 'p_outstanding', 'p_exceptional', 'p_pantry',\n",
      "       'p_already', 'p_amazingly', 'p_environment', 'p_round', 'p_earl',\n",
      "       'p_superb', 'p_perfect', 'p_wonderful', 'p_hour', 'p_bridge',\n",
      "       'p_fantastic'],\n",
      "      dtype='object')\n"
     ]
    }
   ],
   "source": [
    "print(f'Top 20 good reviews key words are :{good_review_counts.index[:20]}')"
   ]
  },
  {
   "cell_type": "markdown",
   "id": "37595470",
   "metadata": {},
   "source": [
    "**negative review**"
   ]
  },
  {
   "cell_type": "code",
   "execution_count": 36,
   "id": "e76aa652",
   "metadata": {},
   "outputs": [],
   "source": [
    "# define X_train and y_train\n",
    "X_train_n=review_train.filter(regex=\"^n_[a-zA_Z]+$\")\n",
    "y_train_n=review_train['rating']\n",
    "\n",
    "X_test_n=review_test.filter(regex=\"^n_[a-zA_Z]+$\")"
   ]
  },
  {
   "cell_type": "code",
   "execution_count": 37,
   "id": "701d241f",
   "metadata": {},
   "outputs": [],
   "source": [
    "# modeling\n",
    "review_n_logitstic=LogisticRegression(max_iter=10000)\n",
    "# fit\n",
    "review_n_logitstic.fit(X_train_n,y_train_n)\n",
    "review_n_logitstic.predict(X_test_n)\n",
    "coefficients_n=review_n_logitstic.coef_[0]"
   ]
  },
  {
   "cell_type": "code",
   "execution_count": 38,
   "id": "67324104",
   "metadata": {},
   "outputs": [
    {
     "data": {
      "text/html": [
       "<div>\n",
       "<style scoped>\n",
       "    .dataframe tbody tr th:only-of-type {\n",
       "        vertical-align: middle;\n",
       "    }\n",
       "\n",
       "    .dataframe tbody tr th {\n",
       "        vertical-align: top;\n",
       "    }\n",
       "\n",
       "    .dataframe thead th {\n",
       "        text-align: right;\n",
       "    }\n",
       "</style>\n",
       "<table border=\"1\" class=\"dataframe\">\n",
       "  <thead>\n",
       "    <tr style=\"text-align: right;\">\n",
       "      <th></th>\n",
       "      <th>coefficients</th>\n",
       "    </tr>\n",
       "  </thead>\n",
       "  <tbody>\n",
       "    <tr>\n",
       "      <th>n_join</th>\n",
       "      <td>2.100427</td>\n",
       "    </tr>\n",
       "    <tr>\n",
       "      <th>n_apologetic</th>\n",
       "      <td>1.778592</td>\n",
       "    </tr>\n",
       "    <tr>\n",
       "      <th>n_criticism</th>\n",
       "      <td>1.586588</td>\n",
       "    </tr>\n",
       "    <tr>\n",
       "      <th>n_nothing</th>\n",
       "      <td>1.538944</td>\n",
       "    </tr>\n",
       "    <tr>\n",
       "      <th>n_tricky</th>\n",
       "      <td>1.487170</td>\n",
       "    </tr>\n",
       "    <tr>\n",
       "      <th>...</th>\n",
       "      <td>...</td>\n",
       "    </tr>\n",
       "    <tr>\n",
       "      <th>n_third</th>\n",
       "      <td>-1.475148</td>\n",
       "    </tr>\n",
       "    <tr>\n",
       "      <th>n_shabby</th>\n",
       "      <td>-1.601904</td>\n",
       "    </tr>\n",
       "    <tr>\n",
       "      <th>n_terrible</th>\n",
       "      <td>-1.644780</td>\n",
       "    </tr>\n",
       "    <tr>\n",
       "      <th>n_dusty</th>\n",
       "      <td>-1.650908</td>\n",
       "    </tr>\n",
       "    <tr>\n",
       "      <th>n_basic</th>\n",
       "      <td>-1.665829</td>\n",
       "    </tr>\n",
       "  </tbody>\n",
       "</table>\n",
       "<p>1292 rows × 1 columns</p>\n",
       "</div>"
      ],
      "text/plain": [
       "              coefficients\n",
       "n_join            2.100427\n",
       "n_apologetic      1.778592\n",
       "n_criticism       1.586588\n",
       "n_nothing         1.538944\n",
       "n_tricky          1.487170\n",
       "...                    ...\n",
       "n_third          -1.475148\n",
       "n_shabby         -1.601904\n",
       "n_terrible       -1.644780\n",
       "n_dusty          -1.650908\n",
       "n_basic          -1.665829\n",
       "\n",
       "[1292 rows x 1 columns]"
      ]
     },
     "execution_count": 38,
     "metadata": {},
     "output_type": "execute_result"
    }
   ],
   "source": [
    "bad_review_counts = pd.DataFrame(\n",
    "    {\"coefficients\": coefficients_n},\n",
    "    index=negtive_cols\n",
    ").sort_values(\"coefficients\", ascending=False)\n",
    "bad_review_counts"
   ]
  },
  {
   "cell_type": "code",
   "execution_count": 41,
   "id": "064df1e9",
   "metadata": {},
   "outputs": [
    {
     "data": {
      "image/png": "[encoded data removed]",
      "text/plain": [
       "<Figure size 1080x360 with 1 Axes>"
      ]
     },
     "metadata": {
      "needs_background": "light"
     },
     "output_type": "display_data"
    }
   ],
   "source": [
    "bad_review_counts.head(20).plot(kind=\"bar\", figsize=(15, 5), legend=False,color='red')\n",
    "plt.title(\"The 20 highest model coefficients indicating negeitive reviews\")\n",
    "plt.ylabel(\"Coefficients\")\n",
    "plt.xticks(rotation=45)\n",
    "plt.show()"
   ]
  },
  {
   "cell_type": "code",
   "execution_count": 40,
   "id": "6edf3137",
   "metadata": {},
   "outputs": [
    {
     "name": "stdout",
     "output_type": "stream",
     "text": [
      "Top 20 bad reviews key words are :Index(['n_join', 'n_apologetic', 'n_criticism', 'n_nothing', 'n_tricky',\n",
      "       'n_pick', 'n_excellent', 'n_minor', 'n_dislike', 'n_instruction',\n",
      "       'n_wonderful', 'n_soon', 'n_slight', 'n_within', 'n_challenge',\n",
      "       'n_five', 'n_medium', 'n_drawer', 'n_luxury', 'n_arrangement'],\n",
      "      dtype='object')\n"
     ]
    }
   ],
   "source": [
    "print(f'Top 20 bad reviews key words are :{bad_review_counts.index[:20]}')"
   ]
  },
  {
   "cell_type": "markdown",
   "id": "30ac0b16",
   "metadata": {},
   "source": [
    "### c. Reduce the dimensionality of the dataset using PCA, what is the relationship between the number of dimensions and run-time for a logistic regression?"
   ]
  },
  {
   "cell_type": "code",
   "execution_count": 39,
   "id": "b25a2cde",
   "metadata": {},
   "outputs": [
    {
     "name": "stdout",
     "output_type": "stream",
     "text": [
      "There are 2743 features in the train and test df, max_n_components=2743\n"
     ]
    }
   ],
   "source": [
    "print(f\"There are {X_train.shape[1]} features in the train and test df, max_n_components={X_train.shape[1]}\")"
   ]
  },
  {
   "cell_type": "markdown",
   "id": "5e0e135b",
   "metadata": {},
   "source": [
    "**Condition**:\n",
    "- max_iter=1000,max_n_components=99(real max_n_components=2743), I don't use 2743 as the dataset is too big, the runing time is too long."
   ]
  },
  {
   "cell_type": "code",
   "execution_count": 40,
   "id": "b1ad1869",
   "metadata": {},
   "outputs": [],
   "source": [
    "lst_n=list(range(1,100,1))\n",
    "# define pipline,\n",
    "from time import perf_counter\n",
    "lst_time=[]\n",
    "lst_n=list(range(1,100,1))\n",
    "for n in list(range(1,100,1)):\n",
    "    start_time = perf_counter()\n",
    "    estimators = [('normalise', StandardScaler()), \n",
    "                  ('reduce_dim', PCA(n_components=n)),\n",
    "                  ('logistic', LogisticRegression(max_iter=1000))] \n",
    "\n",
    "    pipe = Pipeline(estimators)\n",
    "    pipe.fit(X_train,y_train)\n",
    "    pipe.score(X_test,y_test)\n",
    "    end_time = perf_counter()\n",
    "    lst_time.append(end_time-start_time)\n",
    "    #print(n,end_time-start_time)"
   ]
  },
  {
   "cell_type": "code",
   "execution_count": 41,
   "id": "3a750c76",
   "metadata": {},
   "outputs": [],
   "source": [
    "# make running time into df\n",
    "data={'n':lst_n,'time':lst_time}\n",
    "df_time=pd.DataFrame.from_dict(data)"
   ]
  },
  {
   "cell_type": "code",
   "execution_count": 42,
   "id": "562104df",
   "metadata": {},
   "outputs": [
    {
     "data": {
      "text/html": [
       "<div>\n",
       "<style scoped>\n",
       "    .dataframe tbody tr th:only-of-type {\n",
       "        vertical-align: middle;\n",
       "    }\n",
       "\n",
       "    .dataframe tbody tr th {\n",
       "        vertical-align: top;\n",
       "    }\n",
       "\n",
       "    .dataframe thead th {\n",
       "        text-align: right;\n",
       "    }\n",
       "</style>\n",
       "<table border=\"1\" class=\"dataframe\">\n",
       "  <thead>\n",
       "    <tr style=\"text-align: right;\">\n",
       "      <th></th>\n",
       "      <th>n</th>\n",
       "      <th>time</th>\n",
       "    </tr>\n",
       "  </thead>\n",
       "  <tbody>\n",
       "    <tr>\n",
       "      <th>1</th>\n",
       "      <td>2</td>\n",
       "      <td>2.181354</td>\n",
       "    </tr>\n",
       "  </tbody>\n",
       "</table>\n",
       "</div>"
      ],
      "text/plain": [
       "   n      time\n",
       "1  2  2.181354"
      ]
     },
     "execution_count": 42,
     "metadata": {},
     "output_type": "execute_result"
    }
   ],
   "source": [
    "# min n=2 time =1.96 s\n",
    "min_running_time=df_time.sort_values(by='time',ascending=True).head(1)\n",
    "min_running_time"
   ]
  },
  {
   "cell_type": "code",
   "execution_count": 43,
   "id": "61313ca3",
   "metadata": {},
   "outputs": [
    {
     "data": {
      "text/html": [
       "<div>\n",
       "<style scoped>\n",
       "    .dataframe tbody tr th:only-of-type {\n",
       "        vertical-align: middle;\n",
       "    }\n",
       "\n",
       "    .dataframe tbody tr th {\n",
       "        vertical-align: top;\n",
       "    }\n",
       "\n",
       "    .dataframe thead th {\n",
       "        text-align: right;\n",
       "    }\n",
       "</style>\n",
       "<table border=\"1\" class=\"dataframe\">\n",
       "  <thead>\n",
       "    <tr style=\"text-align: right;\">\n",
       "      <th></th>\n",
       "      <th>n</th>\n",
       "      <th>time</th>\n",
       "    </tr>\n",
       "  </thead>\n",
       "  <tbody>\n",
       "    <tr>\n",
       "      <th>0</th>\n",
       "      <td>1</td>\n",
       "      <td>4.007464</td>\n",
       "    </tr>\n",
       "  </tbody>\n",
       "</table>\n",
       "</div>"
      ],
      "text/plain": [
       "   n      time\n",
       "0  1  4.007464"
      ]
     },
     "execution_count": 43,
     "metadata": {},
     "output_type": "execute_result"
    }
   ],
   "source": [
    "# max n=1 time =3.87 s\n",
    "max_running_time=df_time.sort_values(by='time',ascending=True).tail(1)\n",
    "max_running_time"
   ]
  },
  {
   "cell_type": "code",
   "execution_count": 44,
   "id": "f5849ffb",
   "metadata": {},
   "outputs": [
    {
     "data": {
      "text/html": [
       "<div>\n",
       "<style scoped>\n",
       "    .dataframe tbody tr th:only-of-type {\n",
       "        vertical-align: middle;\n",
       "    }\n",
       "\n",
       "    .dataframe tbody tr th {\n",
       "        vertical-align: top;\n",
       "    }\n",
       "\n",
       "    .dataframe thead th {\n",
       "        text-align: right;\n",
       "    }\n",
       "</style>\n",
       "<table border=\"1\" class=\"dataframe\">\n",
       "  <thead>\n",
       "    <tr style=\"text-align: right;\">\n",
       "      <th></th>\n",
       "      <th>time</th>\n",
       "    </tr>\n",
       "  </thead>\n",
       "  <tbody>\n",
       "    <tr>\n",
       "      <th>mean</th>\n",
       "      <td>2.996715</td>\n",
       "    </tr>\n",
       "    <tr>\n",
       "      <th>median</th>\n",
       "      <td>2.992281</td>\n",
       "    </tr>\n",
       "    <tr>\n",
       "      <th>min</th>\n",
       "      <td>2.181354</td>\n",
       "    </tr>\n",
       "    <tr>\n",
       "      <th>max</th>\n",
       "      <td>4.007464</td>\n",
       "    </tr>\n",
       "  </tbody>\n",
       "</table>\n",
       "</div>"
      ],
      "text/plain": [
       "            time\n",
       "mean    2.996715\n",
       "median  2.992281\n",
       "min     2.181354\n",
       "max     4.007464"
      ]
     },
     "execution_count": 44,
     "metadata": {},
     "output_type": "execute_result"
    }
   ],
   "source": [
    "df_time['time'].agg(['mean','median','min','max']).to_frame()"
   ]
  },
  {
   "cell_type": "code",
   "execution_count": 45,
   "id": "b59d31da",
   "metadata": {},
   "outputs": [
    {
     "data": {
      "image/png": "[encoded data removed]",
      "text/plain": [
       "<Figure size 864x432 with 1 Axes>"
      ]
     },
     "metadata": {
      "needs_background": "light"
     },
     "output_type": "display_data"
    }
   ],
   "source": [
    "#plot\n",
    "plt.figure(figsize=(12,6))\n",
    "plt.plot(df_time['n'],df_time['time'])\n",
    "plt.xlabel('n')\n",
    "plt.ylabel('time')\n",
    "plt.title('n_components vs running time')\n",
    "plt.show()"
   ]
  },
  {
   "cell_type": "markdown",
   "id": "235757ad",
   "metadata": {},
   "source": [
    "- parameters : max_iter=1000,maximun n_components=99(real maximum is n_components=2743) as the dataset is too big, the runing time is extraodinary long.\n",
    "- The mean(2.87s) and the median (2.08s) of the running time is really close. max_running_time is 5.0s and the minum of the runing is 1.94s given the range of n_components [1,99], n_components=2. I observed Maximum of the runing time 3.9s when n_components=1.\n",
    "- I don't observe a decrease trend by the increase of n_components. From n_components=2 to 99, there is upward trend when the  n_components increases.\n",
    "- Everytime when I rerun this code above I will get a slightly different time."
   ]
  },
  {
   "cell_type": "markdown",
   "id": "9e8d0a58",
   "metadata": {},
   "source": [
    "### d. List one advantage and one disadvantage of dimensionality reduction"
   ]
  },
  {
   "cell_type": "markdown",
   "id": "f13cee68",
   "metadata": {},
   "source": [
    "**advantage**:\n",
    "- Reduced Overfitting: High dimensional data is more likely to overfit the model. Dimensionality reduction reduces the number of features, which in turn reduces the chances of overfitting.\n",
    "\n",
    "- Improved Computational Efficiency: With a large number of features, the computational time and memory required to train and make predictions with a machine learning model increases. Dimensionality reduction can significantly reduce the computational time and memory required.\n",
    "\n",
    "\n",
    "**disadvantage**:\n",
    "- Loss of Information: Dimensionality reduction techniques discard some information from the original data. Depending on the technique and the threshold used, important information may be lost, which can lead to a decrease in the performance of the model.\n",
    "\n",
    "- Difficult to interpret the results: Lower dimensional data is easier to visualize, but it may be harder to interpret the results. For example, PCA provides a new set of uncorrelated variables, but it's difficult to know what the new set of variables represents."
   ]
  },
  {
   "cell_type": "markdown",
   "id": "e20a743f",
   "metadata": {},
   "source": [
    "-----"
   ]
  },
  {
   "cell_type": "markdown",
   "id": "fe6f5fd6",
   "metadata": {},
   "source": [
    "## 2.Employ a K-Nearest Neighbour classifier on this dataset:"
   ]
  },
  {
   "cell_type": "markdown",
   "id": "f0e9d36b",
   "metadata": {},
   "source": [
    "### a. Fit a KNN model to this data. What is the accuracy score on the test set?"
   ]
  },
  {
   "cell_type": "code",
   "execution_count": 46,
   "id": "731c3416",
   "metadata": {},
   "outputs": [],
   "source": [
    "# recover train and test\n",
    "X_train=train_df.copy()\n",
    "X_train.drop('rating',axis=1,inplace=True)\n",
    "X_test=test_df.copy()\n",
    "X_test.drop('rating',axis=1,inplace=True)\n",
    "y_train=train_df['rating']\n",
    "y_test=test_df['rating']"
   ]
  },
  {
   "cell_type": "code",
   "execution_count": 47,
   "id": "8c225d30",
   "metadata": {},
   "outputs": [],
   "source": [
    "# scaler\n",
    "scaler=StandardScaler()\n",
    "scaler.fit(X_train)\n",
    "X_train_trans=scaler.transform(X_train)\n",
    "# x test scaler\n",
    "X_test_trans=scaler.transform(X_test)\n",
    "#knn\n",
    "knn=KNeighborsClassifier()\n",
    "knn.fit(X_train_trans,y_train)\n",
    "score=knn.score(X_test_trans,y_test)"
   ]
  },
  {
   "cell_type": "code",
   "execution_count": 48,
   "id": "8674de9f",
   "metadata": {},
   "outputs": [
    {
     "name": "stdout",
     "output_type": "stream",
     "text": [
      "The accuracy score of test set is 0.6367471291305367\n"
     ]
    }
   ],
   "source": [
    "print(f\"The accuracy score of test set is {score}\")"
   ]
  },
  {
   "cell_type": "markdown",
   "id": "845480ae",
   "metadata": {},
   "source": [
    "### b. KNN is a computationally expensive model. Reduce the number of observations (data points) in the dataset. What is the relationship between the number of observations and run-time for KNN?"
   ]
  },
  {
   "cell_type": "markdown",
   "id": "90701cf4",
   "metadata": {},
   "source": [
    "**plan**\n",
    "- plot the target distribution on train_df (orginal) and train_df (down sized). Compare them, see if they have a same distribution. I will use 90% of data points subset to run the test.\n",
    "- subset the train test df get 90%, 70%, 50% of data points.\n",
    "- Compare running time with knn on test accrucy scores."
   ]
  },
  {
   "cell_type": "code",
   "execution_count": 49,
   "id": "95b0a0a0",
   "metadata": {},
   "outputs": [
    {
     "data": {
      "text/plain": [
       "1    7373\n",
       "0    5425\n",
       "Name: rating, dtype: int64"
      ]
     },
     "execution_count": 49,
     "metadata": {},
     "output_type": "execute_result"
    }
   ],
   "source": [
    "train_df['rating'].value_counts()"
   ]
  },
  {
   "cell_type": "code",
   "execution_count": 50,
   "id": "aa319474",
   "metadata": {},
   "outputs": [
    {
     "data": {
      "text/plain": [
       "(12798, 2743)"
      ]
     },
     "execution_count": 50,
     "metadata": {},
     "output_type": "execute_result"
    }
   ],
   "source": [
    "X_train.shape"
   ]
  },
  {
   "cell_type": "code",
   "execution_count": 51,
   "id": "a163c015",
   "metadata": {},
   "outputs": [],
   "source": [
    "# 90% of the train data points\n",
    "X_train_down, y_train_down = resample(X_train,y_train, replace=True, n_samples=round(X_train.shape[0]*0.9),random_state=123)"
   ]
  },
  {
   "cell_type": "code",
   "execution_count": 52,
   "id": "45f29125",
   "metadata": {},
   "outputs": [
    {
     "data": {
      "text/plain": [
       "(11518, 2743)"
      ]
     },
     "execution_count": 52,
     "metadata": {},
     "output_type": "execute_result"
    }
   ],
   "source": [
    "X_train_down.shape"
   ]
  },
  {
   "cell_type": "code",
   "execution_count": 53,
   "id": "5c6c80b8",
   "metadata": {},
   "outputs": [
    {
     "data": {
      "image/png": "[encoded data removed]",
      "text/plain": [
       "<Figure size 1296x432 with 2 Axes>"
      ]
     },
     "metadata": {
      "needs_background": "light"
     },
     "output_type": "display_data"
    }
   ],
   "source": [
    "plt.figure(figsize=(18,6))\n",
    "plt.subplot(1,2,2)\n",
    "plt.title(\"train_down (rating) distribution\")\n",
    "y_train_down.value_counts().plot(kind='bar',color='red')\n",
    "plt.xlabel('good or bad')\n",
    "plt.ylabel('frequency')\n",
    "\n",
    "plt.subplot(1,2,1)\n",
    "plt.title('train_df rating distribution')\n",
    "train_df['rating'].value_counts().plot(kind='bar')\n",
    "plt.xlabel('good or bad')\n",
    "plt.ylabel('frequency')\n",
    "plt.show()"
   ]
  },
  {
   "cell_type": "markdown",
   "id": "869e631e",
   "metadata": {},
   "source": [
    "- down sized the df has same distribution as the original one. I can use  resample to get subset.\n",
    "- I will use iteration to expose the ruuning time and perctenage of dataset."
   ]
  },
  {
   "cell_type": "code",
   "execution_count": 54,
   "id": "bdd34f7b",
   "metadata": {},
   "outputs": [],
   "source": [
    "lst_pct=np.arange(0.3,1.1,0.1)\n",
    "lst_result=[]\n",
    "lst_acc_test=[]\n",
    "lst_acc_train=[]\n",
    "for pct in lst_pct:\n",
    "    start_time = perf_counter()\n",
    "    X_train_pct, y_train_pct = resample(X_train,y_train, replace=True, n_samples=round(X_train.shape[0]*pct),random_state=123)\n",
    "    \n",
    "    knn = [('normalise', StandardScaler()),('knn', KNeighborsClassifier())] \n",
    "\n",
    "    pipe = Pipeline(knn)\n",
    "    pipe.fit(X_train_pct,y_train_pct)\n",
    "    test_score=pipe.score(X_test,y_test)\n",
    "    train_score=pipe.score(X_train_pct,y_train_pct)\n",
    "    end_time = perf_counter()\n",
    "    time=end_time-start_time\n",
    "    lst_acc_test.append(test_score)\n",
    "    lst_acc_train.append(train_score)\n",
    "    lst_result.append(time)"
   ]
  },
  {
   "cell_type": "code",
   "execution_count": 55,
   "id": "2d47d2a2",
   "metadata": {},
   "outputs": [
    {
     "data": {
      "text/plain": [
       "array([0.3, 0.4, 0.5, 0.6, 0.7, 0.8, 0.9, 1. ])"
      ]
     },
     "execution_count": 55,
     "metadata": {},
     "output_type": "execute_result"
    }
   ],
   "source": [
    "#% pct of data\n",
    "lst_pct"
   ]
  },
  {
   "cell_type": "code",
   "execution_count": 56,
   "id": "865b494a",
   "metadata": {},
   "outputs": [
    {
     "data": {
      "image/png": "[encoded data removed]",
      "text/plain": [
       "<Figure size 864x432 with 1 Axes>"
      ]
     },
     "metadata": {
      "needs_background": "light"
     },
     "output_type": "display_data"
    }
   ],
   "source": [
    "plt.figure(figsize=(12,6))\n",
    "plt.plot(lst_pct,lst_result)\n",
    "plt.xlabel(\"data %\")\n",
    "plt.ylabel('time')\n",
    "plt.title('data pct vs running time')\n",
    "plt.show()"
   ]
  },
  {
   "cell_type": "code",
   "execution_count": 57,
   "id": "33b75886",
   "metadata": {},
   "outputs": [
    {
     "data": {
      "image/png": "[encoded data removed]",
      "text/plain": [
       "<Figure size 864x432 with 1 Axes>"
      ]
     },
     "metadata": {
      "needs_background": "light"
     },
     "output_type": "display_data"
    }
   ],
   "source": [
    "plt.figure(figsize=(12,6))\n",
    "plt.title(\"data pct vs accrucy score\")\n",
    "plt.plot(lst_pct,lst_acc_test,color='red',label='test')\n",
    "plt.plot(lst_pct,lst_acc_train,color='green',label='train')\n",
    "plt.xlabel(\"score\")\n",
    "plt.ylabel('time')\n",
    "plt.legend()\n",
    "plt.show()"
   ]
  },
  {
   "cell_type": "markdown",
   "id": "85154010",
   "metadata": {},
   "source": [
    "- Percentage of dataset in use and the running time, approximatly has a linear relationship between each other.\n",
    "- By the % of using data propotion increases the running time increases.\n",
    "- By the decrease the dataset size, I observed there is obvious decrease on train accuracy droped.\n",
    "- On the other hand, the test accuracy score has a slight downward trend by the decrease of dataset size.\n",
    "- What ever when change the % of dataset the test accuracy always stay low, about 10% lower than the test accuracy score, with means, the model we used is always overfitted."
   ]
  },
  {
   "cell_type": "markdown",
   "id": "dfb32fd0",
   "metadata": {},
   "source": [
    "### c. List one advantage and one disadvantage of reducing the number of observations."
   ]
  },
  {
   "cell_type": "markdown",
   "id": "3f15fc69",
   "metadata": {},
   "source": [
    "- Advantage: Reducing the number of observations can lead to a decrease in the amount of computational resources and time needed to analyze the data, which can be beneficial in situations where resources are limited.\n",
    "\n",
    "- Disadvantage: Reducing the number of observations can lead to a loss of information and a decrease in the statistical power of the analysis, which can make it more difficult to detect meaningful patterns or relationships in the data. This can also increase the chances of making Type II errors, where an effect is not detected when it actually exists."
   ]
  },
  {
   "cell_type": "markdown",
   "id": "06cbe959",
   "metadata": {},
   "source": [
    "### d. Use the dataset to find an optimal value for K in the KNN algorithm. You will need to split your dataset into train and validation sets."
   ]
  },
  {
   "cell_type": "markdown",
   "id": "8164008c",
   "metadata": {},
   "source": [
    "**Plan**\n",
    "- Split train and validation from original train\n",
    "- Instanitate \n",
    "- fit\n",
    "- predeict"
   ]
  },
  {
   "cell_type": "code",
   "execution_count": 58,
   "id": "26693c85",
   "metadata": {},
   "outputs": [
    {
     "data": {
      "text/plain": [
       "(12798, 2743)"
      ]
     },
     "execution_count": 58,
     "metadata": {},
     "output_type": "execute_result"
    }
   ],
   "source": [
    "X_train.shape"
   ]
  },
  {
   "cell_type": "code",
   "execution_count": 59,
   "id": "df6e8e7a",
   "metadata": {},
   "outputs": [],
   "source": [
    "# split new Train and validation\n",
    "X_train_1, X_validation, y_train_1, y_validation  = train_test_split(X_train,y_train, test_size = 0.3, \n",
    "                                                                                 random_state = 10)"
   ]
  },
  {
   "cell_type": "code",
   "execution_count": 60,
   "id": "929cc171",
   "metadata": {},
   "outputs": [],
   "source": [
    "### running time is super long ###\n",
    "K_lst=list(range(1,100,2))\n",
    "acc_validation=[]\n",
    "acc_train=[]\n",
    "for k in K_lst:\n",
    "    knn_v = [('normalise', StandardScaler()),('knn', KNeighborsClassifier(n_neighbors=k))]\n",
    "    pipe_v=Pipeline(knn_v)\n",
    "    pipe_v.fit(X_train_1,y_train_1)\n",
    "    acc_train.append(pipe_v.score(X_train_1,y_train_1))\n",
    "    acc_validation.append(pipe_v.score(X_validation,y_validation))\n",
    "    "
   ]
  },
  {
   "cell_type": "code",
   "execution_count": 61,
   "id": "75dba9d9",
   "metadata": {},
   "outputs": [
    {
     "data": {
      "text/html": [
       "<div>\n",
       "<style scoped>\n",
       "    .dataframe tbody tr th:only-of-type {\n",
       "        vertical-align: middle;\n",
       "    }\n",
       "\n",
       "    .dataframe tbody tr th {\n",
       "        vertical-align: top;\n",
       "    }\n",
       "\n",
       "    .dataframe thead th {\n",
       "        text-align: right;\n",
       "    }\n",
       "</style>\n",
       "<table border=\"1\" class=\"dataframe\">\n",
       "  <thead>\n",
       "    <tr style=\"text-align: right;\">\n",
       "      <th></th>\n",
       "      <th>k</th>\n",
       "      <th>score</th>\n",
       "    </tr>\n",
       "  </thead>\n",
       "  <tbody>\n",
       "    <tr>\n",
       "      <th>7</th>\n",
       "      <td>15</td>\n",
       "      <td>0.669531</td>\n",
       "    </tr>\n",
       "    <tr>\n",
       "      <th>10</th>\n",
       "      <td>21</td>\n",
       "      <td>0.668490</td>\n",
       "    </tr>\n",
       "    <tr>\n",
       "      <th>8</th>\n",
       "      <td>17</td>\n",
       "      <td>0.668490</td>\n",
       "    </tr>\n",
       "    <tr>\n",
       "      <th>9</th>\n",
       "      <td>19</td>\n",
       "      <td>0.668229</td>\n",
       "    </tr>\n",
       "    <tr>\n",
       "      <th>6</th>\n",
       "      <td>13</td>\n",
       "      <td>0.661979</td>\n",
       "    </tr>\n",
       "    <tr>\n",
       "      <th>11</th>\n",
       "      <td>23</td>\n",
       "      <td>0.660156</td>\n",
       "    </tr>\n",
       "    <tr>\n",
       "      <th>4</th>\n",
       "      <td>9</td>\n",
       "      <td>0.658594</td>\n",
       "    </tr>\n",
       "    <tr>\n",
       "      <th>5</th>\n",
       "      <td>11</td>\n",
       "      <td>0.658594</td>\n",
       "    </tr>\n",
       "    <tr>\n",
       "      <th>3</th>\n",
       "      <td>7</td>\n",
       "      <td>0.653125</td>\n",
       "    </tr>\n",
       "    <tr>\n",
       "      <th>14</th>\n",
       "      <td>29</td>\n",
       "      <td>0.652344</td>\n",
       "    </tr>\n",
       "  </tbody>\n",
       "</table>\n",
       "</div>"
      ],
      "text/plain": [
       "     k     score\n",
       "7   15  0.669531\n",
       "10  21  0.668490\n",
       "8   17  0.668490\n",
       "9   19  0.668229\n",
       "6   13  0.661979\n",
       "11  23  0.660156\n",
       "4    9  0.658594\n",
       "5   11  0.658594\n",
       "3    7  0.653125\n",
       "14  29  0.652344"
      ]
     },
     "execution_count": 61,
     "metadata": {},
     "output_type": "execute_result"
    }
   ],
   "source": [
    "# get k for max accrucy score.\n",
    "data={'k':K_lst,'score':acc_validation}\n",
    "acc_df=pd.DataFrame(data)\n",
    "acc_df=acc_df.sort_values(by='score',ascending=False).head(10)\n",
    "acc_df"
   ]
  },
  {
   "cell_type": "code",
   "execution_count": 62,
   "id": "10da5b1a",
   "metadata": {},
   "outputs": [
    {
     "data": {
      "image/png": "[encoded data removed]",
      "text/plain": [
       "<Figure size 864x432 with 1 Axes>"
      ]
     },
     "metadata": {
      "needs_background": "light"
     },
     "output_type": "display_data"
    }
   ],
   "source": [
    "plt.figure(figsize=(12,6))\n",
    "plt.xlabel('k')\n",
    "plt.ylabel('accrucy score')\n",
    "plt.title('k vs accrucy score')\n",
    "plt.plot(K_lst,acc_validation,label='validation')\n",
    "plt.plot(K_lst,acc_train,color='red',label='train')\n",
    "plt.grid()\n",
    "plt.legend()\n",
    "plt.axvline(x=acc_df['k'].iloc[0],color='r', linestyle='-')\n",
    "plt.show()"
   ]
  },
  {
   "cell_type": "code",
   "execution_count": 63,
   "id": "f49e9350",
   "metadata": {},
   "outputs": [
    {
     "data": {
      "text/plain": [
       "0.6470588235294118"
      ]
     },
     "execution_count": 63,
     "metadata": {},
     "output_type": "execute_result"
    }
   ],
   "source": [
    "knn_final=KNeighborsClassifier(n_neighbors=15)\n",
    "knn_final.fit(X_train,y_train)\n",
    "knn_final.score(X_test,y_test)"
   ]
  },
  {
   "cell_type": "markdown",
   "id": "6de396e5",
   "metadata": {},
   "source": [
    "- Best k from Knn model is 15, when k=15 I get 0.647 accrucy score on test set.\n",
    "- kNN don't work good with this dataset, the validation accuary score is alway below 0.65.\n",
    "- The Train accrucy score is always higher then the validation, this is overfitted. Data is leaking."
   ]
  },
  {
   "cell_type": "markdown",
   "id": "ab2e7177",
   "metadata": {},
   "source": [
    "### e. What is the issue with splitting the data into train and validation sets after performing vectorization?"
   ]
  },
  {
   "cell_type": "markdown",
   "id": "a0ce3673",
   "metadata": {},
   "source": [
    "- When splitting the data into a training set and a validation set after performing vectorization, there is a risk of information leakage. This occurs when information from the validation set is used to train the model, which can lead to overfitting and an overestimation of the model's performance.\n",
    "\n",
    "- If you perform vectorization on the entire dataset and then split it into training and validation sets, the vectorization process will extract features from the validation set and include them in the training set, which can lead to the model memorizing the validation set.\n",
    "- We can split Train and test beform vectorization, vectorization train first, and use the same vectorizator on the validation data."
   ]
  },
  {
   "cell_type": "markdown",
   "id": "cff259c9",
   "metadata": {},
   "source": [
    "---"
   ]
  },
  {
   "cell_type": "markdown",
   "id": "0aec50f3",
   "metadata": {},
   "source": [
    "## 3.Employ a Decision Tree classifier on this dataset:"
   ]
  },
  {
   "cell_type": "markdown",
   "id": "69a0946b",
   "metadata": {},
   "source": [
    "### a.Fit a decision tree model to this data. What is the accuracy score on the test set?"
   ]
  },
  {
   "cell_type": "code",
   "execution_count": 64,
   "id": "b9fb235c",
   "metadata": {},
   "outputs": [
    {
     "data": {
      "text/plain": [
       "0.701195219123506"
      ]
     },
     "execution_count": 64,
     "metadata": {},
     "output_type": "execute_result"
    }
   ],
   "source": [
    "# DT tree test acc score\n",
    "DT_tree=DecisionTreeClassifier()\n",
    "DT_tree.fit(X_train,y_train)\n",
    "DT_tree.score(X_test,y_test)"
   ]
  },
  {
   "cell_type": "code",
   "execution_count": 65,
   "id": "7698e347",
   "metadata": {},
   "outputs": [
    {
     "name": "stdout",
     "output_type": "stream",
     "text": [
      "accuracy score of DT tree is 0.701195219123506\n"
     ]
    }
   ],
   "source": [
    "print(f'accuracy score of DT tree is {DT_tree.score(X_test,y_test)}')"
   ]
  },
  {
   "cell_type": "markdown",
   "id": "ac3f3a76",
   "metadata": {},
   "source": [
    "### b. Use the data set (or a subsample) to find an optimal value for the maximum depth of the decision tree. You will need to split your data set into train and validation."
   ]
  },
  {
   "cell_type": "markdown",
   "id": "3f999bc7",
   "metadata": {},
   "source": [
    "**plan**\n",
    "- subset - validate distribution of subset\n",
    "- iteration\n"
   ]
  },
  {
   "cell_type": "code",
   "execution_count": 66,
   "id": "f6efc094",
   "metadata": {},
   "outputs": [
    {
     "data": {
      "text/plain": [
       "(12798,)"
      ]
     },
     "execution_count": 66,
     "metadata": {},
     "output_type": "execute_result"
    }
   ],
   "source": [
    "y_train.shape"
   ]
  },
  {
   "cell_type": "code",
   "execution_count": 67,
   "id": "339d1fa4",
   "metadata": {},
   "outputs": [
    {
     "data": {
      "image/png": "[encoded data removed]",
      "text/plain": [
       "<Figure size 432x288 with 1 Axes>"
      ]
     },
     "metadata": {
      "needs_background": "light"
     },
     "output_type": "display_data"
    }
   ],
   "source": [
    "y_train.sample(frac=0.7).value_counts().to_frame().plot(kind='bar',title='Distribution of subset train')\n",
    "plt.show()"
   ]
  },
  {
   "cell_type": "code",
   "execution_count": 68,
   "id": "b1655485",
   "metadata": {},
   "outputs": [
    {
     "data": {
      "image/png": "[encoded data removed]",
      "text/plain": [
       "<Figure size 432x288 with 1 Axes>"
      ]
     },
     "metadata": {
      "needs_background": "light"
     },
     "output_type": "display_data"
    }
   ],
   "source": [
    "y_train.value_counts().plot(kind='bar',title='Distribution of train')\n",
    "plt.show()"
   ]
  },
  {
   "cell_type": "markdown",
   "id": "0aeb58bb",
   "metadata": {},
   "source": [
    "- By the validation above, I can use smaple() in this bianary classification dataset, and I will get a subset with samilar distribution as the original \n",
    "dataset.\n",
    "- I will make a subset with 70% data points."
   ]
  },
  {
   "cell_type": "code",
   "execution_count": 69,
   "id": "3a997d72",
   "metadata": {},
   "outputs": [],
   "source": [
    "# get subset\n",
    "X_train_sub=X_train.sample(frac=0.7)\n",
    "y_train_sub=y_train.sample(frac=0.7)"
   ]
  },
  {
   "cell_type": "markdown",
   "id": "dc72c90d",
   "metadata": {},
   "source": [
    "- In this dataset, we alreday have Train and test data sepreately, so I don't need to split data into test and reminder.\n",
    "- Train contains train and validation data. (This is a reason for model overfit)"
   ]
  },
  {
   "cell_type": "markdown",
   "id": "37952c54",
   "metadata": {},
   "source": [
    "**iteration**"
   ]
  },
  {
   "cell_type": "code",
   "execution_count": 71,
   "id": "4f1e4279",
   "metadata": {},
   "outputs": [],
   "source": [
    "# split train set into train_1 and validation\n",
    "X_tain_1, X_validation, y_train, y_validation = train_test_split(X_train_sub, y_train_sub, random_state=1)"
   ]
  },
  {
   "cell_type": "code",
   "execution_count": 72,
   "id": "44819424",
   "metadata": {},
   "outputs": [],
   "source": [
    "DT_validation_score=[]\n",
    "max_depth_lst=list(range(1,100,5))\n",
    "for n in list(max_depth_lst):\n",
    "    DT_tree=DecisionTreeClassifier(max_depth=n)\n",
    "    DT_tree.fit(X_train_1,y_train_1)\n",
    "    validation_score=DT_tree.score(X_validation,y_validation)\n",
    "    DT_validation_score.append(validation_score)"
   ]
  },
  {
   "cell_type": "code",
   "execution_count": 74,
   "id": "e80e02a1",
   "metadata": {},
   "outputs": [
    {
     "data": {
      "text/plain": [
       "6"
      ]
     },
     "execution_count": 74,
     "metadata": {},
     "output_type": "execute_result"
    }
   ],
   "source": [
    "# I am using a max_depth_lst with 5 step\n",
    "max_index=np.array(DT_validation_score).argmax()+5\n",
    "max_index"
   ]
  },
  {
   "cell_type": "code",
   "execution_count": 75,
   "id": "4ff21afd",
   "metadata": {},
   "outputs": [
    {
     "data": {
      "image/png": "[encoded data removed]",
      "text/plain": [
       "<Figure size 864x432 with 1 Axes>"
      ]
     },
     "metadata": {
      "needs_background": "light"
     },
     "output_type": "display_data"
    }
   ],
   "source": [
    "plt.figure(figsize=(12,6))\n",
    "plt.plot(max_depth_lst,DT_validation_score)\n",
    "plt.plot(max_index,max(DT_validation_score),'ro') \n",
    "plt.grid()\n",
    "plt.show()"
   ]
  },
  {
   "cell_type": "markdown",
   "id": "15092126",
   "metadata": {},
   "source": [
    "- The best max_depth is 6. with max_depth range 1 to 96, step 5.\n",
    "- Working with a subset will decrease the accurcy of the model. Samller datset will decrease the predect power."
   ]
  },
  {
   "cell_type": "markdown",
   "id": "aadf0a36",
   "metadata": {},
   "source": [
    "### c. Provide two advantages of decision trees over KNN. Provide two weaknesses of decision trees (classification or regression trees)"
   ]
  },
  {
   "cell_type": "markdown",
   "id": "9b540832",
   "metadata": {},
   "source": [
    "**advantages:**\n",
    "\n",
    "- Decision trees are easy to interpret. The tree structure of a decision tree can be easily visualized, making it simple to understand how the model arrived at a particular decision.\n",
    "\n",
    "- Decision trees can handle both categorical and numerical features. KNN is based on distance measures, it requires scale before fit (in most cases), as a reslut it may case more time to run it. And it is mainly used for numerical features. Decision trees can handle categorical features as well.\n",
    "\n",
    "**weaknesses**\n",
    "\n",
    "- Decision trees are very likely to overfitting, especially when the tree is deep and has many branches. This occurs when the model is too complex and captures noise in the training data.\n",
    "\n",
    "- Decision trees are sensitive to small changes in the data. A small change in the training data can cause a large change in the structure of the tree, which can lead to poor generalization performance on unseen data."
   ]
  },
  {
   "cell_type": "markdown",
   "id": "c58e4233",
   "metadata": {},
   "source": [
    "---"
   ]
  },
  {
   "cell_type": "markdown",
   "id": "a30e4848",
   "metadata": {},
   "source": [
    "### 4.What is the purpose of the validation set, i.e., how is it different than the test set?"
   ]
  },
  {
   "cell_type": "markdown",
   "id": "5aa48d34",
   "metadata": {},
   "source": [
    "- Validation set is to provide an unbiased evaluation of a model's performance during the development phase. The validation set is used to tune the hyperparameters of a model, and to select the best model among different algorithms.\n",
    "\n",
    "- The test set, is used to provide an unbiased evaluation of the final model's performance, estimate the generalization performance of the model, which tells us how well the model will perform on unseen data.\n",
    "\n",
    "- The validation set is used for model selection, while the test set is used for performance evaluation.\n",
    "\n",
    "- Therefore, validation set is used during model development, while test set is used once the model development is finished, and we want to estimate the model's performance. The validation set is used to select the best model and its hyperparameters, while the test set is used to evaluate the performance of the final selected model."
   ]
  },
  {
   "cell_type": "markdown",
   "id": "7760f3b7",
   "metadata": {},
   "source": [
    "## 5. Re-run a decision tree or logistic regression on the data again:"
   ]
  },
  {
   "cell_type": "markdown",
   "id": "da06ac8b",
   "metadata": {},
   "source": [
    "### a. perform a 5-fold cross validation to optimize the hyperparameters of your model."
   ]
  },
  {
   "cell_type": "markdown",
   "id": "61532fac",
   "metadata": {},
   "source": [
    "- I will choose decision tree, as if I want to use logistic regression with no warning max_iter=10000, it will cost very long runing time.\n",
    "- No need to split data. Train dataset will play the role of reminder."
   ]
  },
  {
   "cell_type": "code",
   "execution_count": 93,
   "id": "1d6dde5a",
   "metadata": {},
   "outputs": [],
   "source": [
    "### a very long running time\n",
    "cross_validation_scores = []\n",
    "\n",
    "depth_lst = list(range(1,100,5))\n",
    "\n",
    "#Do some cross validation\n",
    "for n in depth_lst:\n",
    "    tree_cv = DecisionTreeClassifier(max_depth=n)\n",
    "    \n",
    "    cv_score = np.mean(cross_val_score(tree_cv, X_train, y_train, cv = 5))\n",
    "    \n",
    "    cross_validation_scores.append(cv_score)"
   ]
  },
  {
   "cell_type": "code",
   "execution_count": 94,
   "id": "9380516e",
   "metadata": {},
   "outputs": [
    {
     "name": "stdout",
     "output_type": "stream",
     "text": [
      "0.6961252259183275\n"
     ]
    }
   ],
   "source": [
    "print(cv_score)"
   ]
  },
  {
   "cell_type": "code",
   "execution_count": 95,
   "id": "a9eff0db",
   "metadata": {},
   "outputs": [
    {
     "data": {
      "text/plain": [
       "0.737537154406018"
      ]
     },
     "execution_count": 95,
     "metadata": {},
     "output_type": "execute_result"
    }
   ],
   "source": [
    "max(cross_validation_scores)"
   ]
  },
  {
   "cell_type": "code",
   "execution_count": 102,
   "id": "3c571307",
   "metadata": {},
   "outputs": [
    {
     "data": {
      "text/plain": [
       "[1, 6, 11, 16, 21, 26, 31, 36, 41, 46, 51, 56, 61, 66, 71, 76, 81, 86, 91, 96]"
      ]
     },
     "execution_count": 102,
     "metadata": {},
     "output_type": "execute_result"
    }
   ],
   "source": [
    "# list of max_depth\n",
    "depth_lst"
   ]
  },
  {
   "cell_type": "code",
   "execution_count": 96,
   "id": "12bd1b1c",
   "metadata": {},
   "outputs": [],
   "source": [
    "# get the max_depth for max cross_validation_scores\n",
    "max_index=np.array(cross_validation_scores).argmax()+5 "
   ]
  },
  {
   "cell_type": "code",
   "execution_count": 289,
   "id": "564e9bb1",
   "metadata": {},
   "outputs": [
    {
     "data": {
      "text/plain": [
       "1"
      ]
     },
     "execution_count": 289,
     "metadata": {},
     "output_type": "execute_result"
    }
   ],
   "source": [
    "np.array(cross_validation_scores).argmax()"
   ]
  },
  {
   "cell_type": "code",
   "execution_count": 109,
   "id": "dd65314f",
   "metadata": {},
   "outputs": [
    {
     "data": {
      "image/png": "[encoded data removed]",
      "text/plain": [
       "<Figure size 864x432 with 1 Axes>"
      ]
     },
     "metadata": {
      "needs_background": "light"
     },
     "output_type": "display_data"
    }
   ],
   "source": [
    "plt.figure(figsize=(12,6))\n",
    "plt.plot(depth_lst,cross_validation_scores)\n",
    "plt.plot(max_index,max(cross_validation_scores),'ro') \n",
    "plt.title('max_depth vs cross_validation_scores')\n",
    "plt.xlabel('max_depth')\n",
    "plt.ylabel('cross_validation_scores')\n",
    "plt.grid()\n",
    "plt.show()"
   ]
  },
  {
   "cell_type": "code",
   "execution_count": 108,
   "id": "c764e3e6",
   "metadata": {},
   "outputs": [
    {
     "name": "stdout",
     "output_type": "stream",
     "text": [
      "Best max_index for the model above is 6\n"
     ]
    }
   ],
   "source": [
    "print(f'Best max_index for the model above is {max_index}')"
   ]
  },
  {
   "cell_type": "code",
   "execution_count": 98,
   "id": "dd64fd03",
   "metadata": {},
   "outputs": [
    {
     "data": {
      "text/plain": [
       "0.7522849777361144"
      ]
     },
     "execution_count": 98,
     "metadata": {},
     "output_type": "execute_result"
    }
   ],
   "source": [
    "tree_final = DecisionTreeClassifier(max_depth=6)\n",
    "tree_final.fit(X_train,y_train)\n",
    "tree_final.score(X_test,y_test)"
   ]
  },
  {
   "cell_type": "markdown",
   "id": "6e1e0ed9",
   "metadata": {},
   "source": [
    "### b. What does your confusion matrix look like for your best model on the test set?"
   ]
  },
  {
   "cell_type": "code",
   "execution_count": 99,
   "id": "5aff6cd6",
   "metadata": {},
   "outputs": [
    {
     "data": {
      "text/html": [
       "<div>\n",
       "<style scoped>\n",
       "    .dataframe tbody tr th:only-of-type {\n",
       "        vertical-align: middle;\n",
       "    }\n",
       "\n",
       "    .dataframe tbody tr th {\n",
       "        vertical-align: top;\n",
       "    }\n",
       "\n",
       "    .dataframe thead th {\n",
       "        text-align: right;\n",
       "    }\n",
       "</style>\n",
       "<table border=\"1\" class=\"dataframe\">\n",
       "  <thead>\n",
       "    <tr style=\"text-align: right;\">\n",
       "      <th></th>\n",
       "      <th>Predicted negtive rating</th>\n",
       "      <th>Predicted positive rating</th>\n",
       "    </tr>\n",
       "  </thead>\n",
       "  <tbody>\n",
       "    <tr>\n",
       "      <th>True negtive rating</th>\n",
       "      <td>1269</td>\n",
       "      <td>540</td>\n",
       "    </tr>\n",
       "    <tr>\n",
       "      <th>True positive rating</th>\n",
       "      <td>517</td>\n",
       "      <td>1941</td>\n",
       "    </tr>\n",
       "  </tbody>\n",
       "</table>\n",
       "</div>"
      ],
      "text/plain": [
       "                      Predicted negtive rating  Predicted positive rating\n",
       "True negtive rating                       1269                        540\n",
       "True positive rating                       517                       1941"
      ]
     },
     "metadata": {},
     "output_type": "display_data"
    }
   ],
   "source": [
    "# Get class predictions\n",
    "y_pred = tree_final.predict(X_test)\n",
    "\n",
    "# Generate confusion matrix\n",
    "cf_matrix = confusion_matrix(y_test, y_pred)\n",
    "\n",
    "# label rows and columns\n",
    "cf_df = pd.DataFrame(\n",
    "    cf_matrix, \n",
    "    columns=[\"Predicted negtive rating\", \"Predicted positive rating\"],\n",
    "    index=[\"True negtive rating\", \"True positive rating\"]\n",
    ")\n",
    "\n",
    "display(cf_df)"
   ]
  },
  {
   "cell_type": "code",
   "execution_count": 105,
   "id": "6f0a58af",
   "metadata": {},
   "outputs": [
    {
     "data": {
      "text/plain": [
       "<sklearn.metrics._plot.confusion_matrix.ConfusionMatrixDisplay at 0x1d8bbab50d0>"
      ]
     },
     "execution_count": 105,
     "metadata": {},
     "output_type": "execute_result"
    },
    {
     "data": {
      "image/png": "[encoded data removed]",
      "text/plain": [
       "<Figure size 432x288 with 2 Axes>"
      ]
     },
     "metadata": {
      "needs_background": "light"
     },
     "output_type": "display_data"
    }
   ],
   "source": [
    "ConfusionMatrixDisplay.from_estimator(tree_final, X_test, y_test)"
   ]
  },
  {
   "cell_type": "code",
   "execution_count": 107,
   "id": "09a6429a",
   "metadata": {},
   "outputs": [
    {
     "data": {
      "text/plain": [
       "<sklearn.metrics._plot.confusion_matrix.ConfusionMatrixDisplay at 0x1d891c274c0>"
      ]
     },
     "execution_count": 107,
     "metadata": {},
     "output_type": "execute_result"
    },
    {
     "data": {
      "image/png": "[encoded data removed]",
      "text/plain": [
       "<Figure size 432x288 with 2 Axes>"
      ]
     },
     "metadata": {
      "needs_background": "light"
     },
     "output_type": "display_data"
    }
   ],
   "source": [
    "ConfusionMatrixDisplay.from_estimator(tree_final, X_test, y_test,normalize='true')"
   ]
  },
  {
   "cell_type": "code",
   "execution_count": 108,
   "id": "aa08bcb6",
   "metadata": {},
   "outputs": [
    {
     "name": "stdout",
     "output_type": "stream",
     "text": [
      "              precision    recall  f1-score   support\n",
      "\n",
      "           0       0.71      0.70      0.71      1809\n",
      "           1       0.78      0.79      0.79      2458\n",
      "\n",
      "    accuracy                           0.75      4267\n",
      "   macro avg       0.75      0.75      0.75      4267\n",
      "weighted avg       0.75      0.75      0.75      4267\n",
      "\n"
     ]
    }
   ],
   "source": [
    "from sklearn.metrics import classification_report\n",
    "\n",
    "report_initial = classification_report(y_test, y_pred)\n",
    "print(report_initial)"
   ]
  },
  {
   "cell_type": "markdown",
   "id": "de5a7561",
   "metadata": {},
   "source": [
    "## 6. Create one new feature of your choice:"
   ]
  },
  {
   "cell_type": "markdown",
   "id": "c5abc876",
   "metadata": {},
   "source": [
    "### a.Explain your new feature and why you consider it will improve accuracy."
   ]
  },
  {
   "cell_type": "markdown",
   "id": "4d925684",
   "metadata": {},
   "source": [
    "- Thake a close look at dataset, I am interested with `Review_Total_Negative_Word_Counts`, and `Review_Total_Positive_Word_Counts`.\n",
    "- Based on the column `Review_Total_Negative_Word_Counts`, and `Review_Total_Positive_Word_Counts`. I will create a new column `Positve_words_rate`\n",
    "\n",
    "**plan**:\n",
    "\n",
    "\n",
    "$$ Positve_words_rate=\\frac{Positve _words_rate}{(Review_Total_Negative_Word_Counts+Review_Total_Positive_Word_Counts)} $$\n",
    "\n",
    "\n",
    "**Reason new fearture may improve accurcy**:\n",
    "1. A review with more positive words in it, may has a higher possibility this review is good review. \n",
    "2. people alwyas has herd behavior, if a Hotel has higher positive words rate, this business may get more visiting in the feature.\n",
    "These reasons above make me believe that `Positve_words_rate` may improve accuracy"
   ]
  },
  {
   "cell_type": "markdown",
   "id": "8fa47f3e",
   "metadata": {},
   "source": [
    "**Train set**"
   ]
  },
  {
   "cell_type": "code",
   "execution_count": 216,
   "id": "202098ed",
   "metadata": {},
   "outputs": [
    {
     "data": {
      "text/html": [
       "<div>\n",
       "<style scoped>\n",
       "    .dataframe tbody tr th:only-of-type {\n",
       "        vertical-align: middle;\n",
       "    }\n",
       "\n",
       "    .dataframe tbody tr th {\n",
       "        vertical-align: top;\n",
       "    }\n",
       "\n",
       "    .dataframe thead th {\n",
       "        text-align: right;\n",
       "    }\n",
       "</style>\n",
       "<table border=\"1\" class=\"dataframe\">\n",
       "  <thead>\n",
       "    <tr style=\"text-align: right;\">\n",
       "      <th></th>\n",
       "      <th>Additional_Number_of_Scoring</th>\n",
       "      <th>Average_Score</th>\n",
       "      <th>Review_Total_Negative_Word_Counts</th>\n",
       "      <th>Total_Number_of_Reviews</th>\n",
       "      <th>Review_Total_Positive_Word_Counts</th>\n",
       "      <th>Total_Number_of_Reviews_Reviewer_Has_Given</th>\n",
       "      <th>days_since_review</th>\n",
       "      <th>lat</th>\n",
       "      <th>lng</th>\n",
       "      <th>weekday_of_review</th>\n",
       "      <th>...</th>\n",
       "      <th>n_worry</th>\n",
       "      <th>n_worth</th>\n",
       "      <th>n_would</th>\n",
       "      <th>n_write</th>\n",
       "      <th>n_wrong</th>\n",
       "      <th>n_year</th>\n",
       "      <th>n_yes</th>\n",
       "      <th>n_yet</th>\n",
       "      <th>n_young</th>\n",
       "      <th>rating</th>\n",
       "    </tr>\n",
       "  </thead>\n",
       "  <tbody>\n",
       "    <tr>\n",
       "      <th>0</th>\n",
       "      <td>620</td>\n",
       "      <td>9.0</td>\n",
       "      <td>0</td>\n",
       "      <td>1974</td>\n",
       "      <td>164</td>\n",
       "      <td>1</td>\n",
       "      <td>562</td>\n",
       "      <td>51.506558</td>\n",
       "      <td>-0.004514</td>\n",
       "      <td>1</td>\n",
       "      <td>...</td>\n",
       "      <td>0</td>\n",
       "      <td>0</td>\n",
       "      <td>0</td>\n",
       "      <td>0</td>\n",
       "      <td>0</td>\n",
       "      <td>0</td>\n",
       "      <td>0</td>\n",
       "      <td>0</td>\n",
       "      <td>0</td>\n",
       "      <td>1</td>\n",
       "    </tr>\n",
       "    <tr>\n",
       "      <th>1</th>\n",
       "      <td>1258</td>\n",
       "      <td>9.4</td>\n",
       "      <td>6</td>\n",
       "      <td>4204</td>\n",
       "      <td>4</td>\n",
       "      <td>5</td>\n",
       "      <td>276</td>\n",
       "      <td>51.502435</td>\n",
       "      <td>-0.000250</td>\n",
       "      <td>0</td>\n",
       "      <td>...</td>\n",
       "      <td>0</td>\n",
       "      <td>0</td>\n",
       "      <td>0</td>\n",
       "      <td>0</td>\n",
       "      <td>0</td>\n",
       "      <td>0</td>\n",
       "      <td>0</td>\n",
       "      <td>0</td>\n",
       "      <td>0</td>\n",
       "      <td>1</td>\n",
       "    </tr>\n",
       "    <tr>\n",
       "      <th>2</th>\n",
       "      <td>995</td>\n",
       "      <td>8.1</td>\n",
       "      <td>2</td>\n",
       "      <td>3826</td>\n",
       "      <td>38</td>\n",
       "      <td>1</td>\n",
       "      <td>129</td>\n",
       "      <td>51.504348</td>\n",
       "      <td>-0.033444</td>\n",
       "      <td>0</td>\n",
       "      <td>...</td>\n",
       "      <td>0</td>\n",
       "      <td>0</td>\n",
       "      <td>0</td>\n",
       "      <td>0</td>\n",
       "      <td>0</td>\n",
       "      <td>0</td>\n",
       "      <td>0</td>\n",
       "      <td>0</td>\n",
       "      <td>0</td>\n",
       "      <td>1</td>\n",
       "    </tr>\n",
       "    <tr>\n",
       "      <th>3</th>\n",
       "      <td>853</td>\n",
       "      <td>8.4</td>\n",
       "      <td>7</td>\n",
       "      <td>2726</td>\n",
       "      <td>10</td>\n",
       "      <td>10</td>\n",
       "      <td>164</td>\n",
       "      <td>51.507377</td>\n",
       "      <td>0.038657</td>\n",
       "      <td>0</td>\n",
       "      <td>...</td>\n",
       "      <td>0</td>\n",
       "      <td>0</td>\n",
       "      <td>0</td>\n",
       "      <td>0</td>\n",
       "      <td>0</td>\n",
       "      <td>0</td>\n",
       "      <td>0</td>\n",
       "      <td>0</td>\n",
       "      <td>0</td>\n",
       "      <td>0</td>\n",
       "    </tr>\n",
       "    <tr>\n",
       "      <th>4</th>\n",
       "      <td>1243</td>\n",
       "      <td>8.1</td>\n",
       "      <td>11</td>\n",
       "      <td>6608</td>\n",
       "      <td>8</td>\n",
       "      <td>69</td>\n",
       "      <td>639</td>\n",
       "      <td>51.513556</td>\n",
       "      <td>-0.180002</td>\n",
       "      <td>1</td>\n",
       "      <td>...</td>\n",
       "      <td>0</td>\n",
       "      <td>0</td>\n",
       "      <td>0</td>\n",
       "      <td>0</td>\n",
       "      <td>0</td>\n",
       "      <td>0</td>\n",
       "      <td>0</td>\n",
       "      <td>0</td>\n",
       "      <td>0</td>\n",
       "      <td>0</td>\n",
       "    </tr>\n",
       "  </tbody>\n",
       "</table>\n",
       "<p>5 rows × 2744 columns</p>\n",
       "</div>"
      ],
      "text/plain": [
       "   Additional_Number_of_Scoring  Average_Score  \\\n",
       "0                           620            9.0   \n",
       "1                          1258            9.4   \n",
       "2                           995            8.1   \n",
       "3                           853            8.4   \n",
       "4                          1243            8.1   \n",
       "\n",
       "   Review_Total_Negative_Word_Counts  Total_Number_of_Reviews  \\\n",
       "0                                  0                     1974   \n",
       "1                                  6                     4204   \n",
       "2                                  2                     3826   \n",
       "3                                  7                     2726   \n",
       "4                                 11                     6608   \n",
       "\n",
       "   Review_Total_Positive_Word_Counts  \\\n",
       "0                                164   \n",
       "1                                  4   \n",
       "2                                 38   \n",
       "3                                 10   \n",
       "4                                  8   \n",
       "\n",
       "   Total_Number_of_Reviews_Reviewer_Has_Given  days_since_review        lat  \\\n",
       "0                                           1                562  51.506558   \n",
       "1                                           5                276  51.502435   \n",
       "2                                           1                129  51.504348   \n",
       "3                                          10                164  51.507377   \n",
       "4                                          69                639  51.513556   \n",
       "\n",
       "        lng  weekday_of_review  ...  n_worry  n_worth  n_would  n_write  \\\n",
       "0 -0.004514                  1  ...        0        0        0        0   \n",
       "1 -0.000250                  0  ...        0        0        0        0   \n",
       "2 -0.033444                  0  ...        0        0        0        0   \n",
       "3  0.038657                  0  ...        0        0        0        0   \n",
       "4 -0.180002                  1  ...        0        0        0        0   \n",
       "\n",
       "   n_wrong  n_year  n_yes  n_yet  n_young  rating  \n",
       "0        0       0      0      0        0       1  \n",
       "1        0       0      0      0        0       1  \n",
       "2        0       0      0      0        0       1  \n",
       "3        0       0      0      0        0       0  \n",
       "4        0       0      0      0        0       0  \n",
       "\n",
       "[5 rows x 2744 columns]"
      ]
     },
     "execution_count": 216,
     "metadata": {},
     "output_type": "execute_result"
    }
   ],
   "source": [
    "train_feature=train_df.copy()\n",
    "train_feature.head()"
   ]
  },
  {
   "cell_type": "code",
   "execution_count": 217,
   "id": "deac73d6",
   "metadata": {},
   "outputs": [
    {
     "data": {
      "text/html": [
       "<div>\n",
       "<style scoped>\n",
       "    .dataframe tbody tr th:only-of-type {\n",
       "        vertical-align: middle;\n",
       "    }\n",
       "\n",
       "    .dataframe tbody tr th {\n",
       "        vertical-align: top;\n",
       "    }\n",
       "\n",
       "    .dataframe thead th {\n",
       "        text-align: right;\n",
       "    }\n",
       "</style>\n",
       "<table border=\"1\" class=\"dataframe\">\n",
       "  <thead>\n",
       "    <tr style=\"text-align: right;\">\n",
       "      <th></th>\n",
       "      <th>Additional_Number_of_Scoring</th>\n",
       "      <th>Average_Score</th>\n",
       "      <th>Review_Total_Negative_Word_Counts</th>\n",
       "      <th>Total_Number_of_Reviews</th>\n",
       "      <th>Review_Total_Positive_Word_Counts</th>\n",
       "      <th>Total_Number_of_Reviews_Reviewer_Has_Given</th>\n",
       "      <th>days_since_review</th>\n",
       "      <th>lat</th>\n",
       "      <th>lng</th>\n",
       "      <th>weekday_of_review</th>\n",
       "      <th>month_of_review</th>\n",
       "      <th>year_of_review</th>\n",
       "    </tr>\n",
       "  </thead>\n",
       "  <tbody>\n",
       "    <tr>\n",
       "      <th>0</th>\n",
       "      <td>620</td>\n",
       "      <td>9.0</td>\n",
       "      <td>0</td>\n",
       "      <td>1974</td>\n",
       "      <td>164</td>\n",
       "      <td>1</td>\n",
       "      <td>562</td>\n",
       "      <td>51.506558</td>\n",
       "      <td>-0.004514</td>\n",
       "      <td>1</td>\n",
       "      <td>1</td>\n",
       "      <td>2016</td>\n",
       "    </tr>\n",
       "    <tr>\n",
       "      <th>1</th>\n",
       "      <td>1258</td>\n",
       "      <td>9.4</td>\n",
       "      <td>6</td>\n",
       "      <td>4204</td>\n",
       "      <td>4</td>\n",
       "      <td>5</td>\n",
       "      <td>276</td>\n",
       "      <td>51.502435</td>\n",
       "      <td>-0.000250</td>\n",
       "      <td>0</td>\n",
       "      <td>10</td>\n",
       "      <td>2016</td>\n",
       "    </tr>\n",
       "    <tr>\n",
       "      <th>2</th>\n",
       "      <td>995</td>\n",
       "      <td>8.1</td>\n",
       "      <td>2</td>\n",
       "      <td>3826</td>\n",
       "      <td>38</td>\n",
       "      <td>1</td>\n",
       "      <td>129</td>\n",
       "      <td>51.504348</td>\n",
       "      <td>-0.033444</td>\n",
       "      <td>0</td>\n",
       "      <td>3</td>\n",
       "      <td>2017</td>\n",
       "    </tr>\n",
       "    <tr>\n",
       "      <th>3</th>\n",
       "      <td>853</td>\n",
       "      <td>8.4</td>\n",
       "      <td>7</td>\n",
       "      <td>2726</td>\n",
       "      <td>10</td>\n",
       "      <td>10</td>\n",
       "      <td>164</td>\n",
       "      <td>51.507377</td>\n",
       "      <td>0.038657</td>\n",
       "      <td>0</td>\n",
       "      <td>2</td>\n",
       "      <td>2017</td>\n",
       "    </tr>\n",
       "    <tr>\n",
       "      <th>4</th>\n",
       "      <td>1243</td>\n",
       "      <td>8.1</td>\n",
       "      <td>11</td>\n",
       "      <td>6608</td>\n",
       "      <td>8</td>\n",
       "      <td>69</td>\n",
       "      <td>639</td>\n",
       "      <td>51.513556</td>\n",
       "      <td>-0.180002</td>\n",
       "      <td>1</td>\n",
       "      <td>11</td>\n",
       "      <td>2015</td>\n",
       "    </tr>\n",
       "    <tr>\n",
       "      <th>...</th>\n",
       "      <td>...</td>\n",
       "      <td>...</td>\n",
       "      <td>...</td>\n",
       "      <td>...</td>\n",
       "      <td>...</td>\n",
       "      <td>...</td>\n",
       "      <td>...</td>\n",
       "      <td>...</td>\n",
       "      <td>...</td>\n",
       "      <td>...</td>\n",
       "      <td>...</td>\n",
       "      <td>...</td>\n",
       "    </tr>\n",
       "    <tr>\n",
       "      <th>12793</th>\n",
       "      <td>68</td>\n",
       "      <td>7.8</td>\n",
       "      <td>2</td>\n",
       "      <td>264</td>\n",
       "      <td>20</td>\n",
       "      <td>2</td>\n",
       "      <td>185</td>\n",
       "      <td>51.522087</td>\n",
       "      <td>-0.108244</td>\n",
       "      <td>0</td>\n",
       "      <td>1</td>\n",
       "      <td>2017</td>\n",
       "    </tr>\n",
       "    <tr>\n",
       "      <th>12794</th>\n",
       "      <td>1172</td>\n",
       "      <td>7.8</td>\n",
       "      <td>10</td>\n",
       "      <td>5945</td>\n",
       "      <td>8</td>\n",
       "      <td>16</td>\n",
       "      <td>627</td>\n",
       "      <td>51.499981</td>\n",
       "      <td>-0.192879</td>\n",
       "      <td>6</td>\n",
       "      <td>11</td>\n",
       "      <td>2015</td>\n",
       "    </tr>\n",
       "    <tr>\n",
       "      <th>12795</th>\n",
       "      <td>562</td>\n",
       "      <td>8.5</td>\n",
       "      <td>0</td>\n",
       "      <td>1944</td>\n",
       "      <td>26</td>\n",
       "      <td>5</td>\n",
       "      <td>702</td>\n",
       "      <td>51.492418</td>\n",
       "      <td>-0.278470</td>\n",
       "      <td>1</td>\n",
       "      <td>9</td>\n",
       "      <td>2015</td>\n",
       "    </tr>\n",
       "    <tr>\n",
       "      <th>12796</th>\n",
       "      <td>154</td>\n",
       "      <td>8.0</td>\n",
       "      <td>13</td>\n",
       "      <td>768</td>\n",
       "      <td>6</td>\n",
       "      <td>2</td>\n",
       "      <td>24</td>\n",
       "      <td>51.512676</td>\n",
       "      <td>-0.186783</td>\n",
       "      <td>0</td>\n",
       "      <td>7</td>\n",
       "      <td>2017</td>\n",
       "    </tr>\n",
       "    <tr>\n",
       "      <th>12797</th>\n",
       "      <td>390</td>\n",
       "      <td>7.8</td>\n",
       "      <td>7</td>\n",
       "      <td>1717</td>\n",
       "      <td>9</td>\n",
       "      <td>2</td>\n",
       "      <td>526</td>\n",
       "      <td>51.492627</td>\n",
       "      <td>-0.228860</td>\n",
       "      <td>2</td>\n",
       "      <td>2</td>\n",
       "      <td>2016</td>\n",
       "    </tr>\n",
       "  </tbody>\n",
       "</table>\n",
       "<p>12798 rows × 12 columns</p>\n",
       "</div>"
      ],
      "text/plain": [
       "       Additional_Number_of_Scoring  Average_Score  \\\n",
       "0                               620            9.0   \n",
       "1                              1258            9.4   \n",
       "2                               995            8.1   \n",
       "3                               853            8.4   \n",
       "4                              1243            8.1   \n",
       "...                             ...            ...   \n",
       "12793                            68            7.8   \n",
       "12794                          1172            7.8   \n",
       "12795                           562            8.5   \n",
       "12796                           154            8.0   \n",
       "12797                           390            7.8   \n",
       "\n",
       "       Review_Total_Negative_Word_Counts  Total_Number_of_Reviews  \\\n",
       "0                                      0                     1974   \n",
       "1                                      6                     4204   \n",
       "2                                      2                     3826   \n",
       "3                                      7                     2726   \n",
       "4                                     11                     6608   \n",
       "...                                  ...                      ...   \n",
       "12793                                  2                      264   \n",
       "12794                                 10                     5945   \n",
       "12795                                  0                     1944   \n",
       "12796                                 13                      768   \n",
       "12797                                  7                     1717   \n",
       "\n",
       "       Review_Total_Positive_Word_Counts  \\\n",
       "0                                    164   \n",
       "1                                      4   \n",
       "2                                     38   \n",
       "3                                     10   \n",
       "4                                      8   \n",
       "...                                  ...   \n",
       "12793                                 20   \n",
       "12794                                  8   \n",
       "12795                                 26   \n",
       "12796                                  6   \n",
       "12797                                  9   \n",
       "\n",
       "       Total_Number_of_Reviews_Reviewer_Has_Given  days_since_review  \\\n",
       "0                                               1                562   \n",
       "1                                               5                276   \n",
       "2                                               1                129   \n",
       "3                                              10                164   \n",
       "4                                              69                639   \n",
       "...                                           ...                ...   \n",
       "12793                                           2                185   \n",
       "12794                                          16                627   \n",
       "12795                                           5                702   \n",
       "12796                                           2                 24   \n",
       "12797                                           2                526   \n",
       "\n",
       "             lat       lng  weekday_of_review  month_of_review  year_of_review  \n",
       "0      51.506558 -0.004514                  1                1            2016  \n",
       "1      51.502435 -0.000250                  0               10            2016  \n",
       "2      51.504348 -0.033444                  0                3            2017  \n",
       "3      51.507377  0.038657                  0                2            2017  \n",
       "4      51.513556 -0.180002                  1               11            2015  \n",
       "...          ...       ...                ...              ...             ...  \n",
       "12793  51.522087 -0.108244                  0                1            2017  \n",
       "12794  51.499981 -0.192879                  6               11            2015  \n",
       "12795  51.492418 -0.278470                  1                9            2015  \n",
       "12796  51.512676 -0.186783                  0                7            2017  \n",
       "12797  51.492627 -0.228860                  2                2            2016  \n",
       "\n",
       "[12798 rows x 12 columns]"
      ]
     },
     "execution_count": 217,
     "metadata": {},
     "output_type": "execute_result"
    }
   ],
   "source": [
    "# take a close look at the columns with out reviews or tags\n",
    "train_feature.iloc[:,0:12]"
   ]
  },
  {
   "cell_type": "code",
   "execution_count": 218,
   "id": "fa73c310",
   "metadata": {},
   "outputs": [],
   "source": [
    "# Positve_words_rate\n",
    "Positve_words_rate=round(train_feature['Review_Total_Positive_Word_Counts']/(train_feature['Review_Total_Negative_Word_Counts']+train_feature['Review_Total_Positive_Word_Counts']),2)"
   ]
  },
  {
   "cell_type": "code",
   "execution_count": 219,
   "id": "8652bd23",
   "metadata": {},
   "outputs": [
    {
     "data": {
      "text/html": [
       "<div>\n",
       "<style scoped>\n",
       "    .dataframe tbody tr th:only-of-type {\n",
       "        vertical-align: middle;\n",
       "    }\n",
       "\n",
       "    .dataframe tbody tr th {\n",
       "        vertical-align: top;\n",
       "    }\n",
       "\n",
       "    .dataframe thead th {\n",
       "        text-align: right;\n",
       "    }\n",
       "</style>\n",
       "<table border=\"1\" class=\"dataframe\">\n",
       "  <thead>\n",
       "    <tr style=\"text-align: right;\">\n",
       "      <th></th>\n",
       "      <th>pct</th>\n",
       "      <th>counts</th>\n",
       "    </tr>\n",
       "  </thead>\n",
       "  <tbody>\n",
       "    <tr>\n",
       "      <th>0</th>\n",
       "      <td>1.00</td>\n",
       "      <td>3035</td>\n",
       "    </tr>\n",
       "    <tr>\n",
       "      <th>1</th>\n",
       "      <td>0.00</td>\n",
       "      <td>879</td>\n",
       "    </tr>\n",
       "    <tr>\n",
       "      <th>2</th>\n",
       "      <td>0.50</td>\n",
       "      <td>392</td>\n",
       "    </tr>\n",
       "    <tr>\n",
       "      <th>3</th>\n",
       "      <td>0.33</td>\n",
       "      <td>217</td>\n",
       "    </tr>\n",
       "    <tr>\n",
       "      <th>4</th>\n",
       "      <td>0.38</td>\n",
       "      <td>167</td>\n",
       "    </tr>\n",
       "    <tr>\n",
       "      <th>...</th>\n",
       "      <td>...</td>\n",
       "      <td>...</td>\n",
       "    </tr>\n",
       "    <tr>\n",
       "      <th>96</th>\n",
       "      <td>0.97</td>\n",
       "      <td>15</td>\n",
       "    </tr>\n",
       "    <tr>\n",
       "      <th>97</th>\n",
       "      <td>0.96</td>\n",
       "      <td>15</td>\n",
       "    </tr>\n",
       "    <tr>\n",
       "      <th>98</th>\n",
       "      <td>0.01</td>\n",
       "      <td>10</td>\n",
       "    </tr>\n",
       "    <tr>\n",
       "      <th>99</th>\n",
       "      <td>0.98</td>\n",
       "      <td>9</td>\n",
       "    </tr>\n",
       "    <tr>\n",
       "      <th>100</th>\n",
       "      <td>0.99</td>\n",
       "      <td>1</td>\n",
       "    </tr>\n",
       "  </tbody>\n",
       "</table>\n",
       "<p>101 rows × 2 columns</p>\n",
       "</div>"
      ],
      "text/plain": [
       "      pct  counts\n",
       "0    1.00    3035\n",
       "1    0.00     879\n",
       "2    0.50     392\n",
       "3    0.33     217\n",
       "4    0.38     167\n",
       "..    ...     ...\n",
       "96   0.97      15\n",
       "97   0.96      15\n",
       "98   0.01      10\n",
       "99   0.98       9\n",
       "100  0.99       1\n",
       "\n",
       "[101 rows x 2 columns]"
      ]
     },
     "execution_count": 219,
     "metadata": {},
     "output_type": "execute_result"
    }
   ],
   "source": [
    "Ps_df=Positve_words_rate.value_counts().to_frame().reset_index()\n",
    "Ps_df.rename(columns={'index':\"pct\",0:'counts'},inplace=True)\n",
    "Ps_df"
   ]
  },
  {
   "cell_type": "code",
   "execution_count": 220,
   "id": "e5450f5f",
   "metadata": {},
   "outputs": [
    {
     "data": {
      "image/png": "[encoded data removed]",
      "text/plain": [
       "<Figure size 432x288 with 1 Axes>"
      ]
     },
     "metadata": {
      "needs_background": "light"
     },
     "output_type": "display_data"
    }
   ],
   "source": [
    "plt.figure()\n",
    "plt.xlim(0,1)\n",
    "plt.title('distribution of Positve_words_rate')\n",
    "plt.xlabel('%')\n",
    "plt.ylabel('counts')\n",
    "plt.bar(Ps_df['pct'],Ps_df['counts'])\n",
    "plt.show()"
   ]
  },
  {
   "cell_type": "code",
   "execution_count": 221,
   "id": "5d8bcb68",
   "metadata": {},
   "outputs": [],
   "source": [
    "# add new feature to train and test\n",
    "train_feature['Positve_words_rate']=Positve_words_rate"
   ]
  },
  {
   "cell_type": "code",
   "execution_count": 222,
   "id": "0da8efd8",
   "metadata": {},
   "outputs": [
    {
     "data": {
      "text/html": [
       "<div>\n",
       "<style scoped>\n",
       "    .dataframe tbody tr th:only-of-type {\n",
       "        vertical-align: middle;\n",
       "    }\n",
       "\n",
       "    .dataframe tbody tr th {\n",
       "        vertical-align: top;\n",
       "    }\n",
       "\n",
       "    .dataframe thead th {\n",
       "        text-align: right;\n",
       "    }\n",
       "</style>\n",
       "<table border=\"1\" class=\"dataframe\">\n",
       "  <thead>\n",
       "    <tr style=\"text-align: right;\">\n",
       "      <th></th>\n",
       "      <th>Additional_Number_of_Scoring</th>\n",
       "      <th>Average_Score</th>\n",
       "      <th>Review_Total_Negative_Word_Counts</th>\n",
       "      <th>Total_Number_of_Reviews</th>\n",
       "      <th>Review_Total_Positive_Word_Counts</th>\n",
       "      <th>Total_Number_of_Reviews_Reviewer_Has_Given</th>\n",
       "      <th>days_since_review</th>\n",
       "      <th>lat</th>\n",
       "      <th>lng</th>\n",
       "      <th>weekday_of_review</th>\n",
       "      <th>...</th>\n",
       "      <th>n_worth</th>\n",
       "      <th>n_would</th>\n",
       "      <th>n_write</th>\n",
       "      <th>n_wrong</th>\n",
       "      <th>n_year</th>\n",
       "      <th>n_yes</th>\n",
       "      <th>n_yet</th>\n",
       "      <th>n_young</th>\n",
       "      <th>rating</th>\n",
       "      <th>Positve_words_rate</th>\n",
       "    </tr>\n",
       "  </thead>\n",
       "  <tbody>\n",
       "    <tr>\n",
       "      <th>0</th>\n",
       "      <td>620</td>\n",
       "      <td>9.0</td>\n",
       "      <td>0</td>\n",
       "      <td>1974</td>\n",
       "      <td>164</td>\n",
       "      <td>1</td>\n",
       "      <td>562</td>\n",
       "      <td>51.506558</td>\n",
       "      <td>-0.004514</td>\n",
       "      <td>1</td>\n",
       "      <td>...</td>\n",
       "      <td>0</td>\n",
       "      <td>0</td>\n",
       "      <td>0</td>\n",
       "      <td>0</td>\n",
       "      <td>0</td>\n",
       "      <td>0</td>\n",
       "      <td>0</td>\n",
       "      <td>0</td>\n",
       "      <td>1</td>\n",
       "      <td>1.00</td>\n",
       "    </tr>\n",
       "    <tr>\n",
       "      <th>1</th>\n",
       "      <td>1258</td>\n",
       "      <td>9.4</td>\n",
       "      <td>6</td>\n",
       "      <td>4204</td>\n",
       "      <td>4</td>\n",
       "      <td>5</td>\n",
       "      <td>276</td>\n",
       "      <td>51.502435</td>\n",
       "      <td>-0.000250</td>\n",
       "      <td>0</td>\n",
       "      <td>...</td>\n",
       "      <td>0</td>\n",
       "      <td>0</td>\n",
       "      <td>0</td>\n",
       "      <td>0</td>\n",
       "      <td>0</td>\n",
       "      <td>0</td>\n",
       "      <td>0</td>\n",
       "      <td>0</td>\n",
       "      <td>1</td>\n",
       "      <td>0.40</td>\n",
       "    </tr>\n",
       "    <tr>\n",
       "      <th>2</th>\n",
       "      <td>995</td>\n",
       "      <td>8.1</td>\n",
       "      <td>2</td>\n",
       "      <td>3826</td>\n",
       "      <td>38</td>\n",
       "      <td>1</td>\n",
       "      <td>129</td>\n",
       "      <td>51.504348</td>\n",
       "      <td>-0.033444</td>\n",
       "      <td>0</td>\n",
       "      <td>...</td>\n",
       "      <td>0</td>\n",
       "      <td>0</td>\n",
       "      <td>0</td>\n",
       "      <td>0</td>\n",
       "      <td>0</td>\n",
       "      <td>0</td>\n",
       "      <td>0</td>\n",
       "      <td>0</td>\n",
       "      <td>1</td>\n",
       "      <td>0.95</td>\n",
       "    </tr>\n",
       "  </tbody>\n",
       "</table>\n",
       "<p>3 rows × 2745 columns</p>\n",
       "</div>"
      ],
      "text/plain": [
       "   Additional_Number_of_Scoring  Average_Score  \\\n",
       "0                           620            9.0   \n",
       "1                          1258            9.4   \n",
       "2                           995            8.1   \n",
       "\n",
       "   Review_Total_Negative_Word_Counts  Total_Number_of_Reviews  \\\n",
       "0                                  0                     1974   \n",
       "1                                  6                     4204   \n",
       "2                                  2                     3826   \n",
       "\n",
       "   Review_Total_Positive_Word_Counts  \\\n",
       "0                                164   \n",
       "1                                  4   \n",
       "2                                 38   \n",
       "\n",
       "   Total_Number_of_Reviews_Reviewer_Has_Given  days_since_review        lat  \\\n",
       "0                                           1                562  51.506558   \n",
       "1                                           5                276  51.502435   \n",
       "2                                           1                129  51.504348   \n",
       "\n",
       "        lng  weekday_of_review  ...  n_worth  n_would  n_write  n_wrong  \\\n",
       "0 -0.004514                  1  ...        0        0        0        0   \n",
       "1 -0.000250                  0  ...        0        0        0        0   \n",
       "2 -0.033444                  0  ...        0        0        0        0   \n",
       "\n",
       "   n_year  n_yes  n_yet  n_young  rating  Positve_words_rate  \n",
       "0       0      0      0        0       1                1.00  \n",
       "1       0      0      0        0       1                0.40  \n",
       "2       0      0      0        0       1                0.95  \n",
       "\n",
       "[3 rows x 2745 columns]"
      ]
     },
     "execution_count": 222,
     "metadata": {},
     "output_type": "execute_result"
    }
   ],
   "source": [
    "# check new feature in Train\n",
    "train_feature.head(3)"
   ]
  },
  {
   "cell_type": "markdown",
   "id": "9c9320f5",
   "metadata": {},
   "source": [
    "**Test set**"
   ]
  },
  {
   "cell_type": "markdown",
   "id": "d856b969",
   "metadata": {},
   "source": [
    "- In order to implement the model, I need to add a new feature in the test set as well.\n",
    "- Typically we dont do this, but in this case, we already have Train and test split at the begainning of the project."
   ]
  },
  {
   "cell_type": "code",
   "execution_count": 223,
   "id": "9b7e7bdc",
   "metadata": {},
   "outputs": [
    {
     "data": {
      "text/html": [
       "<div>\n",
       "<style scoped>\n",
       "    .dataframe tbody tr th:only-of-type {\n",
       "        vertical-align: middle;\n",
       "    }\n",
       "\n",
       "    .dataframe tbody tr th {\n",
       "        vertical-align: top;\n",
       "    }\n",
       "\n",
       "    .dataframe thead th {\n",
       "        text-align: right;\n",
       "    }\n",
       "</style>\n",
       "<table border=\"1\" class=\"dataframe\">\n",
       "  <thead>\n",
       "    <tr style=\"text-align: right;\">\n",
       "      <th></th>\n",
       "      <th>Additional_Number_of_Scoring</th>\n",
       "      <th>Average_Score</th>\n",
       "      <th>Review_Total_Negative_Word_Counts</th>\n",
       "      <th>Total_Number_of_Reviews</th>\n",
       "      <th>Review_Total_Positive_Word_Counts</th>\n",
       "      <th>Total_Number_of_Reviews_Reviewer_Has_Given</th>\n",
       "      <th>days_since_review</th>\n",
       "      <th>lat</th>\n",
       "      <th>lng</th>\n",
       "      <th>weekday_of_review</th>\n",
       "      <th>...</th>\n",
       "      <th>n_worry</th>\n",
       "      <th>n_worth</th>\n",
       "      <th>n_would</th>\n",
       "      <th>n_write</th>\n",
       "      <th>n_wrong</th>\n",
       "      <th>n_year</th>\n",
       "      <th>n_yes</th>\n",
       "      <th>n_yet</th>\n",
       "      <th>n_young</th>\n",
       "      <th>rating</th>\n",
       "    </tr>\n",
       "  </thead>\n",
       "  <tbody>\n",
       "    <tr>\n",
       "      <th>0</th>\n",
       "      <td>1005</td>\n",
       "      <td>8.3</td>\n",
       "      <td>0</td>\n",
       "      <td>3469</td>\n",
       "      <td>6</td>\n",
       "      <td>2</td>\n",
       "      <td>297</td>\n",
       "      <td>51.559096</td>\n",
       "      <td>-0.284704</td>\n",
       "      <td>0</td>\n",
       "      <td>...</td>\n",
       "      <td>0</td>\n",
       "      <td>0</td>\n",
       "      <td>0</td>\n",
       "      <td>0</td>\n",
       "      <td>0</td>\n",
       "      <td>0</td>\n",
       "      <td>0</td>\n",
       "      <td>0</td>\n",
       "      <td>0</td>\n",
       "      <td>0</td>\n",
       "    </tr>\n",
       "    <tr>\n",
       "      <th>1</th>\n",
       "      <td>487</td>\n",
       "      <td>8.8</td>\n",
       "      <td>46</td>\n",
       "      <td>1805</td>\n",
       "      <td>121</td>\n",
       "      <td>1</td>\n",
       "      <td>4</td>\n",
       "      <td>51.474469</td>\n",
       "      <td>-0.019428</td>\n",
       "      <td>6</td>\n",
       "      <td>...</td>\n",
       "      <td>0</td>\n",
       "      <td>0</td>\n",
       "      <td>0</td>\n",
       "      <td>0</td>\n",
       "      <td>0</td>\n",
       "      <td>0</td>\n",
       "      <td>0</td>\n",
       "      <td>0</td>\n",
       "      <td>0</td>\n",
       "      <td>1</td>\n",
       "    </tr>\n",
       "    <tr>\n",
       "      <th>2</th>\n",
       "      <td>570</td>\n",
       "      <td>9.3</td>\n",
       "      <td>0</td>\n",
       "      <td>2319</td>\n",
       "      <td>9</td>\n",
       "      <td>1</td>\n",
       "      <td>590</td>\n",
       "      <td>51.505696</td>\n",
       "      <td>-0.101525</td>\n",
       "      <td>1</td>\n",
       "      <td>...</td>\n",
       "      <td>0</td>\n",
       "      <td>0</td>\n",
       "      <td>0</td>\n",
       "      <td>0</td>\n",
       "      <td>0</td>\n",
       "      <td>0</td>\n",
       "      <td>0</td>\n",
       "      <td>0</td>\n",
       "      <td>0</td>\n",
       "      <td>1</td>\n",
       "    </tr>\n",
       "    <tr>\n",
       "      <th>3</th>\n",
       "      <td>2623</td>\n",
       "      <td>8.7</td>\n",
       "      <td>19</td>\n",
       "      <td>12158</td>\n",
       "      <td>0</td>\n",
       "      <td>2</td>\n",
       "      <td>269</td>\n",
       "      <td>51.500961</td>\n",
       "      <td>-0.116591</td>\n",
       "      <td>0</td>\n",
       "      <td>...</td>\n",
       "      <td>0</td>\n",
       "      <td>0</td>\n",
       "      <td>0</td>\n",
       "      <td>0</td>\n",
       "      <td>0</td>\n",
       "      <td>0</td>\n",
       "      <td>0</td>\n",
       "      <td>0</td>\n",
       "      <td>0</td>\n",
       "      <td>0</td>\n",
       "    </tr>\n",
       "    <tr>\n",
       "      <th>4</th>\n",
       "      <td>365</td>\n",
       "      <td>8.1</td>\n",
       "      <td>13</td>\n",
       "      <td>1567</td>\n",
       "      <td>0</td>\n",
       "      <td>2</td>\n",
       "      <td>373</td>\n",
       "      <td>51.515125</td>\n",
       "      <td>-0.160066</td>\n",
       "      <td>1</td>\n",
       "      <td>...</td>\n",
       "      <td>0</td>\n",
       "      <td>0</td>\n",
       "      <td>0</td>\n",
       "      <td>0</td>\n",
       "      <td>0</td>\n",
       "      <td>0</td>\n",
       "      <td>0</td>\n",
       "      <td>0</td>\n",
       "      <td>0</td>\n",
       "      <td>0</td>\n",
       "    </tr>\n",
       "  </tbody>\n",
       "</table>\n",
       "<p>5 rows × 2744 columns</p>\n",
       "</div>"
      ],
      "text/plain": [
       "   Additional_Number_of_Scoring  Average_Score  \\\n",
       "0                          1005            8.3   \n",
       "1                           487            8.8   \n",
       "2                           570            9.3   \n",
       "3                          2623            8.7   \n",
       "4                           365            8.1   \n",
       "\n",
       "   Review_Total_Negative_Word_Counts  Total_Number_of_Reviews  \\\n",
       "0                                  0                     3469   \n",
       "1                                 46                     1805   \n",
       "2                                  0                     2319   \n",
       "3                                 19                    12158   \n",
       "4                                 13                     1567   \n",
       "\n",
       "   Review_Total_Positive_Word_Counts  \\\n",
       "0                                  6   \n",
       "1                                121   \n",
       "2                                  9   \n",
       "3                                  0   \n",
       "4                                  0   \n",
       "\n",
       "   Total_Number_of_Reviews_Reviewer_Has_Given  days_since_review        lat  \\\n",
       "0                                           2                297  51.559096   \n",
       "1                                           1                  4  51.474469   \n",
       "2                                           1                590  51.505696   \n",
       "3                                           2                269  51.500961   \n",
       "4                                           2                373  51.515125   \n",
       "\n",
       "        lng  weekday_of_review  ...  n_worry  n_worth  n_would  n_write  \\\n",
       "0 -0.284704                  0  ...        0        0        0        0   \n",
       "1 -0.019428                  6  ...        0        0        0        0   \n",
       "2 -0.101525                  1  ...        0        0        0        0   \n",
       "3 -0.116591                  0  ...        0        0        0        0   \n",
       "4 -0.160066                  1  ...        0        0        0        0   \n",
       "\n",
       "   n_wrong  n_year  n_yes  n_yet  n_young  rating  \n",
       "0        0       0      0      0        0       0  \n",
       "1        0       0      0      0        0       1  \n",
       "2        0       0      0      0        0       1  \n",
       "3        0       0      0      0        0       0  \n",
       "4        0       0      0      0        0       0  \n",
       "\n",
       "[5 rows x 2744 columns]"
      ]
     },
     "execution_count": 223,
     "metadata": {},
     "output_type": "execute_result"
    }
   ],
   "source": [
    "test_feature=test_df.copy()\n",
    "test_feature.head()"
   ]
  },
  {
   "cell_type": "code",
   "execution_count": 224,
   "id": "8a2b3b44",
   "metadata": {},
   "outputs": [],
   "source": [
    "# create Positve_words_rate for test set\n",
    "Positve_words_rate_test=round(test_feature['Review_Total_Positive_Word_Counts']/(test_feature['Review_Total_Negative_Word_Counts']+test_feature['Review_Total_Positive_Word_Counts']),2)"
   ]
  },
  {
   "cell_type": "code",
   "execution_count": 225,
   "id": "b637b29d",
   "metadata": {},
   "outputs": [],
   "source": [
    "# add new feature to train and test\n",
    "test_feature['Positve_words_rate']=Positve_words_rate_test"
   ]
  },
  {
   "cell_type": "code",
   "execution_count": 226,
   "id": "f7d4b794",
   "metadata": {},
   "outputs": [
    {
     "data": {
      "text/plain": [
       "0       1.00\n",
       "1       0.72\n",
       "2       1.00\n",
       "3       0.00\n",
       "4       0.00\n",
       "        ... \n",
       "4262    1.00\n",
       "4263    0.00\n",
       "4264    0.43\n",
       "4265    0.29\n",
       "4266    0.53\n",
       "Name: Positve_words_rate, Length: 4267, dtype: float64"
      ]
     },
     "execution_count": 226,
     "metadata": {},
     "output_type": "execute_result"
    }
   ],
   "source": [
    "test_feature['Positve_words_rate']"
   ]
  },
  {
   "cell_type": "markdown",
   "id": "73f0d1a1",
   "metadata": {},
   "source": [
    "- Now I have new feature `Positve_words_rate` in bith train and test set."
   ]
  },
  {
   "cell_type": "code",
   "execution_count": 227,
   "id": "64541750",
   "metadata": {},
   "outputs": [],
   "source": [
    "# create new X_train and y_train\n",
    "X_train2=train_feature.drop('rating',axis=1)\n",
    "y_train2=train_feature['rating']"
   ]
  },
  {
   "cell_type": "code",
   "execution_count": 201,
   "id": "4c78d6fa",
   "metadata": {},
   "outputs": [],
   "source": [
    "# create new X_test and y_train\n",
    "X_test2=test_feature.drop('rating',axis=1)\n",
    "y_test2=test_feature['rating']"
   ]
  },
  {
   "cell_type": "markdown",
   "id": "7c1e2c6f",
   "metadata": {},
   "source": [
    "- check if new feature has a siginficant corr with the target using  SelectKBest"
   ]
  },
  {
   "cell_type": "code",
   "execution_count": 231,
   "id": "1f00d726",
   "metadata": {},
   "outputs": [
    {
     "data": {
      "text/plain": [
       "3"
      ]
     },
     "execution_count": 231,
     "metadata": {},
     "output_type": "execute_result"
    }
   ],
   "source": [
    "# 3 nans in the new feature\n",
    "X_train2[\"Positve_words_rate\"].isna().sum()"
   ]
  },
  {
   "cell_type": "code",
   "execution_count": 232,
   "id": "1478f98d",
   "metadata": {},
   "outputs": [],
   "source": [
    "X_train2[\"Positve_words_rate\"].fillna(0,inplace=True)"
   ]
  },
  {
   "cell_type": "code",
   "execution_count": 233,
   "id": "94ac8c2b",
   "metadata": {},
   "outputs": [
    {
     "data": {
      "text/plain": [
       "0"
      ]
     },
     "execution_count": 233,
     "metadata": {},
     "output_type": "execute_result"
    }
   ],
   "source": [
    "# check number of na\n",
    "X_train2[\"Positve_words_rate\"].isna().sum()"
   ]
  },
  {
   "cell_type": "code",
   "execution_count": 234,
   "id": "a955ff2d",
   "metadata": {},
   "outputs": [
    {
     "data": {
      "text/plain": [
       "0"
      ]
     },
     "execution_count": 234,
     "metadata": {},
     "output_type": "execute_result"
    }
   ],
   "source": [
    "# no nan in the x_test2\n",
    "X_test2[\"Positve_words_rate\"].isna().sum()"
   ]
  },
  {
   "cell_type": "code",
   "execution_count": 235,
   "id": "802156fa",
   "metadata": {},
   "outputs": [],
   "source": [
    "from sklearn.feature_selection import SelectKBest\n",
    "from sklearn.feature_selection import f_classif\n",
    "\n",
    "# Pull out features and target\n",
    "X = X_train2[['Positve_words_rate', 'Total_Number_of_Reviews_Reviewer_Has_Given']]\n",
    "y = y_train2\n",
    "\n",
    "# Instantiate KBest feature selector and fit\n",
    "my_KBest = SelectKBest(f_classif, k=1).fit(X, y)"
   ]
  },
  {
   "cell_type": "code",
   "execution_count": 236,
   "id": "1c65a94a",
   "metadata": {},
   "outputs": [
    {
     "data": {
      "text/plain": [
       "array([ True, False])"
      ]
     },
     "execution_count": 236,
     "metadata": {},
     "output_type": "execute_result"
    }
   ],
   "source": [
    "my_KBest.get_support()"
   ]
  },
  {
   "cell_type": "code",
   "execution_count": 237,
   "id": "c0befb8e",
   "metadata": {},
   "outputs": [
    {
     "data": {
      "text/plain": [
       "array([4.24890168e+03, 4.81729247e-01])"
      ]
     },
     "execution_count": 237,
     "metadata": {},
     "output_type": "execute_result"
    }
   ],
   "source": [
    "my_KBest.scores_"
   ]
  },
  {
   "cell_type": "markdown",
   "id": "76dfd577",
   "metadata": {},
   "source": [
    "- We can see that `Positve_words_rate` is actually a better predictor for `rating` than `Total_Number_of_Reviews_Reviewer_Has_Given`."
   ]
  },
  {
   "cell_type": "markdown",
   "id": "269beb92",
   "metadata": {},
   "source": [
    "### b.Run the model from question 5 again. You will have to re-optimize your hyperparameters. Has the accuracy score of your best model improved on the test set after adding the new feature you created?"
   ]
  },
  {
   "cell_type": "markdown",
   "id": "15b404a0",
   "metadata": {},
   "source": [
    "- Running the Tree model with new feature `Positve_words_rate`\n",
    "- max_depth range set 1 to 50 step 1, from the result from question 5, we can see whe the max_depth>50 almost no improvement on the cross_validation_score."
   ]
  },
  {
   "cell_type": "code",
   "execution_count": 267,
   "id": "a14d2899",
   "metadata": {},
   "outputs": [],
   "source": [
    "# running the Tree model again\n",
    "### the running speed is very slow.#####\n",
    "cross_validation_scores_2 = []\n",
    "\n",
    "depth_lst_2 = list(range(1,50))\n",
    "\n",
    "#Do some cross validation\n",
    "for n in depth_lst_2:\n",
    "    tree_cv_2 = DecisionTreeClassifier(max_depth=n)\n",
    "    \n",
    "    # the cross validation score (mean of scores from all folds)\n",
    "    cv_score_2 = np.mean(cross_val_score(tree_cv_2, X_train2, y_train2, cv = 5))\n",
    "    \n",
    "    cross_validation_scores_2.append(cv_score_2)"
   ]
  },
  {
   "cell_type": "code",
   "execution_count": 285,
   "id": "703563cf",
   "metadata": {},
   "outputs": [
    {
     "data": {
      "text/plain": [
       "5"
      ]
     },
     "execution_count": 285,
     "metadata": {},
     "output_type": "execute_result"
    }
   ],
   "source": [
    "# index start from 0\n",
    "max_index=np.array(cross_validation_scores_2).argmax()+1\n",
    "max_index"
   ]
  },
  {
   "cell_type": "code",
   "execution_count": 283,
   "id": "aeae60aa",
   "metadata": {},
   "outputs": [
    {
     "data": {
      "text/plain": [
       "0.7527745212973818"
      ]
     },
     "execution_count": 283,
     "metadata": {},
     "output_type": "execute_result"
    }
   ],
   "source": [
    "max(cross_validation_scores_2)"
   ]
  },
  {
   "cell_type": "code",
   "execution_count": 288,
   "id": "3df5e67a",
   "metadata": {},
   "outputs": [
    {
     "data": {
      "image/png": "[encoded data removed]",
      "text/plain": [
       "<Figure size 864x432 with 1 Axes>"
      ]
     },
     "metadata": {
      "needs_background": "light"
     },
     "output_type": "display_data"
    }
   ],
   "source": [
    "plt.figure(figsize=(12,6))\n",
    "plt.plot(depth_lst_2,cross_validation_scores_2)\n",
    "plt.plot(max_index,max(cross_validation_scores_2),'ro')\n",
    "plt.title('cross_validation_scores vs max_depth')\n",
    "plt.ylabel(\"cross_validation_score\")\n",
    "plt.xlabel('max_depth')\n",
    "plt.grid()\n",
    "plt.show()"
   ]
  },
  {
   "cell_type": "code",
   "execution_count": 281,
   "id": "e330fd22",
   "metadata": {},
   "outputs": [
    {
     "data": {
      "text/plain": [
       "0.7513475509725802"
      ]
     },
     "execution_count": 281,
     "metadata": {},
     "output_type": "execute_result"
    }
   ],
   "source": [
    "tree_final_2 = DecisionTreeClassifier(max_depth=6)\n",
    "tree_final_2.fit(X_train2,y_train2)\n",
    "tree_final_2.score(X_test2,y_test2)"
   ]
  },
  {
   "cell_type": "markdown",
   "id": "13315e4c",
   "metadata": {},
   "source": [
    "**confusion_matrix for new model**"
   ]
  },
  {
   "cell_type": "code",
   "execution_count": 276,
   "id": "bc93a50e",
   "metadata": {},
   "outputs": [
    {
     "data": {
      "text/html": [
       "<div>\n",
       "<style scoped>\n",
       "    .dataframe tbody tr th:only-of-type {\n",
       "        vertical-align: middle;\n",
       "    }\n",
       "\n",
       "    .dataframe tbody tr th {\n",
       "        vertical-align: top;\n",
       "    }\n",
       "\n",
       "    .dataframe thead th {\n",
       "        text-align: right;\n",
       "    }\n",
       "</style>\n",
       "<table border=\"1\" class=\"dataframe\">\n",
       "  <thead>\n",
       "    <tr style=\"text-align: right;\">\n",
       "      <th></th>\n",
       "      <th>Predicted negtive rating</th>\n",
       "      <th>Predicted positive rating</th>\n",
       "    </tr>\n",
       "  </thead>\n",
       "  <tbody>\n",
       "    <tr>\n",
       "      <th>True negtive rating</th>\n",
       "      <td>1265</td>\n",
       "      <td>544</td>\n",
       "    </tr>\n",
       "    <tr>\n",
       "      <th>True positive rating</th>\n",
       "      <td>531</td>\n",
       "      <td>1927</td>\n",
       "    </tr>\n",
       "  </tbody>\n",
       "</table>\n",
       "</div>"
      ],
      "text/plain": [
       "                      Predicted negtive rating  Predicted positive rating\n",
       "True negtive rating                       1265                        544\n",
       "True positive rating                       531                       1927"
      ]
     },
     "metadata": {},
     "output_type": "display_data"
    }
   ],
   "source": [
    "# Get class predictions\n",
    "y_pred2 = tree_final_2.predict(X_test2)\n",
    "\n",
    "# Generate confusion matrix\n",
    "cf_matrix = confusion_matrix(y_test2, y_pred2)\n",
    "\n",
    "# label rows and columns\n",
    "cf_df2 = pd.DataFrame(\n",
    "    cf_matrix, \n",
    "    columns=[\"Predicted negtive rating\", \"Predicted positive rating\"],\n",
    "    index=[\"True negtive rating\", \"True positive rating\"]\n",
    ")\n",
    "\n",
    "display(cf_df2)"
   ]
  },
  {
   "cell_type": "code",
   "execution_count": 278,
   "id": "5b6f391d",
   "metadata": {},
   "outputs": [
    {
     "data": {
      "text/plain": [
       "<sklearn.metrics._plot.confusion_matrix.ConfusionMatrixDisplay at 0x1d895a65b50>"
      ]
     },
     "execution_count": 278,
     "metadata": {},
     "output_type": "execute_result"
    },
    {
     "data": {
      "image/png": "[encoded data removed]",
      "text/plain": [
       "<Figure size 432x288 with 2 Axes>"
      ]
     },
     "metadata": {
      "needs_background": "light"
     },
     "output_type": "display_data"
    }
   ],
   "source": [
    "ConfusionMatrixDisplay.from_estimator(tree_final_2, X_test2, y_test2,normalize=\"true\")"
   ]
  },
  {
   "cell_type": "markdown",
   "id": "641cca42",
   "metadata": {},
   "source": [
    "- result: compare with Q5, the test acc is 0.7480665573002109, I don't think there is any improvement.\n",
    "- The False negtive % increases 0.1%.\n",
    "- I add a new funtion in the dataset. For the same performance I will choose the original model."
   ]
  },
  {
   "cell_type": "code",
   "execution_count": null,
   "id": "6b870401",
   "metadata": {},
   "outputs": [],
   "source": []
  }
 ],
 "metadata": {
  "kernelspec": {
   "display_name": "Python 3 (ipykernel)",
   "language": "python",
   "name": "python3"
  },
  "language_info": {
   "codemirror_mode": {
    "name": "ipython",
    "version": 3
   },
   "file_extension": ".py",
   "mimetype": "text/x-python",
   "name": "python",
   "nbconvert_exporter": "python",
   "pygments_lexer": "ipython3",
   "version": "3.9.7"
  }
 },
 "nbformat": 4,
 "nbformat_minor": 5
}
